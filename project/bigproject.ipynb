{
 "cells": [
  {
   "cell_type": "markdown",
   "metadata": {},
   "source": [
    "<div style=\"display: flex; align-items: center; margin-bottom: 20px;\">\n",
    "    <img src=\"https://www.armaxgroup.com.ua/wp-content/uploads/2023/04/ireland-long-stay-visa.jpeg\" \n",
    "         alt=\"Ireland Visa Image\" \n",
    "         style=\"width: 400px; margin-right: 20px; border-radius: 10px; box-shadow: 0 0 10px rgba(0,0,0,0.1);\"/>\n",
    "    <div style=\"max-width: 600px; font-family: Arial, sans-serif;\">\n",
    "        <h1 style=\"color: #2c3e50;\">Domestic Residence and Permissions Data Analysis</h1>\n",
    "        <p><strong>Developed by:</strong> Christiano Ferreira</p>\n",
    "    </div>\n",
    "</div>\n",
    "\n",
    "<h2 style=\"color: #2c3e50;\">Introduction</h2>\n",
    "<p style=\"font-size: 16px; line-height: 1.6;\">\n",
    "The dataset analyzed in this project is sourced from \n",
    "<a href=\"https://data.gov.ie/\" target=\"_blank\">Data.gov.ie</a>, a platform offering public access to government data in Ireland.\n",
    "The specific dataset used is titled <strong>\"Domestic Residence & Permissions Applications and Decisions by Year and Nationality\"</strong>,\n",
    "covering the years 2017 to 2024. It provides detailed information on the number of domestic residence and permission applications received by the Irish authorities each year,\n",
    "along with the corresponding decisions made, categorized as <em>\"Received,\" \"Granted,\"</em> and <em>\"Refused.\"</em>\n",
    "</p>\n"
   ]
  },
  {
   "cell_type": "markdown",
   "metadata": {},
   "source": [
    "## Summary of Libraries\n",
    "- **Pandas:** For data manipulation and handling tabular data.\n",
    "- **Plotly:** For creating rich, interactive visualizations and charts.\n",
    "- **Pycountry Convert:** For country-to-continent mapping.\n",
    "- **NumPy:** For numerical operations and data handling.\n",
    "- **Scikit-Learn:** For linear regression modeling and predictive analysis.\n"
   ]
  },
  {
   "cell_type": "code",
   "execution_count": 45,
   "metadata": {},
   "outputs": [],
   "source": [
    "import pandas as pd\n",
    "import plotly.express as px\n",
    "import plotly.graph_objects as go\n",
    "import pycountry_convert as pc\n",
    "import numpy as np\n",
    "from sklearn.linear_model import LinearRegression\n"
   ]
  },
  {
   "cell_type": "markdown",
   "metadata": {},
   "source": [
    "## Reading the Data\n",
    "The dataset is imported using Pandas. Values with `*` are replaced for statistical clarity.\n"
   ]
  },
  {
   "cell_type": "code",
   "execution_count": 46,
   "metadata": {},
   "outputs": [],
   "source": [
    "import pandas as pd\n",
    "\n",
    "# Reading the data directly from GitHub raw link\n",
    "url = \"https://raw.githubusercontent.com/corpuschris/PFDA/main/project/Domestic%20Residence%20and%20Permissions.csv\"\n",
    "data = pd.read_csv(url, encoding='latin1')\n",
    "\n",
    "# Data Cleaning and Transformation (fixed with proper NA handling)\n",
    "for col in data.columns[3:]:\n",
    "    data[col] = pd.to_numeric(data[col].replace('*', None), errors='coerce')\n",
    "\n",
    "# Filtering the data\n",
    "status_filters = [\"Received\", \"Refused\", \"Granted\"]\n",
    "filtered_data = data[data['Status'].isin(status_filters)]\n",
    "year_columns = ['2017', '2018', '2019', '2020', '2021', '2022', '2023', '2024']\n",
    "\n",
    "# Transforming data for analysis\n",
    "melted_data = filtered_data.melt(\n",
    "    id_vars=['Type', 'Status', 'Nationality'], \n",
    "    value_vars=year_columns, \n",
    "    var_name='Year', \n",
    "    value_name='Applications'\n",
    ")\n",
    "melted_data['Applications'] = pd.to_numeric(melted_data['Applications'], errors='coerce')\n"
   ]
  },
  {
   "cell_type": "markdown",
   "metadata": {},
   "source": [
    "## Calculating Approval and Refusal Rates\n",
    "This step calculates the proportion of granted and refused applications relative to the total applications for each nationality and year.\n"
   ]
  },
  {
   "cell_type": "code",
   "execution_count": 47,
   "metadata": {},
   "outputs": [],
   "source": [
    "# Calculating approval and refusal rates\n",
    "total_applications = melted_data.groupby(['Year', 'Nationality'])['Applications'].transform('sum')\n",
    "melted_data['Approval Rate'] = np.where(melted_data['Status'] == 'Granted', melted_data['Applications'] / total_applications, np.nan)\n",
    "melted_data['Refusal Rate'] = np.where(melted_data['Status'] == 'Refused', melted_data['Applications'] / total_applications, np.nan)\n"
   ]
  },
  {
   "cell_type": "markdown",
   "metadata": {},
   "source": [
    "## Descriptive Statistics\n",
    "Summary of the dataset's numerical values.\n"
   ]
  },
  {
   "cell_type": "code",
   "execution_count": 48,
   "metadata": {},
   "outputs": [
    {
     "name": "stdout",
     "output_type": "stream",
     "text": [
      "\n",
      "Descriptive Statistics:\n",
      "       Applications  Approval Rate  Refusal Rate\n",
      "count   4410.000000     723.000000    544.000000\n",
      "mean      54.104308       0.407647      0.102784\n",
      "std      207.201219       0.102572      0.086688\n",
      "min        0.000000       0.000000      0.000000\n",
      "25%        0.000000       0.352250      0.048306\n",
      "50%        0.000000       0.400000      0.091997\n",
      "75%       18.000000       0.453621      0.138151\n",
      "max     3149.000000       1.000000      1.000000\n"
     ]
    }
   ],
   "source": [
    "# Descriptive Statistics\n",
    "print(\"\\nDescriptive Statistics:\")\n",
    "print(melted_data.describe())\n"
   ]
  },
  {
   "cell_type": "markdown",
   "metadata": {},
   "source": [
    "## Data Visualizations\n",
    "The following visualizations help to explore the trends and patterns in the dataset.\n"
   ]
  },
  {
   "cell_type": "code",
   "execution_count": 49,
   "metadata": {},
   "outputs": [
    {
     "data": {
      "application/vnd.plotly.v1+json": {
       "config": {
        "plotlyServerURL": "https://plot.ly"
       },
       "data": [
        {
         "hovertemplate": "Status=Granted<br>Year=%{x}<br>Applications=%{y}<extra></extra>",
         "legendgroup": "Granted",
         "line": {
          "color": "#636efa",
          "dash": "solid"
         },
         "marker": {
          "symbol": "circle"
         },
         "mode": "lines",
         "name": "Granted",
         "orientation": "v",
         "showlegend": true,
         "type": "scatter",
         "x": [
          "2017",
          "2018",
          "2019",
          "2020",
          "2021",
          "2022",
          "2023",
          "2024"
         ],
         "xaxis": "x",
         "y": [
          4040,
          6718,
          7288,
          6272,
          10119,
          18594,
          19982,
          20250
         ],
         "yaxis": "y"
        },
        {
         "hovertemplate": "Status=Received<br>Year=%{x}<br>Applications=%{y}<extra></extra>",
         "legendgroup": "Received",
         "line": {
          "color": "#EF553B",
          "dash": "solid"
         },
         "marker": {
          "symbol": "circle"
         },
         "mode": "lines",
         "name": "Received",
         "orientation": "v",
         "showlegend": true,
         "type": "scatter",
         "x": [
          "2017",
          "2018",
          "2019",
          "2020",
          "2021",
          "2022",
          "2023",
          "2024"
         ],
         "xaxis": "x",
         "y": [
          6715,
          10015,
          10103,
          8432,
          11583,
          27618,
          27650,
          21793
         ],
         "yaxis": "y"
        },
        {
         "hovertemplate": "Status=Refused<br>Year=%{x}<br>Applications=%{y}<extra></extra>",
         "legendgroup": "Refused",
         "line": {
          "color": "#00cc96",
          "dash": "solid"
         },
         "marker": {
          "symbol": "circle"
         },
         "mode": "lines",
         "name": "Refused",
         "orientation": "v",
         "showlegend": true,
         "type": "scatter",
         "x": [
          "2017",
          "2018",
          "2019",
          "2020",
          "2021",
          "2022",
          "2023",
          "2024"
         ],
         "xaxis": "x",
         "y": [
          1154,
          2436,
          3112,
          1947,
          1869,
          2533,
          4582,
          3795
         ],
         "yaxis": "y"
        }
       ],
       "layout": {
        "legend": {
         "title": {
          "text": "Status"
         },
         "tracegroupgap": 0
        },
        "template": {
         "data": {
          "bar": [
           {
            "error_x": {
             "color": "#2a3f5f"
            },
            "error_y": {
             "color": "#2a3f5f"
            },
            "marker": {
             "line": {
              "color": "#E5ECF6",
              "width": 0.5
             },
             "pattern": {
              "fillmode": "overlay",
              "size": 10,
              "solidity": 0.2
             }
            },
            "type": "bar"
           }
          ],
          "barpolar": [
           {
            "marker": {
             "line": {
              "color": "#E5ECF6",
              "width": 0.5
             },
             "pattern": {
              "fillmode": "overlay",
              "size": 10,
              "solidity": 0.2
             }
            },
            "type": "barpolar"
           }
          ],
          "carpet": [
           {
            "aaxis": {
             "endlinecolor": "#2a3f5f",
             "gridcolor": "white",
             "linecolor": "white",
             "minorgridcolor": "white",
             "startlinecolor": "#2a3f5f"
            },
            "baxis": {
             "endlinecolor": "#2a3f5f",
             "gridcolor": "white",
             "linecolor": "white",
             "minorgridcolor": "white",
             "startlinecolor": "#2a3f5f"
            },
            "type": "carpet"
           }
          ],
          "choropleth": [
           {
            "colorbar": {
             "outlinewidth": 0,
             "ticks": ""
            },
            "type": "choropleth"
           }
          ],
          "contour": [
           {
            "colorbar": {
             "outlinewidth": 0,
             "ticks": ""
            },
            "colorscale": [
             [
              0,
              "#0d0887"
             ],
             [
              0.1111111111111111,
              "#46039f"
             ],
             [
              0.2222222222222222,
              "#7201a8"
             ],
             [
              0.3333333333333333,
              "#9c179e"
             ],
             [
              0.4444444444444444,
              "#bd3786"
             ],
             [
              0.5555555555555556,
              "#d8576b"
             ],
             [
              0.6666666666666666,
              "#ed7953"
             ],
             [
              0.7777777777777778,
              "#fb9f3a"
             ],
             [
              0.8888888888888888,
              "#fdca26"
             ],
             [
              1,
              "#f0f921"
             ]
            ],
            "type": "contour"
           }
          ],
          "contourcarpet": [
           {
            "colorbar": {
             "outlinewidth": 0,
             "ticks": ""
            },
            "type": "contourcarpet"
           }
          ],
          "heatmap": [
           {
            "colorbar": {
             "outlinewidth": 0,
             "ticks": ""
            },
            "colorscale": [
             [
              0,
              "#0d0887"
             ],
             [
              0.1111111111111111,
              "#46039f"
             ],
             [
              0.2222222222222222,
              "#7201a8"
             ],
             [
              0.3333333333333333,
              "#9c179e"
             ],
             [
              0.4444444444444444,
              "#bd3786"
             ],
             [
              0.5555555555555556,
              "#d8576b"
             ],
             [
              0.6666666666666666,
              "#ed7953"
             ],
             [
              0.7777777777777778,
              "#fb9f3a"
             ],
             [
              0.8888888888888888,
              "#fdca26"
             ],
             [
              1,
              "#f0f921"
             ]
            ],
            "type": "heatmap"
           }
          ],
          "heatmapgl": [
           {
            "colorbar": {
             "outlinewidth": 0,
             "ticks": ""
            },
            "colorscale": [
             [
              0,
              "#0d0887"
             ],
             [
              0.1111111111111111,
              "#46039f"
             ],
             [
              0.2222222222222222,
              "#7201a8"
             ],
             [
              0.3333333333333333,
              "#9c179e"
             ],
             [
              0.4444444444444444,
              "#bd3786"
             ],
             [
              0.5555555555555556,
              "#d8576b"
             ],
             [
              0.6666666666666666,
              "#ed7953"
             ],
             [
              0.7777777777777778,
              "#fb9f3a"
             ],
             [
              0.8888888888888888,
              "#fdca26"
             ],
             [
              1,
              "#f0f921"
             ]
            ],
            "type": "heatmapgl"
           }
          ],
          "histogram": [
           {
            "marker": {
             "pattern": {
              "fillmode": "overlay",
              "size": 10,
              "solidity": 0.2
             }
            },
            "type": "histogram"
           }
          ],
          "histogram2d": [
           {
            "colorbar": {
             "outlinewidth": 0,
             "ticks": ""
            },
            "colorscale": [
             [
              0,
              "#0d0887"
             ],
             [
              0.1111111111111111,
              "#46039f"
             ],
             [
              0.2222222222222222,
              "#7201a8"
             ],
             [
              0.3333333333333333,
              "#9c179e"
             ],
             [
              0.4444444444444444,
              "#bd3786"
             ],
             [
              0.5555555555555556,
              "#d8576b"
             ],
             [
              0.6666666666666666,
              "#ed7953"
             ],
             [
              0.7777777777777778,
              "#fb9f3a"
             ],
             [
              0.8888888888888888,
              "#fdca26"
             ],
             [
              1,
              "#f0f921"
             ]
            ],
            "type": "histogram2d"
           }
          ],
          "histogram2dcontour": [
           {
            "colorbar": {
             "outlinewidth": 0,
             "ticks": ""
            },
            "colorscale": [
             [
              0,
              "#0d0887"
             ],
             [
              0.1111111111111111,
              "#46039f"
             ],
             [
              0.2222222222222222,
              "#7201a8"
             ],
             [
              0.3333333333333333,
              "#9c179e"
             ],
             [
              0.4444444444444444,
              "#bd3786"
             ],
             [
              0.5555555555555556,
              "#d8576b"
             ],
             [
              0.6666666666666666,
              "#ed7953"
             ],
             [
              0.7777777777777778,
              "#fb9f3a"
             ],
             [
              0.8888888888888888,
              "#fdca26"
             ],
             [
              1,
              "#f0f921"
             ]
            ],
            "type": "histogram2dcontour"
           }
          ],
          "mesh3d": [
           {
            "colorbar": {
             "outlinewidth": 0,
             "ticks": ""
            },
            "type": "mesh3d"
           }
          ],
          "parcoords": [
           {
            "line": {
             "colorbar": {
              "outlinewidth": 0,
              "ticks": ""
             }
            },
            "type": "parcoords"
           }
          ],
          "pie": [
           {
            "automargin": true,
            "type": "pie"
           }
          ],
          "scatter": [
           {
            "fillpattern": {
             "fillmode": "overlay",
             "size": 10,
             "solidity": 0.2
            },
            "type": "scatter"
           }
          ],
          "scatter3d": [
           {
            "line": {
             "colorbar": {
              "outlinewidth": 0,
              "ticks": ""
             }
            },
            "marker": {
             "colorbar": {
              "outlinewidth": 0,
              "ticks": ""
             }
            },
            "type": "scatter3d"
           }
          ],
          "scattercarpet": [
           {
            "marker": {
             "colorbar": {
              "outlinewidth": 0,
              "ticks": ""
             }
            },
            "type": "scattercarpet"
           }
          ],
          "scattergeo": [
           {
            "marker": {
             "colorbar": {
              "outlinewidth": 0,
              "ticks": ""
             }
            },
            "type": "scattergeo"
           }
          ],
          "scattergl": [
           {
            "marker": {
             "colorbar": {
              "outlinewidth": 0,
              "ticks": ""
             }
            },
            "type": "scattergl"
           }
          ],
          "scattermapbox": [
           {
            "marker": {
             "colorbar": {
              "outlinewidth": 0,
              "ticks": ""
             }
            },
            "type": "scattermapbox"
           }
          ],
          "scatterpolar": [
           {
            "marker": {
             "colorbar": {
              "outlinewidth": 0,
              "ticks": ""
             }
            },
            "type": "scatterpolar"
           }
          ],
          "scatterpolargl": [
           {
            "marker": {
             "colorbar": {
              "outlinewidth": 0,
              "ticks": ""
             }
            },
            "type": "scatterpolargl"
           }
          ],
          "scatterternary": [
           {
            "marker": {
             "colorbar": {
              "outlinewidth": 0,
              "ticks": ""
             }
            },
            "type": "scatterternary"
           }
          ],
          "surface": [
           {
            "colorbar": {
             "outlinewidth": 0,
             "ticks": ""
            },
            "colorscale": [
             [
              0,
              "#0d0887"
             ],
             [
              0.1111111111111111,
              "#46039f"
             ],
             [
              0.2222222222222222,
              "#7201a8"
             ],
             [
              0.3333333333333333,
              "#9c179e"
             ],
             [
              0.4444444444444444,
              "#bd3786"
             ],
             [
              0.5555555555555556,
              "#d8576b"
             ],
             [
              0.6666666666666666,
              "#ed7953"
             ],
             [
              0.7777777777777778,
              "#fb9f3a"
             ],
             [
              0.8888888888888888,
              "#fdca26"
             ],
             [
              1,
              "#f0f921"
             ]
            ],
            "type": "surface"
           }
          ],
          "table": [
           {
            "cells": {
             "fill": {
              "color": "#EBF0F8"
             },
             "line": {
              "color": "white"
             }
            },
            "header": {
             "fill": {
              "color": "#C8D4E3"
             },
             "line": {
              "color": "white"
             }
            },
            "type": "table"
           }
          ]
         },
         "layout": {
          "annotationdefaults": {
           "arrowcolor": "#2a3f5f",
           "arrowhead": 0,
           "arrowwidth": 1
          },
          "autotypenumbers": "strict",
          "coloraxis": {
           "colorbar": {
            "outlinewidth": 0,
            "ticks": ""
           }
          },
          "colorscale": {
           "diverging": [
            [
             0,
             "#8e0152"
            ],
            [
             0.1,
             "#c51b7d"
            ],
            [
             0.2,
             "#de77ae"
            ],
            [
             0.3,
             "#f1b6da"
            ],
            [
             0.4,
             "#fde0ef"
            ],
            [
             0.5,
             "#f7f7f7"
            ],
            [
             0.6,
             "#e6f5d0"
            ],
            [
             0.7,
             "#b8e186"
            ],
            [
             0.8,
             "#7fbc41"
            ],
            [
             0.9,
             "#4d9221"
            ],
            [
             1,
             "#276419"
            ]
           ],
           "sequential": [
            [
             0,
             "#0d0887"
            ],
            [
             0.1111111111111111,
             "#46039f"
            ],
            [
             0.2222222222222222,
             "#7201a8"
            ],
            [
             0.3333333333333333,
             "#9c179e"
            ],
            [
             0.4444444444444444,
             "#bd3786"
            ],
            [
             0.5555555555555556,
             "#d8576b"
            ],
            [
             0.6666666666666666,
             "#ed7953"
            ],
            [
             0.7777777777777778,
             "#fb9f3a"
            ],
            [
             0.8888888888888888,
             "#fdca26"
            ],
            [
             1,
             "#f0f921"
            ]
           ],
           "sequentialminus": [
            [
             0,
             "#0d0887"
            ],
            [
             0.1111111111111111,
             "#46039f"
            ],
            [
             0.2222222222222222,
             "#7201a8"
            ],
            [
             0.3333333333333333,
             "#9c179e"
            ],
            [
             0.4444444444444444,
             "#bd3786"
            ],
            [
             0.5555555555555556,
             "#d8576b"
            ],
            [
             0.6666666666666666,
             "#ed7953"
            ],
            [
             0.7777777777777778,
             "#fb9f3a"
            ],
            [
             0.8888888888888888,
             "#fdca26"
            ],
            [
             1,
             "#f0f921"
            ]
           ]
          },
          "colorway": [
           "#636efa",
           "#EF553B",
           "#00cc96",
           "#ab63fa",
           "#FFA15A",
           "#19d3f3",
           "#FF6692",
           "#B6E880",
           "#FF97FF",
           "#FECB52"
          ],
          "font": {
           "color": "#2a3f5f"
          },
          "geo": {
           "bgcolor": "white",
           "lakecolor": "white",
           "landcolor": "#E5ECF6",
           "showlakes": true,
           "showland": true,
           "subunitcolor": "white"
          },
          "hoverlabel": {
           "align": "left"
          },
          "hovermode": "closest",
          "mapbox": {
           "style": "light"
          },
          "paper_bgcolor": "white",
          "plot_bgcolor": "#E5ECF6",
          "polar": {
           "angularaxis": {
            "gridcolor": "white",
            "linecolor": "white",
            "ticks": ""
           },
           "bgcolor": "#E5ECF6",
           "radialaxis": {
            "gridcolor": "white",
            "linecolor": "white",
            "ticks": ""
           }
          },
          "scene": {
           "xaxis": {
            "backgroundcolor": "#E5ECF6",
            "gridcolor": "white",
            "gridwidth": 2,
            "linecolor": "white",
            "showbackground": true,
            "ticks": "",
            "zerolinecolor": "white"
           },
           "yaxis": {
            "backgroundcolor": "#E5ECF6",
            "gridcolor": "white",
            "gridwidth": 2,
            "linecolor": "white",
            "showbackground": true,
            "ticks": "",
            "zerolinecolor": "white"
           },
           "zaxis": {
            "backgroundcolor": "#E5ECF6",
            "gridcolor": "white",
            "gridwidth": 2,
            "linecolor": "white",
            "showbackground": true,
            "ticks": "",
            "zerolinecolor": "white"
           }
          },
          "shapedefaults": {
           "line": {
            "color": "#2a3f5f"
           }
          },
          "ternary": {
           "aaxis": {
            "gridcolor": "white",
            "linecolor": "white",
            "ticks": ""
           },
           "baxis": {
            "gridcolor": "white",
            "linecolor": "white",
            "ticks": ""
           },
           "bgcolor": "#E5ECF6",
           "caxis": {
            "gridcolor": "white",
            "linecolor": "white",
            "ticks": ""
           }
          },
          "title": {
           "x": 0.05
          },
          "xaxis": {
           "automargin": true,
           "gridcolor": "white",
           "linecolor": "white",
           "ticks": "",
           "title": {
            "standoff": 15
           },
           "zerolinecolor": "white",
           "zerolinewidth": 2
          },
          "yaxis": {
           "automargin": true,
           "gridcolor": "white",
           "linecolor": "white",
           "ticks": "",
           "title": {
            "standoff": 15
           },
           "zerolinecolor": "white",
           "zerolinewidth": 2
          }
         }
        },
        "title": {
         "text": "Trend of Applications by Year and Status"
        },
        "xaxis": {
         "anchor": "y",
         "domain": [
          0,
          1
         ],
         "title": {
          "text": "Year"
         }
        },
        "yaxis": {
         "anchor": "x",
         "domain": [
          0,
          1
         ],
         "title": {
          "text": "Applications"
         }
        }
       }
      }
     },
     "metadata": {},
     "output_type": "display_data"
    }
   ],
   "source": [
    "# Line Chart for Trends\n",
    "summary = melted_data.groupby(['Year', 'Status']).agg({'Applications': 'sum'}).reset_index()\n",
    "fig = px.line(summary, x='Year', y='Applications', color='Status', title='Trend of Applications by Year and Status')\n",
    "fig.show()\n"
   ]
  },
  {
   "cell_type": "markdown",
   "metadata": {},
   "source": [
    "## Stacked Bar Chart for Applications\n",
    "This chart displays how the volume of received, granted, and refused applications evolved over the years.\n"
   ]
  },
  {
   "cell_type": "code",
   "execution_count": 50,
   "metadata": {},
   "outputs": [
    {
     "data": {
      "application/vnd.plotly.v1+json": {
       "config": {
        "plotlyServerURL": "https://plot.ly"
       },
       "data": [
        {
         "alignmentgroup": "True",
         "hovertemplate": "Status=Granted<br>Year=%{x}<br>Applications=%{y}<extra></extra>",
         "legendgroup": "Granted",
         "marker": {
          "color": "#636efa",
          "pattern": {
           "shape": ""
          }
         },
         "name": "Granted",
         "offsetgroup": "Granted",
         "orientation": "v",
         "showlegend": true,
         "textposition": "auto",
         "type": "bar",
         "x": [
          "2017",
          "2018",
          "2019",
          "2020",
          "2021",
          "2022",
          "2023",
          "2024"
         ],
         "xaxis": "x",
         "y": [
          4040,
          6718,
          7288,
          6272,
          10119,
          18594,
          19982,
          20250
         ],
         "yaxis": "y"
        },
        {
         "alignmentgroup": "True",
         "hovertemplate": "Status=Received<br>Year=%{x}<br>Applications=%{y}<extra></extra>",
         "legendgroup": "Received",
         "marker": {
          "color": "#EF553B",
          "pattern": {
           "shape": ""
          }
         },
         "name": "Received",
         "offsetgroup": "Received",
         "orientation": "v",
         "showlegend": true,
         "textposition": "auto",
         "type": "bar",
         "x": [
          "2017",
          "2018",
          "2019",
          "2020",
          "2021",
          "2022",
          "2023",
          "2024"
         ],
         "xaxis": "x",
         "y": [
          6715,
          10015,
          10103,
          8432,
          11583,
          27618,
          27650,
          21793
         ],
         "yaxis": "y"
        },
        {
         "alignmentgroup": "True",
         "hovertemplate": "Status=Refused<br>Year=%{x}<br>Applications=%{y}<extra></extra>",
         "legendgroup": "Refused",
         "marker": {
          "color": "#00cc96",
          "pattern": {
           "shape": ""
          }
         },
         "name": "Refused",
         "offsetgroup": "Refused",
         "orientation": "v",
         "showlegend": true,
         "textposition": "auto",
         "type": "bar",
         "x": [
          "2017",
          "2018",
          "2019",
          "2020",
          "2021",
          "2022",
          "2023",
          "2024"
         ],
         "xaxis": "x",
         "y": [
          1154,
          2436,
          3112,
          1947,
          1869,
          2533,
          4582,
          3795
         ],
         "yaxis": "y"
        }
       ],
       "layout": {
        "barmode": "relative",
        "legend": {
         "title": {
          "text": "Status"
         },
         "tracegroupgap": 0
        },
        "template": {
         "data": {
          "bar": [
           {
            "error_x": {
             "color": "#2a3f5f"
            },
            "error_y": {
             "color": "#2a3f5f"
            },
            "marker": {
             "line": {
              "color": "#E5ECF6",
              "width": 0.5
             },
             "pattern": {
              "fillmode": "overlay",
              "size": 10,
              "solidity": 0.2
             }
            },
            "type": "bar"
           }
          ],
          "barpolar": [
           {
            "marker": {
             "line": {
              "color": "#E5ECF6",
              "width": 0.5
             },
             "pattern": {
              "fillmode": "overlay",
              "size": 10,
              "solidity": 0.2
             }
            },
            "type": "barpolar"
           }
          ],
          "carpet": [
           {
            "aaxis": {
             "endlinecolor": "#2a3f5f",
             "gridcolor": "white",
             "linecolor": "white",
             "minorgridcolor": "white",
             "startlinecolor": "#2a3f5f"
            },
            "baxis": {
             "endlinecolor": "#2a3f5f",
             "gridcolor": "white",
             "linecolor": "white",
             "minorgridcolor": "white",
             "startlinecolor": "#2a3f5f"
            },
            "type": "carpet"
           }
          ],
          "choropleth": [
           {
            "colorbar": {
             "outlinewidth": 0,
             "ticks": ""
            },
            "type": "choropleth"
           }
          ],
          "contour": [
           {
            "colorbar": {
             "outlinewidth": 0,
             "ticks": ""
            },
            "colorscale": [
             [
              0,
              "#0d0887"
             ],
             [
              0.1111111111111111,
              "#46039f"
             ],
             [
              0.2222222222222222,
              "#7201a8"
             ],
             [
              0.3333333333333333,
              "#9c179e"
             ],
             [
              0.4444444444444444,
              "#bd3786"
             ],
             [
              0.5555555555555556,
              "#d8576b"
             ],
             [
              0.6666666666666666,
              "#ed7953"
             ],
             [
              0.7777777777777778,
              "#fb9f3a"
             ],
             [
              0.8888888888888888,
              "#fdca26"
             ],
             [
              1,
              "#f0f921"
             ]
            ],
            "type": "contour"
           }
          ],
          "contourcarpet": [
           {
            "colorbar": {
             "outlinewidth": 0,
             "ticks": ""
            },
            "type": "contourcarpet"
           }
          ],
          "heatmap": [
           {
            "colorbar": {
             "outlinewidth": 0,
             "ticks": ""
            },
            "colorscale": [
             [
              0,
              "#0d0887"
             ],
             [
              0.1111111111111111,
              "#46039f"
             ],
             [
              0.2222222222222222,
              "#7201a8"
             ],
             [
              0.3333333333333333,
              "#9c179e"
             ],
             [
              0.4444444444444444,
              "#bd3786"
             ],
             [
              0.5555555555555556,
              "#d8576b"
             ],
             [
              0.6666666666666666,
              "#ed7953"
             ],
             [
              0.7777777777777778,
              "#fb9f3a"
             ],
             [
              0.8888888888888888,
              "#fdca26"
             ],
             [
              1,
              "#f0f921"
             ]
            ],
            "type": "heatmap"
           }
          ],
          "heatmapgl": [
           {
            "colorbar": {
             "outlinewidth": 0,
             "ticks": ""
            },
            "colorscale": [
             [
              0,
              "#0d0887"
             ],
             [
              0.1111111111111111,
              "#46039f"
             ],
             [
              0.2222222222222222,
              "#7201a8"
             ],
             [
              0.3333333333333333,
              "#9c179e"
             ],
             [
              0.4444444444444444,
              "#bd3786"
             ],
             [
              0.5555555555555556,
              "#d8576b"
             ],
             [
              0.6666666666666666,
              "#ed7953"
             ],
             [
              0.7777777777777778,
              "#fb9f3a"
             ],
             [
              0.8888888888888888,
              "#fdca26"
             ],
             [
              1,
              "#f0f921"
             ]
            ],
            "type": "heatmapgl"
           }
          ],
          "histogram": [
           {
            "marker": {
             "pattern": {
              "fillmode": "overlay",
              "size": 10,
              "solidity": 0.2
             }
            },
            "type": "histogram"
           }
          ],
          "histogram2d": [
           {
            "colorbar": {
             "outlinewidth": 0,
             "ticks": ""
            },
            "colorscale": [
             [
              0,
              "#0d0887"
             ],
             [
              0.1111111111111111,
              "#46039f"
             ],
             [
              0.2222222222222222,
              "#7201a8"
             ],
             [
              0.3333333333333333,
              "#9c179e"
             ],
             [
              0.4444444444444444,
              "#bd3786"
             ],
             [
              0.5555555555555556,
              "#d8576b"
             ],
             [
              0.6666666666666666,
              "#ed7953"
             ],
             [
              0.7777777777777778,
              "#fb9f3a"
             ],
             [
              0.8888888888888888,
              "#fdca26"
             ],
             [
              1,
              "#f0f921"
             ]
            ],
            "type": "histogram2d"
           }
          ],
          "histogram2dcontour": [
           {
            "colorbar": {
             "outlinewidth": 0,
             "ticks": ""
            },
            "colorscale": [
             [
              0,
              "#0d0887"
             ],
             [
              0.1111111111111111,
              "#46039f"
             ],
             [
              0.2222222222222222,
              "#7201a8"
             ],
             [
              0.3333333333333333,
              "#9c179e"
             ],
             [
              0.4444444444444444,
              "#bd3786"
             ],
             [
              0.5555555555555556,
              "#d8576b"
             ],
             [
              0.6666666666666666,
              "#ed7953"
             ],
             [
              0.7777777777777778,
              "#fb9f3a"
             ],
             [
              0.8888888888888888,
              "#fdca26"
             ],
             [
              1,
              "#f0f921"
             ]
            ],
            "type": "histogram2dcontour"
           }
          ],
          "mesh3d": [
           {
            "colorbar": {
             "outlinewidth": 0,
             "ticks": ""
            },
            "type": "mesh3d"
           }
          ],
          "parcoords": [
           {
            "line": {
             "colorbar": {
              "outlinewidth": 0,
              "ticks": ""
             }
            },
            "type": "parcoords"
           }
          ],
          "pie": [
           {
            "automargin": true,
            "type": "pie"
           }
          ],
          "scatter": [
           {
            "fillpattern": {
             "fillmode": "overlay",
             "size": 10,
             "solidity": 0.2
            },
            "type": "scatter"
           }
          ],
          "scatter3d": [
           {
            "line": {
             "colorbar": {
              "outlinewidth": 0,
              "ticks": ""
             }
            },
            "marker": {
             "colorbar": {
              "outlinewidth": 0,
              "ticks": ""
             }
            },
            "type": "scatter3d"
           }
          ],
          "scattercarpet": [
           {
            "marker": {
             "colorbar": {
              "outlinewidth": 0,
              "ticks": ""
             }
            },
            "type": "scattercarpet"
           }
          ],
          "scattergeo": [
           {
            "marker": {
             "colorbar": {
              "outlinewidth": 0,
              "ticks": ""
             }
            },
            "type": "scattergeo"
           }
          ],
          "scattergl": [
           {
            "marker": {
             "colorbar": {
              "outlinewidth": 0,
              "ticks": ""
             }
            },
            "type": "scattergl"
           }
          ],
          "scattermapbox": [
           {
            "marker": {
             "colorbar": {
              "outlinewidth": 0,
              "ticks": ""
             }
            },
            "type": "scattermapbox"
           }
          ],
          "scatterpolar": [
           {
            "marker": {
             "colorbar": {
              "outlinewidth": 0,
              "ticks": ""
             }
            },
            "type": "scatterpolar"
           }
          ],
          "scatterpolargl": [
           {
            "marker": {
             "colorbar": {
              "outlinewidth": 0,
              "ticks": ""
             }
            },
            "type": "scatterpolargl"
           }
          ],
          "scatterternary": [
           {
            "marker": {
             "colorbar": {
              "outlinewidth": 0,
              "ticks": ""
             }
            },
            "type": "scatterternary"
           }
          ],
          "surface": [
           {
            "colorbar": {
             "outlinewidth": 0,
             "ticks": ""
            },
            "colorscale": [
             [
              0,
              "#0d0887"
             ],
             [
              0.1111111111111111,
              "#46039f"
             ],
             [
              0.2222222222222222,
              "#7201a8"
             ],
             [
              0.3333333333333333,
              "#9c179e"
             ],
             [
              0.4444444444444444,
              "#bd3786"
             ],
             [
              0.5555555555555556,
              "#d8576b"
             ],
             [
              0.6666666666666666,
              "#ed7953"
             ],
             [
              0.7777777777777778,
              "#fb9f3a"
             ],
             [
              0.8888888888888888,
              "#fdca26"
             ],
             [
              1,
              "#f0f921"
             ]
            ],
            "type": "surface"
           }
          ],
          "table": [
           {
            "cells": {
             "fill": {
              "color": "#EBF0F8"
             },
             "line": {
              "color": "white"
             }
            },
            "header": {
             "fill": {
              "color": "#C8D4E3"
             },
             "line": {
              "color": "white"
             }
            },
            "type": "table"
           }
          ]
         },
         "layout": {
          "annotationdefaults": {
           "arrowcolor": "#2a3f5f",
           "arrowhead": 0,
           "arrowwidth": 1
          },
          "autotypenumbers": "strict",
          "coloraxis": {
           "colorbar": {
            "outlinewidth": 0,
            "ticks": ""
           }
          },
          "colorscale": {
           "diverging": [
            [
             0,
             "#8e0152"
            ],
            [
             0.1,
             "#c51b7d"
            ],
            [
             0.2,
             "#de77ae"
            ],
            [
             0.3,
             "#f1b6da"
            ],
            [
             0.4,
             "#fde0ef"
            ],
            [
             0.5,
             "#f7f7f7"
            ],
            [
             0.6,
             "#e6f5d0"
            ],
            [
             0.7,
             "#b8e186"
            ],
            [
             0.8,
             "#7fbc41"
            ],
            [
             0.9,
             "#4d9221"
            ],
            [
             1,
             "#276419"
            ]
           ],
           "sequential": [
            [
             0,
             "#0d0887"
            ],
            [
             0.1111111111111111,
             "#46039f"
            ],
            [
             0.2222222222222222,
             "#7201a8"
            ],
            [
             0.3333333333333333,
             "#9c179e"
            ],
            [
             0.4444444444444444,
             "#bd3786"
            ],
            [
             0.5555555555555556,
             "#d8576b"
            ],
            [
             0.6666666666666666,
             "#ed7953"
            ],
            [
             0.7777777777777778,
             "#fb9f3a"
            ],
            [
             0.8888888888888888,
             "#fdca26"
            ],
            [
             1,
             "#f0f921"
            ]
           ],
           "sequentialminus": [
            [
             0,
             "#0d0887"
            ],
            [
             0.1111111111111111,
             "#46039f"
            ],
            [
             0.2222222222222222,
             "#7201a8"
            ],
            [
             0.3333333333333333,
             "#9c179e"
            ],
            [
             0.4444444444444444,
             "#bd3786"
            ],
            [
             0.5555555555555556,
             "#d8576b"
            ],
            [
             0.6666666666666666,
             "#ed7953"
            ],
            [
             0.7777777777777778,
             "#fb9f3a"
            ],
            [
             0.8888888888888888,
             "#fdca26"
            ],
            [
             1,
             "#f0f921"
            ]
           ]
          },
          "colorway": [
           "#636efa",
           "#EF553B",
           "#00cc96",
           "#ab63fa",
           "#FFA15A",
           "#19d3f3",
           "#FF6692",
           "#B6E880",
           "#FF97FF",
           "#FECB52"
          ],
          "font": {
           "color": "#2a3f5f"
          },
          "geo": {
           "bgcolor": "white",
           "lakecolor": "white",
           "landcolor": "#E5ECF6",
           "showlakes": true,
           "showland": true,
           "subunitcolor": "white"
          },
          "hoverlabel": {
           "align": "left"
          },
          "hovermode": "closest",
          "mapbox": {
           "style": "light"
          },
          "paper_bgcolor": "white",
          "plot_bgcolor": "#E5ECF6",
          "polar": {
           "angularaxis": {
            "gridcolor": "white",
            "linecolor": "white",
            "ticks": ""
           },
           "bgcolor": "#E5ECF6",
           "radialaxis": {
            "gridcolor": "white",
            "linecolor": "white",
            "ticks": ""
           }
          },
          "scene": {
           "xaxis": {
            "backgroundcolor": "#E5ECF6",
            "gridcolor": "white",
            "gridwidth": 2,
            "linecolor": "white",
            "showbackground": true,
            "ticks": "",
            "zerolinecolor": "white"
           },
           "yaxis": {
            "backgroundcolor": "#E5ECF6",
            "gridcolor": "white",
            "gridwidth": 2,
            "linecolor": "white",
            "showbackground": true,
            "ticks": "",
            "zerolinecolor": "white"
           },
           "zaxis": {
            "backgroundcolor": "#E5ECF6",
            "gridcolor": "white",
            "gridwidth": 2,
            "linecolor": "white",
            "showbackground": true,
            "ticks": "",
            "zerolinecolor": "white"
           }
          },
          "shapedefaults": {
           "line": {
            "color": "#2a3f5f"
           }
          },
          "ternary": {
           "aaxis": {
            "gridcolor": "white",
            "linecolor": "white",
            "ticks": ""
           },
           "baxis": {
            "gridcolor": "white",
            "linecolor": "white",
            "ticks": ""
           },
           "bgcolor": "#E5ECF6",
           "caxis": {
            "gridcolor": "white",
            "linecolor": "white",
            "ticks": ""
           }
          },
          "title": {
           "x": 0.05
          },
          "xaxis": {
           "automargin": true,
           "gridcolor": "white",
           "linecolor": "white",
           "ticks": "",
           "title": {
            "standoff": 15
           },
           "zerolinecolor": "white",
           "zerolinewidth": 2
          },
          "yaxis": {
           "automargin": true,
           "gridcolor": "white",
           "linecolor": "white",
           "ticks": "",
           "title": {
            "standoff": 15
           },
           "zerolinecolor": "white",
           "zerolinewidth": 2
          }
         }
        },
        "title": {
         "text": "Stacked Bar Chart for Applications"
        },
        "xaxis": {
         "anchor": "y",
         "domain": [
          0,
          1
         ],
         "title": {
          "text": "Year"
         }
        },
        "yaxis": {
         "anchor": "x",
         "domain": [
          0,
          1
         ],
         "title": {
          "text": "Applications"
         }
        }
       }
      }
     },
     "metadata": {},
     "output_type": "display_data"
    }
   ],
   "source": [
    "# Stacked Bar Chart for Granted, Refused, and Received Applications\n",
    "granted_received_refused_summary = melted_data.groupby(['Year', 'Status']).agg({'Applications': 'sum'}).reset_index()\n",
    "fig = px.bar(granted_received_refused_summary, x='Year', y='Applications', color='Status', title='Stacked Bar Chart for Applications')\n",
    "fig.show()\n"
   ]
  },
  {
   "cell_type": "markdown",
   "metadata": {},
   "source": [
    "## Treemap for Nationalities Over Time\n",
    "This treemap visualizes the distribution of total applications by nationality from **2017 to 2024**, focusing on the most significant nationalities for each year based on application volume. The interactive slider allows you to explore yearly changes, offering a clearer perspective on how application patterns have shifted over time.\n",
    "\n",
    "The size of each section represents the total number of applications for a nationality in a given year, with larger sections indicating higher application volumes. This visualization makes it easier to identify trends, emerging patterns, and significant fluctuations in application activity across different nationalities throughout the years.\n"
   ]
  },
  {
   "cell_type": "code",
   "execution_count": 51,
   "metadata": {},
   "outputs": [
    {
     "data": {
      "application/vnd.plotly.v1+json": {
       "config": {
        "plotlyServerURL": "https://plot.ly"
       },
       "data": [
        {
         "labels": [
          "Afghanistan",
          "Albania",
          "Algeria",
          "Bangladesh",
          "Botswana",
          "Brazil",
          "China",
          "Egypt",
          "Georgia",
          "India",
          "Malaysia",
          "Mauritius",
          "Nigeria",
          "Pakistan",
          "Philippines (the)",
          "Somalia",
          "South Africa",
          "Turkiye",
          "United States of America (the)",
          "Zimbabwe",
          "Afghanistan",
          "Albania",
          "Algeria",
          "Bangladesh",
          "Botswana",
          "Brazil",
          "China",
          "Egypt",
          "Georgia",
          "India",
          "Malaysia",
          "Mauritius",
          "Nigeria",
          "Pakistan",
          "Philippines (the)",
          "Somalia",
          "South Africa",
          "Turkiye",
          "United States of America (the)",
          "Zimbabwe",
          "Afghanistan",
          "Albania",
          "Algeria",
          "Bangladesh",
          "Botswana",
          "Brazil",
          "China",
          "Egypt",
          "Georgia",
          "India",
          "Malaysia",
          "Mauritius",
          "Nigeria",
          "Pakistan",
          "Philippines (the)",
          "Somalia",
          "South Africa",
          "Turkiye",
          "United States of America (the)",
          "Zimbabwe"
         ],
         "marker": {
          "colors": [
           "rgb(161, 215, 6)",
           "rgb(46, 186, 84)",
           "rgb(253, 227, 69)",
           "rgb(45, 98, 69)",
           "rgb(65, 81, 218)",
           "rgb(159, 180, 151)",
           "rgb(244, 111, 114)",
           "rgb(241, 244, 171)",
           "rgb(64, 77, 154)",
           "rgb(162, 122, 139)",
           "rgb(199, 141, 236)",
           "rgb(133, 60, 68)",
           "rgb(228, 64, 130)",
           "rgb(228, 56, 36)",
           "rgb(29, 49, 90)",
           "rgb(107, 151, 241)",
           "rgb(152, 20, 210)",
           "rgb(52, 147, 149)",
           "rgb(51, 125, 243)",
           "rgb(75, 33, 182)",
           "rgb(161, 215, 6)",
           "rgb(46, 186, 84)",
           "rgb(253, 227, 69)",
           "rgb(45, 98, 69)",
           "rgb(65, 81, 218)",
           "rgb(159, 180, 151)",
           "rgb(244, 111, 114)",
           "rgb(241, 244, 171)",
           "rgb(64, 77, 154)",
           "rgb(162, 122, 139)",
           "rgb(199, 141, 236)",
           "rgb(133, 60, 68)",
           "rgb(228, 64, 130)",
           "rgb(228, 56, 36)",
           "rgb(29, 49, 90)",
           "rgb(107, 151, 241)",
           "rgb(152, 20, 210)",
           "rgb(52, 147, 149)",
           "rgb(51, 125, 243)",
           "rgb(75, 33, 182)",
           "rgb(161, 215, 6)",
           "rgb(46, 186, 84)",
           "rgb(253, 227, 69)",
           "rgb(45, 98, 69)",
           "rgb(65, 81, 218)",
           "rgb(159, 180, 151)",
           "rgb(244, 111, 114)",
           "rgb(241, 244, 171)",
           "rgb(64, 77, 154)",
           "rgb(162, 122, 139)",
           "rgb(199, 141, 236)",
           "rgb(133, 60, 68)",
           "rgb(228, 64, 130)",
           "rgb(228, 56, 36)",
           "rgb(29, 49, 90)",
           "rgb(107, 151, 241)",
           "rgb(152, 20, 210)",
           "rgb(52, 147, 149)",
           "rgb(51, 125, 243)",
           "rgb(75, 33, 182)"
          ]
         },
         "parents": [
          "",
          "",
          "",
          "",
          "",
          "",
          "",
          "",
          "",
          "",
          "",
          "",
          "",
          "",
          "",
          "",
          "",
          "",
          "",
          "",
          "",
          "",
          "",
          "",
          "",
          "",
          "",
          "",
          "",
          "",
          "",
          "",
          "",
          "",
          "",
          "",
          "",
          "",
          "",
          "",
          "",
          "",
          "",
          "",
          "",
          "",
          "",
          "",
          "",
          "",
          "",
          "",
          "",
          "",
          "",
          "",
          "",
          "",
          "",
          ""
         ],
         "textinfo": "label+value",
         "type": "treemap",
         "values": [
          13,
          32,
          31,
          125,
          26,
          653,
          915,
          55,
          12,
          518,
          340,
          379,
          432,
          395,
          240,
          8,
          202,
          34,
          630,
          31,
          6,
          20,
          14,
          56,
          20,
          338,
          629,
          31,
          12,
          276,
          247,
          203,
          322,
          219,
          155,
          5,
          101,
          18,
          324,
          27,
          4,
          9,
          6,
          21,
          5,
          144,
          119,
          13,
          0,
          115,
          39,
          26,
          109,
          49,
          35,
          0,
          55,
          7,
          87,
          4
         ],
         "visible": true
        },
        {
         "labels": [
          "Afghanistan",
          "Albania",
          "Algeria",
          "Bangladesh",
          "Botswana",
          "Brazil",
          "China",
          "Egypt",
          "Georgia",
          "India",
          "Malaysia",
          "Mauritius",
          "Nigeria",
          "Pakistan",
          "Philippines (the)",
          "Somalia",
          "South Africa",
          "Turkiye",
          "United States of America (the)",
          "Zimbabwe",
          "Afghanistan",
          "Albania",
          "Algeria",
          "Bangladesh",
          "Botswana",
          "Brazil",
          "China",
          "Egypt",
          "Georgia",
          "India",
          "Malaysia",
          "Mauritius",
          "Nigeria",
          "Pakistan",
          "Philippines (the)",
          "Somalia",
          "South Africa",
          "Turkiye",
          "United States of America (the)",
          "Zimbabwe",
          "Afghanistan",
          "Albania",
          "Algeria",
          "Bangladesh",
          "Botswana",
          "Brazil",
          "China",
          "Egypt",
          "Georgia",
          "India",
          "Malaysia",
          "Mauritius",
          "Nigeria",
          "Pakistan",
          "Philippines (the)",
          "Somalia",
          "South Africa",
          "Turkiye",
          "United States of America (the)",
          "Zimbabwe"
         ],
         "marker": {
          "colors": [
           "rgb(161, 215, 6)",
           "rgb(46, 186, 84)",
           "rgb(253, 227, 69)",
           "rgb(45, 98, 69)",
           "rgb(65, 81, 218)",
           "rgb(159, 180, 151)",
           "rgb(244, 111, 114)",
           "rgb(241, 244, 171)",
           "rgb(64, 77, 154)",
           "rgb(162, 122, 139)",
           "rgb(199, 141, 236)",
           "rgb(133, 60, 68)",
           "rgb(228, 64, 130)",
           "rgb(228, 56, 36)",
           "rgb(29, 49, 90)",
           "rgb(107, 151, 241)",
           "rgb(152, 20, 210)",
           "rgb(52, 147, 149)",
           "rgb(51, 125, 243)",
           "rgb(75, 33, 182)",
           "rgb(161, 215, 6)",
           "rgb(46, 186, 84)",
           "rgb(253, 227, 69)",
           "rgb(45, 98, 69)",
           "rgb(65, 81, 218)",
           "rgb(159, 180, 151)",
           "rgb(244, 111, 114)",
           "rgb(241, 244, 171)",
           "rgb(64, 77, 154)",
           "rgb(162, 122, 139)",
           "rgb(199, 141, 236)",
           "rgb(133, 60, 68)",
           "rgb(228, 64, 130)",
           "rgb(228, 56, 36)",
           "rgb(29, 49, 90)",
           "rgb(107, 151, 241)",
           "rgb(152, 20, 210)",
           "rgb(52, 147, 149)",
           "rgb(51, 125, 243)",
           "rgb(75, 33, 182)",
           "rgb(161, 215, 6)",
           "rgb(46, 186, 84)",
           "rgb(253, 227, 69)",
           "rgb(45, 98, 69)",
           "rgb(65, 81, 218)",
           "rgb(159, 180, 151)",
           "rgb(244, 111, 114)",
           "rgb(241, 244, 171)",
           "rgb(64, 77, 154)",
           "rgb(162, 122, 139)",
           "rgb(199, 141, 236)",
           "rgb(133, 60, 68)",
           "rgb(228, 64, 130)",
           "rgb(228, 56, 36)",
           "rgb(29, 49, 90)",
           "rgb(107, 151, 241)",
           "rgb(152, 20, 210)",
           "rgb(52, 147, 149)",
           "rgb(51, 125, 243)",
           "rgb(75, 33, 182)"
          ]
         },
         "parents": [
          "",
          "",
          "",
          "",
          "",
          "",
          "",
          "",
          "",
          "",
          "",
          "",
          "",
          "",
          "",
          "",
          "",
          "",
          "",
          "",
          "",
          "",
          "",
          "",
          "",
          "",
          "",
          "",
          "",
          "",
          "",
          "",
          "",
          "",
          "",
          "",
          "",
          "",
          "",
          "",
          "",
          "",
          "",
          "",
          "",
          "",
          "",
          "",
          "",
          "",
          "",
          "",
          "",
          "",
          "",
          "",
          "",
          "",
          "",
          ""
         ],
         "textinfo": "label+value",
         "type": "treemap",
         "values": [
          104,
          307,
          134,
          400,
          38,
          730,
          870,
          130,
          146,
          677,
          328,
          417,
          647,
          1105,
          217,
          28,
          304,
          48,
          625,
          363,
          61,
          187,
          86,
          232,
          30,
          470,
          665,
          69,
          73,
          428,
          270,
          279,
          417,
          617,
          161,
          19,
          209,
          26,
          476,
          291,
          35,
          100,
          47,
          106,
          17,
          218,
          173,
          27,
          68,
          156,
          66,
          87,
          200,
          301,
          46,
          6,
          75,
          5,
          126,
          51
         ],
         "visible": false
        },
        {
         "labels": [
          "Afghanistan",
          "Albania",
          "Algeria",
          "Bangladesh",
          "Botswana",
          "Brazil",
          "China",
          "Egypt",
          "Georgia",
          "India",
          "Malaysia",
          "Mauritius",
          "Nigeria",
          "Pakistan",
          "Philippines (the)",
          "Somalia",
          "South Africa",
          "Turkiye",
          "United States of America (the)",
          "Zimbabwe",
          "Afghanistan",
          "Albania",
          "Algeria",
          "Bangladesh",
          "Botswana",
          "Brazil",
          "China",
          "Egypt",
          "Georgia",
          "India",
          "Malaysia",
          "Mauritius",
          "Nigeria",
          "Pakistan",
          "Philippines (the)",
          "Somalia",
          "South Africa",
          "Turkiye",
          "United States of America (the)",
          "Zimbabwe",
          "Afghanistan",
          "Albania",
          "Algeria",
          "Bangladesh",
          "Botswana",
          "Brazil",
          "China",
          "Egypt",
          "Georgia",
          "India",
          "Malaysia",
          "Mauritius",
          "Nigeria",
          "Pakistan",
          "Philippines (the)",
          "Somalia",
          "South Africa",
          "Turkiye",
          "United States of America (the)",
          "Zimbabwe"
         ],
         "marker": {
          "colors": [
           "rgb(161, 215, 6)",
           "rgb(46, 186, 84)",
           "rgb(253, 227, 69)",
           "rgb(45, 98, 69)",
           "rgb(65, 81, 218)",
           "rgb(159, 180, 151)",
           "rgb(244, 111, 114)",
           "rgb(241, 244, 171)",
           "rgb(64, 77, 154)",
           "rgb(162, 122, 139)",
           "rgb(199, 141, 236)",
           "rgb(133, 60, 68)",
           "rgb(228, 64, 130)",
           "rgb(228, 56, 36)",
           "rgb(29, 49, 90)",
           "rgb(107, 151, 241)",
           "rgb(152, 20, 210)",
           "rgb(52, 147, 149)",
           "rgb(51, 125, 243)",
           "rgb(75, 33, 182)",
           "rgb(161, 215, 6)",
           "rgb(46, 186, 84)",
           "rgb(253, 227, 69)",
           "rgb(45, 98, 69)",
           "rgb(65, 81, 218)",
           "rgb(159, 180, 151)",
           "rgb(244, 111, 114)",
           "rgb(241, 244, 171)",
           "rgb(64, 77, 154)",
           "rgb(162, 122, 139)",
           "rgb(199, 141, 236)",
           "rgb(133, 60, 68)",
           "rgb(228, 64, 130)",
           "rgb(228, 56, 36)",
           "rgb(29, 49, 90)",
           "rgb(107, 151, 241)",
           "rgb(152, 20, 210)",
           "rgb(52, 147, 149)",
           "rgb(51, 125, 243)",
           "rgb(75, 33, 182)",
           "rgb(161, 215, 6)",
           "rgb(46, 186, 84)",
           "rgb(253, 227, 69)",
           "rgb(45, 98, 69)",
           "rgb(65, 81, 218)",
           "rgb(159, 180, 151)",
           "rgb(244, 111, 114)",
           "rgb(241, 244, 171)",
           "rgb(64, 77, 154)",
           "rgb(162, 122, 139)",
           "rgb(199, 141, 236)",
           "rgb(133, 60, 68)",
           "rgb(228, 64, 130)",
           "rgb(228, 56, 36)",
           "rgb(29, 49, 90)",
           "rgb(107, 151, 241)",
           "rgb(152, 20, 210)",
           "rgb(52, 147, 149)",
           "rgb(51, 125, 243)",
           "rgb(75, 33, 182)"
          ]
         },
         "parents": [
          "",
          "",
          "",
          "",
          "",
          "",
          "",
          "",
          "",
          "",
          "",
          "",
          "",
          "",
          "",
          "",
          "",
          "",
          "",
          "",
          "",
          "",
          "",
          "",
          "",
          "",
          "",
          "",
          "",
          "",
          "",
          "",
          "",
          "",
          "",
          "",
          "",
          "",
          "",
          "",
          "",
          "",
          "",
          "",
          "",
          "",
          "",
          "",
          "",
          "",
          "",
          "",
          "",
          "",
          "",
          "",
          "",
          "",
          "",
          ""
         ],
         "textinfo": "label+value",
         "type": "treemap",
         "values": [
          84,
          303,
          102,
          142,
          50,
          1048,
          1051,
          130,
          338,
          751,
          384,
          169,
          672,
          684,
          252,
          71,
          422,
          166,
          650,
          334,
          43,
          167,
          57,
          86,
          30,
          646,
          803,
          93,
          159,
          565,
          315,
          198,
          472,
          462,
          181,
          30,
          329,
          63,
          551,
          283,
          40,
          129,
          44,
          90,
          11,
          324,
          308,
          40,
          142,
          229,
          84,
          136,
          203,
          265,
          84,
          33,
          98,
          18,
          140,
          53
         ],
         "visible": false
        },
        {
         "labels": [
          "Afghanistan",
          "Albania",
          "Algeria",
          "Bangladesh",
          "Botswana",
          "Brazil",
          "China",
          "Egypt",
          "Georgia",
          "India",
          "Malaysia",
          "Mauritius",
          "Nigeria",
          "Pakistan",
          "Philippines (the)",
          "Somalia",
          "South Africa",
          "Turkiye",
          "United States of America (the)",
          "Zimbabwe",
          "Afghanistan",
          "Albania",
          "Algeria",
          "Bangladesh",
          "Botswana",
          "Brazil",
          "China",
          "Egypt",
          "Georgia",
          "India",
          "Malaysia",
          "Mauritius",
          "Nigeria",
          "Pakistan",
          "Philippines (the)",
          "Somalia",
          "South Africa",
          "Turkiye",
          "United States of America (the)",
          "Zimbabwe",
          "Afghanistan",
          "Albania",
          "Algeria",
          "Bangladesh",
          "Botswana",
          "Brazil",
          "China",
          "Egypt",
          "Georgia",
          "India",
          "Malaysia",
          "Mauritius",
          "Nigeria",
          "Pakistan",
          "Philippines (the)",
          "Somalia",
          "South Africa",
          "Turkiye",
          "United States of America (the)",
          "Zimbabwe"
         ],
         "marker": {
          "colors": [
           "rgb(161, 215, 6)",
           "rgb(46, 186, 84)",
           "rgb(253, 227, 69)",
           "rgb(45, 98, 69)",
           "rgb(65, 81, 218)",
           "rgb(159, 180, 151)",
           "rgb(244, 111, 114)",
           "rgb(241, 244, 171)",
           "rgb(64, 77, 154)",
           "rgb(162, 122, 139)",
           "rgb(199, 141, 236)",
           "rgb(133, 60, 68)",
           "rgb(228, 64, 130)",
           "rgb(228, 56, 36)",
           "rgb(29, 49, 90)",
           "rgb(107, 151, 241)",
           "rgb(152, 20, 210)",
           "rgb(52, 147, 149)",
           "rgb(51, 125, 243)",
           "rgb(75, 33, 182)",
           "rgb(161, 215, 6)",
           "rgb(46, 186, 84)",
           "rgb(253, 227, 69)",
           "rgb(45, 98, 69)",
           "rgb(65, 81, 218)",
           "rgb(159, 180, 151)",
           "rgb(244, 111, 114)",
           "rgb(241, 244, 171)",
           "rgb(64, 77, 154)",
           "rgb(162, 122, 139)",
           "rgb(199, 141, 236)",
           "rgb(133, 60, 68)",
           "rgb(228, 64, 130)",
           "rgb(228, 56, 36)",
           "rgb(29, 49, 90)",
           "rgb(107, 151, 241)",
           "rgb(152, 20, 210)",
           "rgb(52, 147, 149)",
           "rgb(51, 125, 243)",
           "rgb(75, 33, 182)",
           "rgb(161, 215, 6)",
           "rgb(46, 186, 84)",
           "rgb(253, 227, 69)",
           "rgb(45, 98, 69)",
           "rgb(65, 81, 218)",
           "rgb(159, 180, 151)",
           "rgb(244, 111, 114)",
           "rgb(241, 244, 171)",
           "rgb(64, 77, 154)",
           "rgb(162, 122, 139)",
           "rgb(199, 141, 236)",
           "rgb(133, 60, 68)",
           "rgb(228, 64, 130)",
           "rgb(228, 56, 36)",
           "rgb(29, 49, 90)",
           "rgb(107, 151, 241)",
           "rgb(152, 20, 210)",
           "rgb(52, 147, 149)",
           "rgb(51, 125, 243)",
           "rgb(75, 33, 182)"
          ]
         },
         "parents": [
          "",
          "",
          "",
          "",
          "",
          "",
          "",
          "",
          "",
          "",
          "",
          "",
          "",
          "",
          "",
          "",
          "",
          "",
          "",
          "",
          "",
          "",
          "",
          "",
          "",
          "",
          "",
          "",
          "",
          "",
          "",
          "",
          "",
          "",
          "",
          "",
          "",
          "",
          "",
          "",
          "",
          "",
          "",
          "",
          "",
          "",
          "",
          "",
          "",
          "",
          "",
          "",
          "",
          "",
          "",
          "",
          "",
          "",
          "",
          ""
         ],
         "textinfo": "label+value",
         "type": "treemap",
         "values": [
          82,
          195,
          112,
          102,
          58,
          816,
          744,
          111,
          475,
          570,
          192,
          96,
          580,
          500,
          190,
          137,
          381,
          181,
          574,
          322,
          51,
          153,
          86,
          81,
          51,
          570,
          605,
          90,
          368,
          401,
          137,
          76,
          451,
          352,
          114,
          86,
          303,
          90,
          418,
          292,
          26,
          55,
          24,
          65,
          10,
          217,
          174,
          27,
          118,
          152,
          51,
          67,
          105,
          205,
          49,
          34,
          83,
          13,
          95,
          31
         ],
         "visible": false
        },
        {
         "labels": [
          "Afghanistan",
          "Albania",
          "Algeria",
          "Bangladesh",
          "Botswana",
          "Brazil",
          "China",
          "Egypt",
          "Georgia",
          "India",
          "Malaysia",
          "Mauritius",
          "Nigeria",
          "Pakistan",
          "Philippines (the)",
          "Somalia",
          "South Africa",
          "Turkiye",
          "United States of America (the)",
          "Zimbabwe",
          "Afghanistan",
          "Albania",
          "Algeria",
          "Bangladesh",
          "Botswana",
          "Brazil",
          "China",
          "Egypt",
          "Georgia",
          "India",
          "Malaysia",
          "Mauritius",
          "Nigeria",
          "Pakistan",
          "Philippines (the)",
          "Somalia",
          "South Africa",
          "Turkiye",
          "United States of America (the)",
          "Zimbabwe",
          "Afghanistan",
          "Albania",
          "Algeria",
          "Bangladesh",
          "Botswana",
          "Brazil",
          "China",
          "Egypt",
          "Georgia",
          "India",
          "Malaysia",
          "Mauritius",
          "Nigeria",
          "Pakistan",
          "Philippines (the)",
          "Somalia",
          "South Africa",
          "Turkiye",
          "United States of America (the)",
          "Zimbabwe"
         ],
         "marker": {
          "colors": [
           "rgb(161, 215, 6)",
           "rgb(46, 186, 84)",
           "rgb(253, 227, 69)",
           "rgb(45, 98, 69)",
           "rgb(65, 81, 218)",
           "rgb(159, 180, 151)",
           "rgb(244, 111, 114)",
           "rgb(241, 244, 171)",
           "rgb(64, 77, 154)",
           "rgb(162, 122, 139)",
           "rgb(199, 141, 236)",
           "rgb(133, 60, 68)",
           "rgb(228, 64, 130)",
           "rgb(228, 56, 36)",
           "rgb(29, 49, 90)",
           "rgb(107, 151, 241)",
           "rgb(152, 20, 210)",
           "rgb(52, 147, 149)",
           "rgb(51, 125, 243)",
           "rgb(75, 33, 182)",
           "rgb(161, 215, 6)",
           "rgb(46, 186, 84)",
           "rgb(253, 227, 69)",
           "rgb(45, 98, 69)",
           "rgb(65, 81, 218)",
           "rgb(159, 180, 151)",
           "rgb(244, 111, 114)",
           "rgb(241, 244, 171)",
           "rgb(64, 77, 154)",
           "rgb(162, 122, 139)",
           "rgb(199, 141, 236)",
           "rgb(133, 60, 68)",
           "rgb(228, 64, 130)",
           "rgb(228, 56, 36)",
           "rgb(29, 49, 90)",
           "rgb(107, 151, 241)",
           "rgb(152, 20, 210)",
           "rgb(52, 147, 149)",
           "rgb(51, 125, 243)",
           "rgb(75, 33, 182)",
           "rgb(161, 215, 6)",
           "rgb(46, 186, 84)",
           "rgb(253, 227, 69)",
           "rgb(45, 98, 69)",
           "rgb(65, 81, 218)",
           "rgb(159, 180, 151)",
           "rgb(244, 111, 114)",
           "rgb(241, 244, 171)",
           "rgb(64, 77, 154)",
           "rgb(162, 122, 139)",
           "rgb(199, 141, 236)",
           "rgb(133, 60, 68)",
           "rgb(228, 64, 130)",
           "rgb(228, 56, 36)",
           "rgb(29, 49, 90)",
           "rgb(107, 151, 241)",
           "rgb(152, 20, 210)",
           "rgb(52, 147, 149)",
           "rgb(51, 125, 243)",
           "rgb(75, 33, 182)"
          ]
         },
         "parents": [
          "",
          "",
          "",
          "",
          "",
          "",
          "",
          "",
          "",
          "",
          "",
          "",
          "",
          "",
          "",
          "",
          "",
          "",
          "",
          "",
          "",
          "",
          "",
          "",
          "",
          "",
          "",
          "",
          "",
          "",
          "",
          "",
          "",
          "",
          "",
          "",
          "",
          "",
          "",
          "",
          "",
          "",
          "",
          "",
          "",
          "",
          "",
          "",
          "",
          "",
          "",
          "",
          "",
          "",
          "",
          "",
          "",
          "",
          "",
          ""
         ],
         "textinfo": "label+value",
         "type": "treemap",
         "values": [
          222,
          305,
          224,
          201,
          62,
          1177,
          597,
          161,
          505,
          1096,
          270,
          56,
          1006,
          813,
          192,
          247,
          507,
          390,
          602,
          456,
          161,
          241,
          183,
          164,
          56,
          932,
          543,
          127,
          432,
          969,
          243,
          59,
          946,
          733,
          187,
          213,
          449,
          285,
          555,
          423,
          31,
          60,
          35,
          37,
          10,
          270,
          121,
          25,
          72,
          155,
          30,
          20,
          121,
          161,
          35,
          44,
          82,
          34,
          103,
          36
         ],
         "visible": false
        },
        {
         "labels": [
          "Afghanistan",
          "Albania",
          "Algeria",
          "Bangladesh",
          "Botswana",
          "Brazil",
          "China",
          "Egypt",
          "Georgia",
          "India",
          "Malaysia",
          "Mauritius",
          "Nigeria",
          "Pakistan",
          "Philippines (the)",
          "Somalia",
          "South Africa",
          "Turkiye",
          "United States of America (the)",
          "Zimbabwe",
          "Afghanistan",
          "Albania",
          "Algeria",
          "Bangladesh",
          "Botswana",
          "Brazil",
          "China",
          "Egypt",
          "Georgia",
          "India",
          "Malaysia",
          "Mauritius",
          "Nigeria",
          "Pakistan",
          "Philippines (the)",
          "Somalia",
          "South Africa",
          "Turkiye",
          "United States of America (the)",
          "Zimbabwe",
          "Afghanistan",
          "Albania",
          "Algeria",
          "Bangladesh",
          "Botswana",
          "Brazil",
          "China",
          "Egypt",
          "Georgia",
          "India",
          "Malaysia",
          "Mauritius",
          "Nigeria",
          "Pakistan",
          "Philippines (the)",
          "Somalia",
          "South Africa",
          "Turkiye",
          "United States of America (the)",
          "Zimbabwe"
         ],
         "marker": {
          "colors": [
           "rgb(161, 215, 6)",
           "rgb(46, 186, 84)",
           "rgb(253, 227, 69)",
           "rgb(45, 98, 69)",
           "rgb(65, 81, 218)",
           "rgb(159, 180, 151)",
           "rgb(244, 111, 114)",
           "rgb(241, 244, 171)",
           "rgb(64, 77, 154)",
           "rgb(162, 122, 139)",
           "rgb(199, 141, 236)",
           "rgb(133, 60, 68)",
           "rgb(228, 64, 130)",
           "rgb(228, 56, 36)",
           "rgb(29, 49, 90)",
           "rgb(107, 151, 241)",
           "rgb(152, 20, 210)",
           "rgb(52, 147, 149)",
           "rgb(51, 125, 243)",
           "rgb(75, 33, 182)",
           "rgb(161, 215, 6)",
           "rgb(46, 186, 84)",
           "rgb(253, 227, 69)",
           "rgb(45, 98, 69)",
           "rgb(65, 81, 218)",
           "rgb(159, 180, 151)",
           "rgb(244, 111, 114)",
           "rgb(241, 244, 171)",
           "rgb(64, 77, 154)",
           "rgb(162, 122, 139)",
           "rgb(199, 141, 236)",
           "rgb(133, 60, 68)",
           "rgb(228, 64, 130)",
           "rgb(228, 56, 36)",
           "rgb(29, 49, 90)",
           "rgb(107, 151, 241)",
           "rgb(152, 20, 210)",
           "rgb(52, 147, 149)",
           "rgb(51, 125, 243)",
           "rgb(75, 33, 182)",
           "rgb(161, 215, 6)",
           "rgb(46, 186, 84)",
           "rgb(253, 227, 69)",
           "rgb(45, 98, 69)",
           "rgb(65, 81, 218)",
           "rgb(159, 180, 151)",
           "rgb(244, 111, 114)",
           "rgb(241, 244, 171)",
           "rgb(64, 77, 154)",
           "rgb(162, 122, 139)",
           "rgb(199, 141, 236)",
           "rgb(133, 60, 68)",
           "rgb(228, 64, 130)",
           "rgb(228, 56, 36)",
           "rgb(29, 49, 90)",
           "rgb(107, 151, 241)",
           "rgb(152, 20, 210)",
           "rgb(52, 147, 149)",
           "rgb(51, 125, 243)",
           "rgb(75, 33, 182)"
          ]
         },
         "parents": [
          "",
          "",
          "",
          "",
          "",
          "",
          "",
          "",
          "",
          "",
          "",
          "",
          "",
          "",
          "",
          "",
          "",
          "",
          "",
          "",
          "",
          "",
          "",
          "",
          "",
          "",
          "",
          "",
          "",
          "",
          "",
          "",
          "",
          "",
          "",
          "",
          "",
          "",
          "",
          "",
          "",
          "",
          "",
          "",
          "",
          "",
          "",
          "",
          "",
          "",
          "",
          "",
          "",
          "",
          "",
          "",
          "",
          "",
          "",
          ""
         ],
         "textinfo": "label+value",
         "type": "treemap",
         "values": [
          376,
          364,
          1030,
          447,
          322,
          3149,
          2319,
          535,
          1937,
          2015,
          688,
          330,
          1958,
          2114,
          1050,
          1249,
          791,
          666,
          766,
          852,
          228,
          168,
          653,
          276,
          223,
          2115,
          1690,
          361,
          1130,
          1397,
          546,
          222,
          1361,
          863,
          907,
          913,
          570,
          507,
          610,
          639,
          66,
          60,
          46,
          32,
          28,
          404,
          189,
          31,
          167,
          269,
          53,
          20,
          150,
          156,
          62,
          94,
          83,
          54,
          83,
          67
         ],
         "visible": false
        },
        {
         "labels": [
          "Afghanistan",
          "Albania",
          "Algeria",
          "Bangladesh",
          "Botswana",
          "Brazil",
          "China",
          "Egypt",
          "Georgia",
          "India",
          "Malaysia",
          "Mauritius",
          "Nigeria",
          "Pakistan",
          "Philippines (the)",
          "Somalia",
          "South Africa",
          "Turkiye",
          "United States of America (the)",
          "Zimbabwe",
          "Afghanistan",
          "Albania",
          "Algeria",
          "Bangladesh",
          "Botswana",
          "Brazil",
          "China",
          "Egypt",
          "Georgia",
          "India",
          "Malaysia",
          "Mauritius",
          "Nigeria",
          "Pakistan",
          "Philippines (the)",
          "Somalia",
          "South Africa",
          "Turkiye",
          "United States of America (the)",
          "Zimbabwe",
          "Afghanistan",
          "Albania",
          "Algeria",
          "Bangladesh",
          "Botswana",
          "Brazil",
          "China",
          "Egypt",
          "Georgia",
          "India",
          "Malaysia",
          "Mauritius",
          "Nigeria",
          "Pakistan",
          "Philippines (the)",
          "Somalia",
          "South Africa",
          "Turkiye",
          "United States of America (the)",
          "Zimbabwe"
         ],
         "marker": {
          "colors": [
           "rgb(161, 215, 6)",
           "rgb(46, 186, 84)",
           "rgb(253, 227, 69)",
           "rgb(45, 98, 69)",
           "rgb(65, 81, 218)",
           "rgb(159, 180, 151)",
           "rgb(244, 111, 114)",
           "rgb(241, 244, 171)",
           "rgb(64, 77, 154)",
           "rgb(162, 122, 139)",
           "rgb(199, 141, 236)",
           "rgb(133, 60, 68)",
           "rgb(228, 64, 130)",
           "rgb(228, 56, 36)",
           "rgb(29, 49, 90)",
           "rgb(107, 151, 241)",
           "rgb(152, 20, 210)",
           "rgb(52, 147, 149)",
           "rgb(51, 125, 243)",
           "rgb(75, 33, 182)",
           "rgb(161, 215, 6)",
           "rgb(46, 186, 84)",
           "rgb(253, 227, 69)",
           "rgb(45, 98, 69)",
           "rgb(65, 81, 218)",
           "rgb(159, 180, 151)",
           "rgb(244, 111, 114)",
           "rgb(241, 244, 171)",
           "rgb(64, 77, 154)",
           "rgb(162, 122, 139)",
           "rgb(199, 141, 236)",
           "rgb(133, 60, 68)",
           "rgb(228, 64, 130)",
           "rgb(228, 56, 36)",
           "rgb(29, 49, 90)",
           "rgb(107, 151, 241)",
           "rgb(152, 20, 210)",
           "rgb(52, 147, 149)",
           "rgb(51, 125, 243)",
           "rgb(75, 33, 182)",
           "rgb(161, 215, 6)",
           "rgb(46, 186, 84)",
           "rgb(253, 227, 69)",
           "rgb(45, 98, 69)",
           "rgb(65, 81, 218)",
           "rgb(159, 180, 151)",
           "rgb(244, 111, 114)",
           "rgb(241, 244, 171)",
           "rgb(64, 77, 154)",
           "rgb(162, 122, 139)",
           "rgb(199, 141, 236)",
           "rgb(133, 60, 68)",
           "rgb(228, 64, 130)",
           "rgb(228, 56, 36)",
           "rgb(29, 49, 90)",
           "rgb(107, 151, 241)",
           "rgb(152, 20, 210)",
           "rgb(52, 147, 149)",
           "rgb(51, 125, 243)",
           "rgb(75, 33, 182)"
          ]
         },
         "parents": [
          "",
          "",
          "",
          "",
          "",
          "",
          "",
          "",
          "",
          "",
          "",
          "",
          "",
          "",
          "",
          "",
          "",
          "",
          "",
          "",
          "",
          "",
          "",
          "",
          "",
          "",
          "",
          "",
          "",
          "",
          "",
          "",
          "",
          "",
          "",
          "",
          "",
          "",
          "",
          "",
          "",
          "",
          "",
          "",
          "",
          "",
          "",
          "",
          "",
          "",
          "",
          "",
          "",
          "",
          "",
          "",
          "",
          "",
          "",
          ""
         ],
         "textinfo": "label+value",
         "type": "treemap",
         "values": [
          830,
          211,
          2305,
          357,
          451,
          2175,
          1588,
          567,
          2401,
          2084,
          446,
          117,
          2089,
          1133,
          336,
          1458,
          748,
          1873,
          798,
          1002,
          624,
          142,
          1780,
          238,
          330,
          1258,
          990,
          456,
          1807,
          1288,
          323,
          98,
          1644,
          1082,
          227,
          1175,
          432,
          1598,
          452,
          723,
          60,
          153,
          118,
          136,
          17,
          594,
          247,
          99,
          501,
          351,
          63,
          57,
          328,
          663,
          81,
          105,
          160,
          124,
          88,
          59
         ],
         "visible": false
        },
        {
         "labels": [
          "Afghanistan",
          "Albania",
          "Algeria",
          "Bangladesh",
          "Botswana",
          "Brazil",
          "China",
          "Egypt",
          "Georgia",
          "India",
          "Malaysia",
          "Mauritius",
          "Nigeria",
          "Pakistan",
          "Philippines (the)",
          "Somalia",
          "South Africa",
          "Turkiye",
          "United States of America (the)",
          "Zimbabwe",
          "Afghanistan",
          "Albania",
          "Algeria",
          "Bangladesh",
          "Botswana",
          "Brazil",
          "China",
          "Egypt",
          "Georgia",
          "India",
          "Malaysia",
          "Mauritius",
          "Nigeria",
          "Pakistan",
          "Philippines (the)",
          "Somalia",
          "South Africa",
          "Turkiye",
          "United States of America (the)",
          "Zimbabwe",
          "Afghanistan",
          "Albania",
          "Algeria",
          "Bangladesh",
          "Botswana",
          "Brazil",
          "China",
          "Egypt",
          "Georgia",
          "India",
          "Malaysia",
          "Mauritius",
          "Nigeria",
          "Pakistan",
          "Philippines (the)",
          "Somalia",
          "South Africa",
          "Turkiye",
          "United States of America (the)",
          "Zimbabwe"
         ],
         "marker": {
          "colors": [
           "rgb(161, 215, 6)",
           "rgb(46, 186, 84)",
           "rgb(253, 227, 69)",
           "rgb(45, 98, 69)",
           "rgb(65, 81, 218)",
           "rgb(159, 180, 151)",
           "rgb(244, 111, 114)",
           "rgb(241, 244, 171)",
           "rgb(64, 77, 154)",
           "rgb(162, 122, 139)",
           "rgb(199, 141, 236)",
           "rgb(133, 60, 68)",
           "rgb(228, 64, 130)",
           "rgb(228, 56, 36)",
           "rgb(29, 49, 90)",
           "rgb(107, 151, 241)",
           "rgb(152, 20, 210)",
           "rgb(52, 147, 149)",
           "rgb(51, 125, 243)",
           "rgb(75, 33, 182)",
           "rgb(161, 215, 6)",
           "rgb(46, 186, 84)",
           "rgb(253, 227, 69)",
           "rgb(45, 98, 69)",
           "rgb(65, 81, 218)",
           "rgb(159, 180, 151)",
           "rgb(244, 111, 114)",
           "rgb(241, 244, 171)",
           "rgb(64, 77, 154)",
           "rgb(162, 122, 139)",
           "rgb(199, 141, 236)",
           "rgb(133, 60, 68)",
           "rgb(228, 64, 130)",
           "rgb(228, 56, 36)",
           "rgb(29, 49, 90)",
           "rgb(107, 151, 241)",
           "rgb(152, 20, 210)",
           "rgb(52, 147, 149)",
           "rgb(51, 125, 243)",
           "rgb(75, 33, 182)",
           "rgb(161, 215, 6)",
           "rgb(46, 186, 84)",
           "rgb(253, 227, 69)",
           "rgb(45, 98, 69)",
           "rgb(65, 81, 218)",
           "rgb(159, 180, 151)",
           "rgb(244, 111, 114)",
           "rgb(241, 244, 171)",
           "rgb(64, 77, 154)",
           "rgb(162, 122, 139)",
           "rgb(199, 141, 236)",
           "rgb(133, 60, 68)",
           "rgb(228, 64, 130)",
           "rgb(228, 56, 36)",
           "rgb(29, 49, 90)",
           "rgb(107, 151, 241)",
           "rgb(152, 20, 210)",
           "rgb(52, 147, 149)",
           "rgb(51, 125, 243)",
           "rgb(75, 33, 182)"
          ]
         },
         "parents": [
          "",
          "",
          "",
          "",
          "",
          "",
          "",
          "",
          "",
          "",
          "",
          "",
          "",
          "",
          "",
          "",
          "",
          "",
          "",
          "",
          "",
          "",
          "",
          "",
          "",
          "",
          "",
          "",
          "",
          "",
          "",
          "",
          "",
          "",
          "",
          "",
          "",
          "",
          "",
          "",
          "",
          "",
          "",
          "",
          "",
          "",
          "",
          "",
          "",
          "",
          "",
          "",
          "",
          "",
          "",
          "",
          "",
          "",
          "",
          ""
         ],
         "textinfo": "label+value",
         "type": "treemap",
         "values": [
          553,
          105,
          1480,
          657,
          399,
          1775,
          1178,
          373,
          1296,
          1793,
          296,
          80,
          2753,
          993,
          256,
          928,
          607,
          1165,
          594,
          762,
          642,
          88,
          1902,
          538,
          489,
          1206,
          1048,
          444,
          1458,
          1137,
          300,
          63,
          2474,
          947,
          194,
          1142,
          399,
          840,
          500,
          908,
          58,
          79,
          197,
          51,
          27,
          535,
          218,
          41,
          438,
          371,
          50,
          29,
          216,
          270,
          55,
          68,
          290,
          126,
          94,
          54
         ],
         "visible": false
        }
       ],
       "layout": {
        "sliders": [
         {
          "active": 0,
          "currentvalue": {
           "prefix": "Year: "
          },
          "steps": [
           {
            "args": [
             {
              "visible": [
               true,
               false,
               false,
               false,
               false,
               false,
               false,
               false
              ]
             },
             {
              "title": "Treemap of Applications by Nationality - 2017"
             }
            ],
            "label": "2017",
            "method": "update"
           },
           {
            "args": [
             {
              "visible": [
               false,
               true,
               false,
               false,
               false,
               false,
               false,
               false
              ]
             },
             {
              "title": "Treemap of Applications by Nationality - 2018"
             }
            ],
            "label": "2018",
            "method": "update"
           },
           {
            "args": [
             {
              "visible": [
               false,
               false,
               true,
               false,
               false,
               false,
               false,
               false
              ]
             },
             {
              "title": "Treemap of Applications by Nationality - 2019"
             }
            ],
            "label": "2019",
            "method": "update"
           },
           {
            "args": [
             {
              "visible": [
               false,
               false,
               false,
               true,
               false,
               false,
               false,
               false
              ]
             },
             {
              "title": "Treemap of Applications by Nationality - 2020"
             }
            ],
            "label": "2020",
            "method": "update"
           },
           {
            "args": [
             {
              "visible": [
               false,
               false,
               false,
               false,
               true,
               false,
               false,
               false
              ]
             },
             {
              "title": "Treemap of Applications by Nationality - 2021"
             }
            ],
            "label": "2021",
            "method": "update"
           },
           {
            "args": [
             {
              "visible": [
               false,
               false,
               false,
               false,
               false,
               true,
               false,
               false
              ]
             },
             {
              "title": "Treemap of Applications by Nationality - 2022"
             }
            ],
            "label": "2022",
            "method": "update"
           },
           {
            "args": [
             {
              "visible": [
               false,
               false,
               false,
               false,
               false,
               false,
               true,
               false
              ]
             },
             {
              "title": "Treemap of Applications by Nationality - 2023"
             }
            ],
            "label": "2023",
            "method": "update"
           },
           {
            "args": [
             {
              "visible": [
               false,
               false,
               false,
               false,
               false,
               false,
               false,
               true
              ]
             },
             {
              "title": "Treemap of Applications by Nationality - 2024"
             }
            ],
            "label": "2024",
            "method": "update"
           }
          ]
         }
        ],
        "template": {
         "data": {
          "bar": [
           {
            "error_x": {
             "color": "#2a3f5f"
            },
            "error_y": {
             "color": "#2a3f5f"
            },
            "marker": {
             "line": {
              "color": "#E5ECF6",
              "width": 0.5
             },
             "pattern": {
              "fillmode": "overlay",
              "size": 10,
              "solidity": 0.2
             }
            },
            "type": "bar"
           }
          ],
          "barpolar": [
           {
            "marker": {
             "line": {
              "color": "#E5ECF6",
              "width": 0.5
             },
             "pattern": {
              "fillmode": "overlay",
              "size": 10,
              "solidity": 0.2
             }
            },
            "type": "barpolar"
           }
          ],
          "carpet": [
           {
            "aaxis": {
             "endlinecolor": "#2a3f5f",
             "gridcolor": "white",
             "linecolor": "white",
             "minorgridcolor": "white",
             "startlinecolor": "#2a3f5f"
            },
            "baxis": {
             "endlinecolor": "#2a3f5f",
             "gridcolor": "white",
             "linecolor": "white",
             "minorgridcolor": "white",
             "startlinecolor": "#2a3f5f"
            },
            "type": "carpet"
           }
          ],
          "choropleth": [
           {
            "colorbar": {
             "outlinewidth": 0,
             "ticks": ""
            },
            "type": "choropleth"
           }
          ],
          "contour": [
           {
            "colorbar": {
             "outlinewidth": 0,
             "ticks": ""
            },
            "colorscale": [
             [
              0,
              "#0d0887"
             ],
             [
              0.1111111111111111,
              "#46039f"
             ],
             [
              0.2222222222222222,
              "#7201a8"
             ],
             [
              0.3333333333333333,
              "#9c179e"
             ],
             [
              0.4444444444444444,
              "#bd3786"
             ],
             [
              0.5555555555555556,
              "#d8576b"
             ],
             [
              0.6666666666666666,
              "#ed7953"
             ],
             [
              0.7777777777777778,
              "#fb9f3a"
             ],
             [
              0.8888888888888888,
              "#fdca26"
             ],
             [
              1,
              "#f0f921"
             ]
            ],
            "type": "contour"
           }
          ],
          "contourcarpet": [
           {
            "colorbar": {
             "outlinewidth": 0,
             "ticks": ""
            },
            "type": "contourcarpet"
           }
          ],
          "heatmap": [
           {
            "colorbar": {
             "outlinewidth": 0,
             "ticks": ""
            },
            "colorscale": [
             [
              0,
              "#0d0887"
             ],
             [
              0.1111111111111111,
              "#46039f"
             ],
             [
              0.2222222222222222,
              "#7201a8"
             ],
             [
              0.3333333333333333,
              "#9c179e"
             ],
             [
              0.4444444444444444,
              "#bd3786"
             ],
             [
              0.5555555555555556,
              "#d8576b"
             ],
             [
              0.6666666666666666,
              "#ed7953"
             ],
             [
              0.7777777777777778,
              "#fb9f3a"
             ],
             [
              0.8888888888888888,
              "#fdca26"
             ],
             [
              1,
              "#f0f921"
             ]
            ],
            "type": "heatmap"
           }
          ],
          "heatmapgl": [
           {
            "colorbar": {
             "outlinewidth": 0,
             "ticks": ""
            },
            "colorscale": [
             [
              0,
              "#0d0887"
             ],
             [
              0.1111111111111111,
              "#46039f"
             ],
             [
              0.2222222222222222,
              "#7201a8"
             ],
             [
              0.3333333333333333,
              "#9c179e"
             ],
             [
              0.4444444444444444,
              "#bd3786"
             ],
             [
              0.5555555555555556,
              "#d8576b"
             ],
             [
              0.6666666666666666,
              "#ed7953"
             ],
             [
              0.7777777777777778,
              "#fb9f3a"
             ],
             [
              0.8888888888888888,
              "#fdca26"
             ],
             [
              1,
              "#f0f921"
             ]
            ],
            "type": "heatmapgl"
           }
          ],
          "histogram": [
           {
            "marker": {
             "pattern": {
              "fillmode": "overlay",
              "size": 10,
              "solidity": 0.2
             }
            },
            "type": "histogram"
           }
          ],
          "histogram2d": [
           {
            "colorbar": {
             "outlinewidth": 0,
             "ticks": ""
            },
            "colorscale": [
             [
              0,
              "#0d0887"
             ],
             [
              0.1111111111111111,
              "#46039f"
             ],
             [
              0.2222222222222222,
              "#7201a8"
             ],
             [
              0.3333333333333333,
              "#9c179e"
             ],
             [
              0.4444444444444444,
              "#bd3786"
             ],
             [
              0.5555555555555556,
              "#d8576b"
             ],
             [
              0.6666666666666666,
              "#ed7953"
             ],
             [
              0.7777777777777778,
              "#fb9f3a"
             ],
             [
              0.8888888888888888,
              "#fdca26"
             ],
             [
              1,
              "#f0f921"
             ]
            ],
            "type": "histogram2d"
           }
          ],
          "histogram2dcontour": [
           {
            "colorbar": {
             "outlinewidth": 0,
             "ticks": ""
            },
            "colorscale": [
             [
              0,
              "#0d0887"
             ],
             [
              0.1111111111111111,
              "#46039f"
             ],
             [
              0.2222222222222222,
              "#7201a8"
             ],
             [
              0.3333333333333333,
              "#9c179e"
             ],
             [
              0.4444444444444444,
              "#bd3786"
             ],
             [
              0.5555555555555556,
              "#d8576b"
             ],
             [
              0.6666666666666666,
              "#ed7953"
             ],
             [
              0.7777777777777778,
              "#fb9f3a"
             ],
             [
              0.8888888888888888,
              "#fdca26"
             ],
             [
              1,
              "#f0f921"
             ]
            ],
            "type": "histogram2dcontour"
           }
          ],
          "mesh3d": [
           {
            "colorbar": {
             "outlinewidth": 0,
             "ticks": ""
            },
            "type": "mesh3d"
           }
          ],
          "parcoords": [
           {
            "line": {
             "colorbar": {
              "outlinewidth": 0,
              "ticks": ""
             }
            },
            "type": "parcoords"
           }
          ],
          "pie": [
           {
            "automargin": true,
            "type": "pie"
           }
          ],
          "scatter": [
           {
            "fillpattern": {
             "fillmode": "overlay",
             "size": 10,
             "solidity": 0.2
            },
            "type": "scatter"
           }
          ],
          "scatter3d": [
           {
            "line": {
             "colorbar": {
              "outlinewidth": 0,
              "ticks": ""
             }
            },
            "marker": {
             "colorbar": {
              "outlinewidth": 0,
              "ticks": ""
             }
            },
            "type": "scatter3d"
           }
          ],
          "scattercarpet": [
           {
            "marker": {
             "colorbar": {
              "outlinewidth": 0,
              "ticks": ""
             }
            },
            "type": "scattercarpet"
           }
          ],
          "scattergeo": [
           {
            "marker": {
             "colorbar": {
              "outlinewidth": 0,
              "ticks": ""
             }
            },
            "type": "scattergeo"
           }
          ],
          "scattergl": [
           {
            "marker": {
             "colorbar": {
              "outlinewidth": 0,
              "ticks": ""
             }
            },
            "type": "scattergl"
           }
          ],
          "scattermapbox": [
           {
            "marker": {
             "colorbar": {
              "outlinewidth": 0,
              "ticks": ""
             }
            },
            "type": "scattermapbox"
           }
          ],
          "scatterpolar": [
           {
            "marker": {
             "colorbar": {
              "outlinewidth": 0,
              "ticks": ""
             }
            },
            "type": "scatterpolar"
           }
          ],
          "scatterpolargl": [
           {
            "marker": {
             "colorbar": {
              "outlinewidth": 0,
              "ticks": ""
             }
            },
            "type": "scatterpolargl"
           }
          ],
          "scatterternary": [
           {
            "marker": {
             "colorbar": {
              "outlinewidth": 0,
              "ticks": ""
             }
            },
            "type": "scatterternary"
           }
          ],
          "surface": [
           {
            "colorbar": {
             "outlinewidth": 0,
             "ticks": ""
            },
            "colorscale": [
             [
              0,
              "#0d0887"
             ],
             [
              0.1111111111111111,
              "#46039f"
             ],
             [
              0.2222222222222222,
              "#7201a8"
             ],
             [
              0.3333333333333333,
              "#9c179e"
             ],
             [
              0.4444444444444444,
              "#bd3786"
             ],
             [
              0.5555555555555556,
              "#d8576b"
             ],
             [
              0.6666666666666666,
              "#ed7953"
             ],
             [
              0.7777777777777778,
              "#fb9f3a"
             ],
             [
              0.8888888888888888,
              "#fdca26"
             ],
             [
              1,
              "#f0f921"
             ]
            ],
            "type": "surface"
           }
          ],
          "table": [
           {
            "cells": {
             "fill": {
              "color": "#EBF0F8"
             },
             "line": {
              "color": "white"
             }
            },
            "header": {
             "fill": {
              "color": "#C8D4E3"
             },
             "line": {
              "color": "white"
             }
            },
            "type": "table"
           }
          ]
         },
         "layout": {
          "annotationdefaults": {
           "arrowcolor": "#2a3f5f",
           "arrowhead": 0,
           "arrowwidth": 1
          },
          "autotypenumbers": "strict",
          "coloraxis": {
           "colorbar": {
            "outlinewidth": 0,
            "ticks": ""
           }
          },
          "colorscale": {
           "diverging": [
            [
             0,
             "#8e0152"
            ],
            [
             0.1,
             "#c51b7d"
            ],
            [
             0.2,
             "#de77ae"
            ],
            [
             0.3,
             "#f1b6da"
            ],
            [
             0.4,
             "#fde0ef"
            ],
            [
             0.5,
             "#f7f7f7"
            ],
            [
             0.6,
             "#e6f5d0"
            ],
            [
             0.7,
             "#b8e186"
            ],
            [
             0.8,
             "#7fbc41"
            ],
            [
             0.9,
             "#4d9221"
            ],
            [
             1,
             "#276419"
            ]
           ],
           "sequential": [
            [
             0,
             "#0d0887"
            ],
            [
             0.1111111111111111,
             "#46039f"
            ],
            [
             0.2222222222222222,
             "#7201a8"
            ],
            [
             0.3333333333333333,
             "#9c179e"
            ],
            [
             0.4444444444444444,
             "#bd3786"
            ],
            [
             0.5555555555555556,
             "#d8576b"
            ],
            [
             0.6666666666666666,
             "#ed7953"
            ],
            [
             0.7777777777777778,
             "#fb9f3a"
            ],
            [
             0.8888888888888888,
             "#fdca26"
            ],
            [
             1,
             "#f0f921"
            ]
           ],
           "sequentialminus": [
            [
             0,
             "#0d0887"
            ],
            [
             0.1111111111111111,
             "#46039f"
            ],
            [
             0.2222222222222222,
             "#7201a8"
            ],
            [
             0.3333333333333333,
             "#9c179e"
            ],
            [
             0.4444444444444444,
             "#bd3786"
            ],
            [
             0.5555555555555556,
             "#d8576b"
            ],
            [
             0.6666666666666666,
             "#ed7953"
            ],
            [
             0.7777777777777778,
             "#fb9f3a"
            ],
            [
             0.8888888888888888,
             "#fdca26"
            ],
            [
             1,
             "#f0f921"
            ]
           ]
          },
          "colorway": [
           "#636efa",
           "#EF553B",
           "#00cc96",
           "#ab63fa",
           "#FFA15A",
           "#19d3f3",
           "#FF6692",
           "#B6E880",
           "#FF97FF",
           "#FECB52"
          ],
          "font": {
           "color": "#2a3f5f"
          },
          "geo": {
           "bgcolor": "white",
           "lakecolor": "white",
           "landcolor": "#E5ECF6",
           "showlakes": true,
           "showland": true,
           "subunitcolor": "white"
          },
          "hoverlabel": {
           "align": "left"
          },
          "hovermode": "closest",
          "mapbox": {
           "style": "light"
          },
          "paper_bgcolor": "white",
          "plot_bgcolor": "#E5ECF6",
          "polar": {
           "angularaxis": {
            "gridcolor": "white",
            "linecolor": "white",
            "ticks": ""
           },
           "bgcolor": "#E5ECF6",
           "radialaxis": {
            "gridcolor": "white",
            "linecolor": "white",
            "ticks": ""
           }
          },
          "scene": {
           "xaxis": {
            "backgroundcolor": "#E5ECF6",
            "gridcolor": "white",
            "gridwidth": 2,
            "linecolor": "white",
            "showbackground": true,
            "ticks": "",
            "zerolinecolor": "white"
           },
           "yaxis": {
            "backgroundcolor": "#E5ECF6",
            "gridcolor": "white",
            "gridwidth": 2,
            "linecolor": "white",
            "showbackground": true,
            "ticks": "",
            "zerolinecolor": "white"
           },
           "zaxis": {
            "backgroundcolor": "#E5ECF6",
            "gridcolor": "white",
            "gridwidth": 2,
            "linecolor": "white",
            "showbackground": true,
            "ticks": "",
            "zerolinecolor": "white"
           }
          },
          "shapedefaults": {
           "line": {
            "color": "#2a3f5f"
           }
          },
          "ternary": {
           "aaxis": {
            "gridcolor": "white",
            "linecolor": "white",
            "ticks": ""
           },
           "baxis": {
            "gridcolor": "white",
            "linecolor": "white",
            "ticks": ""
           },
           "bgcolor": "#E5ECF6",
           "caxis": {
            "gridcolor": "white",
            "linecolor": "white",
            "ticks": ""
           }
          },
          "title": {
           "x": 0.05
          },
          "xaxis": {
           "automargin": true,
           "gridcolor": "white",
           "linecolor": "white",
           "ticks": "",
           "title": {
            "standoff": 15
           },
           "zerolinecolor": "white",
           "zerolinewidth": 2
          },
          "yaxis": {
           "automargin": true,
           "gridcolor": "white",
           "linecolor": "white",
           "ticks": "",
           "title": {
            "standoff": 15
           },
           "zerolinecolor": "white",
           "zerolinewidth": 2
          }
         }
        },
        "title": {
         "text": "Treemap of Applications by Nationality Over Time (Top 20 Nationalities, 2017-2024)"
        }
       }
      }
     },
     "metadata": {},
     "output_type": "display_data"
    }
   ],
   "source": [
    "\n",
    "import plotly.graph_objects as go\n",
    "import pandas as pd\n",
    "import random\n",
    "\n",
    "# Load the provided dataset\n",
    "file_path = \"Domestic Residence and Permissions.csv\"  # Ensure the correct path is set\n",
    "data = pd.read_csv(file_path, encoding='latin1')\n",
    "\n",
    "# Convert yearly columns to numeric and handle non-numeric values\n",
    "year_columns = ['2017', '2018', '2019', '2020', '2021', '2022', '2023', '2024']\n",
    "for col in year_columns:\n",
    "    data[col] = pd.to_numeric(data[col], errors='coerce')\n",
    "\n",
    "# Filter to only rows where the total applications are non-zero across all years\n",
    "data['Total_Applications'] = data[year_columns].sum(axis=1)\n",
    "data_filtered = data[data['Total_Applications'] > 0]\n",
    "\n",
    "# Melt the data for easier year-wise visualization\n",
    "melted_data = data_filtered.melt(id_vars=['Nationality'], value_vars=year_columns, \n",
    "                                 var_name='Year', value_name='Applications')\n",
    "\n",
    "# Ensure 'Year' and 'Applications' columns are numeric\n",
    "melted_data['Year'] = melted_data['Year'].astype(int)\n",
    "melted_data['Applications'] = pd.to_numeric(melted_data['Applications'], errors='coerce').fillna(0)\n",
    "\n",
    "# Identify the top 20 nationalities with the highest total applications\n",
    "top_nationalities = (\n",
    "    melted_data.groupby('Nationality')['Applications'].sum()\n",
    "    .nlargest(20).index\n",
    ")\n",
    "\n",
    "# Filter the data to include only the top 20 nationalities\n",
    "top_20_data = melted_data[melted_data['Nationality'].isin(top_nationalities)]\n",
    "\n",
    "# Assign consistent colors for each country across years\n",
    "unique_nationalities = top_20_data['Nationality'].unique()\n",
    "color_map = {country: f\"rgb({random.randint(0,255)}, {random.randint(0,255)}, {random.randint(0,255)})\" \n",
    "             for country in unique_nationalities}\n",
    "\n",
    "# Create a base figure object\n",
    "fig = go.Figure()\n",
    "\n",
    "# Generate frames for each year with corrected visibility handling and consistent colors for top 20\n",
    "for year in sorted(top_20_data['Year'].unique()):\n",
    "    filtered_data = top_20_data[top_20_data['Year'] == year]\n",
    "    fig.add_trace(\n",
    "        go.Treemap(\n",
    "            labels=filtered_data['Nationality'],\n",
    "            parents=[\"\"] * len(filtered_data),\n",
    "            values=filtered_data['Applications'],\n",
    "            textinfo=\"label+value\",\n",
    "            marker=dict(colors=[color_map[n] for n in filtered_data['Nationality']]),\n",
    "            visible=(year == sorted(top_20_data['Year'].unique())[0])  # Show only the first year by default\n",
    "        )\n",
    "    )\n",
    "\n",
    "# Create a slider for year selection\n",
    "steps = []\n",
    "for i, year in enumerate(sorted(top_20_data['Year'].unique())):\n",
    "    step = {\n",
    "        \"method\": \"update\",\n",
    "        \"args\": [{\"visible\": [i == j for j in range(len(fig.data))]},\n",
    "                 {\"title\": f\"Treemap of Applications by Nationality - {year}\"}],\n",
    "        \"label\": str(year)\n",
    "    }\n",
    "    steps.append(step)\n",
    "\n",
    "# Update the layout to include the slider\n",
    "fig.update_layout(\n",
    "    title=\"Treemap of Applications by Nationality Over Time (Top 20 Nationalities, 2017-2024)\",\n",
    "    sliders=[{\n",
    "        \"active\": 0,\n",
    "        \"currentvalue\": {\"prefix\": \"Year: \"},\n",
    "        \"steps\": steps\n",
    "    }]\n",
    ")\n",
    "\n",
    "# Display the interactive treemap with a slider\n",
    "fig.show()\n"
   ]
  },
  {
   "cell_type": "markdown",
   "metadata": {},
   "source": [
    "## Interactive Geographic Map\n",
    "This map visualizes the distribution of applications across countries using a world map.\n"
   ]
  },
  {
   "cell_type": "code",
   "execution_count": 52,
   "metadata": {},
   "outputs": [
    {
     "data": {
      "application/vnd.plotly.v1+json": {
       "config": {
        "plotlyServerURL": "https://plot.ly"
       },
       "data": [
        {
         "coloraxis": "coloraxis",
         "geo": "geo",
         "hovertemplate": "<b>%{hovertext}</b><br><br>Year=2017<br>Nationality=%{location}<br>Applications=%{z}<extra></extra>",
         "hovertext": [
          "Afghanistan",
          "Albania",
          "Algeria",
          "Angola",
          "Argentina",
          "Armenia",
          "Australia",
          "Azerbaijan",
          "Bahrain",
          "Bangladesh",
          "Belarus",
          "Bolivia (Plurinational State of)",
          "Bosnia and Herzegovina",
          "Botswana",
          "Brazil",
          "Burundi",
          "Cambodia",
          "Cameroon",
          "Canada",
          "Chad",
          "Chile",
          "China",
          "Colombia",
          "Congo (the Democratic Republic of the)",
          "Congo (the)",
          "Costa Rica",
          "Côte d'Ivoire",
          "Cuba",
          "Djibouti",
          "Dominica",
          "Dominican Republic (the)",
          "Ecuador",
          "Egypt",
          "El Salvador",
          "Eritrea",
          "Eswatini",
          "Ethiopia",
          "Gambia (the)",
          "Georgia",
          "Ghana",
          "Grenada",
          "Guatemala",
          "Guinea",
          "Guyana",
          "Haiti",
          "Honduras",
          "India",
          "Indonesia",
          "Iran (Islamic Republic of)",
          "Iraq",
          "Israel",
          "Jamaica",
          "Japan",
          "Jordan",
          "Kazakhstan",
          "Kenya",
          "Korea (the Republic of) South Korea",
          "Kosovo",
          "Kuwait",
          "Kyrgyzstan",
          "Lebanon",
          "Lesotho",
          "Liberia",
          "Libya",
          "Malawi",
          "Malaysia",
          "Mauritius",
          "Mexico",
          "Moldova (the Republic of)",
          "Mongolia",
          "Morocco",
          "Mozambique",
          "Myanmar",
          "Namibia",
          "Nepal",
          "New Zealand",
          "Nicaragua",
          "Niger (the)",
          "Nigeria",
          "North Macedonia",
          "Oman",
          "Pakistan",
          "Palestine, State of",
          "Panama",
          "Paraguay",
          "Peru",
          "Philippines (the)",
          "Russian Federation (the)",
          "Rwanda",
          "Saudi Arabia",
          "Senegal",
          "Serbia",
          "Sierra Leone",
          "Singapore",
          "Somalia",
          "South Africa",
          "South Sudan",
          "Sri Lanka",
          "Sudan (the)",
          "Syrian Arab Republic (the)",
          "Taiwan (Province of China)",
          "Tanzania, the United Republic of",
          "Thailand",
          "Togo",
          "Trinidad and Tobago",
          "Tunisia",
          "Turkiye",
          "Uganda",
          "Ukraine",
          "United Arab Emirates (the)",
          "United States of America (the)",
          "Uruguay",
          "Uzbekistan",
          "Venezuela (Bolivarian Republic of)",
          "Viet Nam",
          "Yemen",
          "Zambia",
          "Zimbabwe",
          "*Other",
          "Dual Nationality",
          "Afghanistan",
          "Albania",
          "Algeria",
          "Angola",
          "Argentina",
          "Armenia",
          "Australia",
          "Azerbaijan",
          "Bahrain",
          "Bangladesh",
          "Belarus",
          "Bolivia (Plurinational State of)",
          "Botswana",
          "Brazil",
          "Burundi",
          "Cambodia",
          "Cameroon",
          "Canada",
          "Chad",
          "Chile",
          "China",
          "Colombia",
          "Congo (the Democratic Republic of the)",
          "Congo (the)",
          "Costa Rica",
          "Côte d'Ivoire",
          "Cuba",
          "Dominica",
          "Ecuador",
          "Egypt",
          "El Salvador",
          "Eritrea",
          "Eswatini",
          "Ethiopia",
          "Gambia (the)",
          "Georgia",
          "Ghana",
          "Grenada",
          "Guatemala",
          "Guinea",
          "Guyana",
          "Honduras",
          "India",
          "Indonesia",
          "Iran (Islamic Republic of)",
          "Iraq",
          "Israel",
          "Jamaica",
          "Japan",
          "Jordan",
          "Kazakhstan",
          "Kenya",
          "Korea (the Republic of) South Korea",
          "Kosovo",
          "Kuwait",
          "Lebanon",
          "Lesotho",
          "Liberia",
          "Libya",
          "Malawi",
          "Malaysia",
          "Mauritius",
          "Mexico",
          "Moldova (the Republic of)",
          "Mongolia",
          "Morocco",
          "Mozambique",
          "Myanmar",
          "Namibia",
          "Nepal",
          "New Zealand",
          "Nicaragua",
          "Niger (the)",
          "Nigeria",
          "North Macedonia",
          "Oman",
          "Pakistan",
          "Palestine, State of",
          "Panama",
          "Paraguay",
          "Peru",
          "Philippines (the)",
          "Russian Federation (the)",
          "Rwanda",
          "Saudi Arabia",
          "Senegal",
          "Serbia",
          "Sierra Leone",
          "Singapore",
          "Somalia",
          "South Africa",
          "Sri Lanka",
          "Sudan (the)",
          "Syrian Arab Republic (the)",
          "Taiwan (Province of China)",
          "Tanzania, the United Republic of",
          "Thailand",
          "Togo",
          "Trinidad and Tobago",
          "Tunisia",
          "Turkiye",
          "Uganda",
          "Ukraine",
          "United Arab Emirates (the)",
          "United States of America (the)",
          "Uruguay",
          "Uzbekistan",
          "Venezuela (Bolivarian Republic of)",
          "Viet Nam",
          "Yemen",
          "Zambia",
          "Zimbabwe",
          "*Other",
          "Dual Nationality",
          "Afghanistan",
          "Albania",
          "Algeria",
          "Angola",
          "Argentina",
          "Armenia",
          "Australia",
          "Bangladesh",
          "Belarus",
          "Bolivia (Plurinational State of)",
          "Botswana",
          "Brazil",
          "Cameroon",
          "Canada",
          "Chile",
          "China",
          "Colombia",
          "Congo (the Democratic Republic of the)",
          "Congo (the)",
          "Costa Rica",
          "Egypt",
          "El Salvador",
          "Eritrea",
          "Eswatini",
          "Ethiopia",
          "Georgia",
          "Ghana",
          "Grenada",
          "Guinea",
          "Honduras",
          "India",
          "Iran (Islamic Republic of)",
          "Iraq",
          "Israel",
          "Jamaica",
          "Japan",
          "Jordan",
          "Kenya",
          "Korea (the Republic of) South Korea",
          "Kosovo",
          "Kuwait",
          "Lebanon",
          "Liberia",
          "Libya",
          "Malawi",
          "Malaysia",
          "Mauritius",
          "Mexico",
          "Moldova (the Republic of)",
          "Mongolia",
          "Morocco",
          "Nepal",
          "New Zealand",
          "Nigeria",
          "Pakistan",
          "Palestine, State of",
          "Panama",
          "Philippines (the)",
          "Russian Federation (the)",
          "Saudi Arabia",
          "Serbia",
          "Sierra Leone",
          "Singapore",
          "Somalia",
          "South Africa",
          "Sri Lanka",
          "Sudan (the)",
          "Syrian Arab Republic (the)",
          "Thailand",
          "Togo",
          "Tunisia",
          "Turkiye",
          "Uganda",
          "Ukraine",
          "United States of America (the)",
          "Venezuela (Bolivarian Republic of)",
          "Viet Nam",
          "Zambia",
          "Zimbabwe",
          "*Other",
          "Dual Nationality"
         ],
         "locationmode": "country names",
         "locations": [
          "Afghanistan",
          "Albania",
          "Algeria",
          "Angola",
          "Argentina",
          "Armenia",
          "Australia",
          "Azerbaijan",
          "Bahrain",
          "Bangladesh",
          "Belarus",
          "Bolivia (Plurinational State of)",
          "Bosnia and Herzegovina",
          "Botswana",
          "Brazil",
          "Burundi",
          "Cambodia",
          "Cameroon",
          "Canada",
          "Chad",
          "Chile",
          "China",
          "Colombia",
          "Congo (the Democratic Republic of the)",
          "Congo (the)",
          "Costa Rica",
          "Côte d'Ivoire",
          "Cuba",
          "Djibouti",
          "Dominica",
          "Dominican Republic (the)",
          "Ecuador",
          "Egypt",
          "El Salvador",
          "Eritrea",
          "Eswatini",
          "Ethiopia",
          "Gambia (the)",
          "Georgia",
          "Ghana",
          "Grenada",
          "Guatemala",
          "Guinea",
          "Guyana",
          "Haiti",
          "Honduras",
          "India",
          "Indonesia",
          "Iran (Islamic Republic of)",
          "Iraq",
          "Israel",
          "Jamaica",
          "Japan",
          "Jordan",
          "Kazakhstan",
          "Kenya",
          "Korea (the Republic of) South Korea",
          "Kosovo",
          "Kuwait",
          "Kyrgyzstan",
          "Lebanon",
          "Lesotho",
          "Liberia",
          "Libya",
          "Malawi",
          "Malaysia",
          "Mauritius",
          "Mexico",
          "Moldova (the Republic of)",
          "Mongolia",
          "Morocco",
          "Mozambique",
          "Myanmar",
          "Namibia",
          "Nepal",
          "New Zealand",
          "Nicaragua",
          "Niger (the)",
          "Nigeria",
          "North Macedonia",
          "Oman",
          "Pakistan",
          "Palestine, State of",
          "Panama",
          "Paraguay",
          "Peru",
          "Philippines (the)",
          "Russian Federation (the)",
          "Rwanda",
          "Saudi Arabia",
          "Senegal",
          "Serbia",
          "Sierra Leone",
          "Singapore",
          "Somalia",
          "South Africa",
          "South Sudan",
          "Sri Lanka",
          "Sudan (the)",
          "Syrian Arab Republic (the)",
          "Taiwan (Province of China)",
          "Tanzania, the United Republic of",
          "Thailand",
          "Togo",
          "Trinidad and Tobago",
          "Tunisia",
          "Turkiye",
          "Uganda",
          "Ukraine",
          "United Arab Emirates (the)",
          "United States of America (the)",
          "Uruguay",
          "Uzbekistan",
          "Venezuela (Bolivarian Republic of)",
          "Viet Nam",
          "Yemen",
          "Zambia",
          "Zimbabwe",
          "*Other",
          "Dual Nationality",
          "Afghanistan",
          "Albania",
          "Algeria",
          "Angola",
          "Argentina",
          "Armenia",
          "Australia",
          "Azerbaijan",
          "Bahrain",
          "Bangladesh",
          "Belarus",
          "Bolivia (Plurinational State of)",
          "Botswana",
          "Brazil",
          "Burundi",
          "Cambodia",
          "Cameroon",
          "Canada",
          "Chad",
          "Chile",
          "China",
          "Colombia",
          "Congo (the Democratic Republic of the)",
          "Congo (the)",
          "Costa Rica",
          "Côte d'Ivoire",
          "Cuba",
          "Dominica",
          "Ecuador",
          "Egypt",
          "El Salvador",
          "Eritrea",
          "Eswatini",
          "Ethiopia",
          "Gambia (the)",
          "Georgia",
          "Ghana",
          "Grenada",
          "Guatemala",
          "Guinea",
          "Guyana",
          "Honduras",
          "India",
          "Indonesia",
          "Iran (Islamic Republic of)",
          "Iraq",
          "Israel",
          "Jamaica",
          "Japan",
          "Jordan",
          "Kazakhstan",
          "Kenya",
          "Korea (the Republic of) South Korea",
          "Kosovo",
          "Kuwait",
          "Lebanon",
          "Lesotho",
          "Liberia",
          "Libya",
          "Malawi",
          "Malaysia",
          "Mauritius",
          "Mexico",
          "Moldova (the Republic of)",
          "Mongolia",
          "Morocco",
          "Mozambique",
          "Myanmar",
          "Namibia",
          "Nepal",
          "New Zealand",
          "Nicaragua",
          "Niger (the)",
          "Nigeria",
          "North Macedonia",
          "Oman",
          "Pakistan",
          "Palestine, State of",
          "Panama",
          "Paraguay",
          "Peru",
          "Philippines (the)",
          "Russian Federation (the)",
          "Rwanda",
          "Saudi Arabia",
          "Senegal",
          "Serbia",
          "Sierra Leone",
          "Singapore",
          "Somalia",
          "South Africa",
          "Sri Lanka",
          "Sudan (the)",
          "Syrian Arab Republic (the)",
          "Taiwan (Province of China)",
          "Tanzania, the United Republic of",
          "Thailand",
          "Togo",
          "Trinidad and Tobago",
          "Tunisia",
          "Turkiye",
          "Uganda",
          "Ukraine",
          "United Arab Emirates (the)",
          "United States of America (the)",
          "Uruguay",
          "Uzbekistan",
          "Venezuela (Bolivarian Republic of)",
          "Viet Nam",
          "Yemen",
          "Zambia",
          "Zimbabwe",
          "*Other",
          "Dual Nationality",
          "Afghanistan",
          "Albania",
          "Algeria",
          "Angola",
          "Argentina",
          "Armenia",
          "Australia",
          "Bangladesh",
          "Belarus",
          "Bolivia (Plurinational State of)",
          "Botswana",
          "Brazil",
          "Cameroon",
          "Canada",
          "Chile",
          "China",
          "Colombia",
          "Congo (the Democratic Republic of the)",
          "Congo (the)",
          "Costa Rica",
          "Egypt",
          "El Salvador",
          "Eritrea",
          "Eswatini",
          "Ethiopia",
          "Georgia",
          "Ghana",
          "Grenada",
          "Guinea",
          "Honduras",
          "India",
          "Iran (Islamic Republic of)",
          "Iraq",
          "Israel",
          "Jamaica",
          "Japan",
          "Jordan",
          "Kenya",
          "Korea (the Republic of) South Korea",
          "Kosovo",
          "Kuwait",
          "Lebanon",
          "Liberia",
          "Libya",
          "Malawi",
          "Malaysia",
          "Mauritius",
          "Mexico",
          "Moldova (the Republic of)",
          "Mongolia",
          "Morocco",
          "Nepal",
          "New Zealand",
          "Nigeria",
          "Pakistan",
          "Palestine, State of",
          "Panama",
          "Philippines (the)",
          "Russian Federation (the)",
          "Saudi Arabia",
          "Serbia",
          "Sierra Leone",
          "Singapore",
          "Somalia",
          "South Africa",
          "Sri Lanka",
          "Sudan (the)",
          "Syrian Arab Republic (the)",
          "Thailand",
          "Togo",
          "Tunisia",
          "Turkiye",
          "Uganda",
          "Ukraine",
          "United States of America (the)",
          "Venezuela (Bolivarian Republic of)",
          "Viet Nam",
          "Zambia",
          "Zimbabwe",
          "*Other",
          "Dual Nationality"
         ],
         "name": "",
         "type": "choropleth",
         "z": [
          13,
          32,
          31,
          0,
          22,
          0,
          126,
          0,
          6,
          125,
          10,
          18,
          0,
          26,
          653,
          0,
          0,
          24,
          97,
          0,
          16,
          915,
          12,
          28,
          0,
          0,
          0,
          0,
          0,
          0,
          0,
          0,
          55,
          0,
          0,
          0,
          7,
          0,
          12,
          31,
          0,
          0,
          5,
          0,
          0,
          0,
          518,
          29,
          11,
          4,
          10,
          7,
          45,
          0,
          12,
          6,
          42,
          6,
          12,
          0,
          7,
          0,
          0,
          36,
          105,
          340,
          379,
          43,
          18,
          64,
          25,
          0,
          4,
          0,
          77,
          51,
          0,
          0,
          432,
          0,
          0,
          395,
          0,
          0,
          0,
          5,
          240,
          69,
          0,
          29,
          0,
          6,
          0,
          12,
          8,
          202,
          0,
          16,
          31,
          9,
          4,
          5,
          67,
          0,
          0,
          6,
          34,
          11,
          93,
          0,
          630,
          0,
          0,
          87,
          47,
          0,
          0,
          31,
          104,
          27,
          6,
          20,
          14,
          4,
          10,
          0,
          83,
          0,
          6,
          56,
          8,
          13,
          20,
          338,
          0,
          0,
          17,
          58,
          0,
          6,
          629,
          7,
          27,
          0,
          0,
          0,
          0,
          0,
          0,
          31,
          0,
          0,
          0,
          6,
          0,
          12,
          28,
          0,
          0,
          0,
          0,
          0,
          276,
          25,
          8,
          4,
          4,
          5,
          33,
          0,
          7,
          7,
          21,
          0,
          12,
          7,
          0,
          0,
          14,
          52,
          247,
          203,
          34,
          8,
          44,
          14,
          0,
          4,
          0,
          38,
          29,
          0,
          0,
          322,
          0,
          0,
          219,
          0,
          0,
          0,
          0,
          155,
          51,
          0,
          16,
          0,
          0,
          0,
          6,
          5,
          101,
          0,
          23,
          0,
          4,
          4,
          47,
          0,
          0,
          6,
          18,
          7,
          73,
          0,
          324,
          0,
          0,
          47,
          24,
          0,
          0,
          27,
          48,
          18,
          4,
          9,
          6,
          4,
          9,
          0,
          20,
          21,
          4,
          5,
          5,
          144,
          7,
          21,
          0,
          119,
          0,
          0,
          0,
          0,
          13,
          0,
          0,
          0,
          0,
          0,
          5,
          0,
          0,
          0,
          115,
          5,
          0,
          0,
          0,
          6,
          0,
          0,
          6,
          0,
          0,
          0,
          0,
          7,
          23,
          39,
          26,
          11,
          5,
          10,
          4,
          4,
          12,
          109,
          49,
          0,
          0,
          35,
          18,
          9,
          0,
          0,
          0,
          0,
          55,
          4,
          5,
          0,
          14,
          0,
          0,
          7,
          0,
          17,
          87,
          25,
          12,
          0,
          4,
          31,
          4
         ]
        }
       ],
       "frames": [
        {
         "data": [
          {
           "coloraxis": "coloraxis",
           "geo": "geo",
           "hovertemplate": "<b>%{hovertext}</b><br><br>Year=2017<br>Nationality=%{location}<br>Applications=%{z}<extra></extra>",
           "hovertext": [
            "Afghanistan",
            "Albania",
            "Algeria",
            "Angola",
            "Argentina",
            "Armenia",
            "Australia",
            "Azerbaijan",
            "Bahrain",
            "Bangladesh",
            "Belarus",
            "Bolivia (Plurinational State of)",
            "Bosnia and Herzegovina",
            "Botswana",
            "Brazil",
            "Burundi",
            "Cambodia",
            "Cameroon",
            "Canada",
            "Chad",
            "Chile",
            "China",
            "Colombia",
            "Congo (the Democratic Republic of the)",
            "Congo (the)",
            "Costa Rica",
            "Côte d'Ivoire",
            "Cuba",
            "Djibouti",
            "Dominica",
            "Dominican Republic (the)",
            "Ecuador",
            "Egypt",
            "El Salvador",
            "Eritrea",
            "Eswatini",
            "Ethiopia",
            "Gambia (the)",
            "Georgia",
            "Ghana",
            "Grenada",
            "Guatemala",
            "Guinea",
            "Guyana",
            "Haiti",
            "Honduras",
            "India",
            "Indonesia",
            "Iran (Islamic Republic of)",
            "Iraq",
            "Israel",
            "Jamaica",
            "Japan",
            "Jordan",
            "Kazakhstan",
            "Kenya",
            "Korea (the Republic of) South Korea",
            "Kosovo",
            "Kuwait",
            "Kyrgyzstan",
            "Lebanon",
            "Lesotho",
            "Liberia",
            "Libya",
            "Malawi",
            "Malaysia",
            "Mauritius",
            "Mexico",
            "Moldova (the Republic of)",
            "Mongolia",
            "Morocco",
            "Mozambique",
            "Myanmar",
            "Namibia",
            "Nepal",
            "New Zealand",
            "Nicaragua",
            "Niger (the)",
            "Nigeria",
            "North Macedonia",
            "Oman",
            "Pakistan",
            "Palestine, State of",
            "Panama",
            "Paraguay",
            "Peru",
            "Philippines (the)",
            "Russian Federation (the)",
            "Rwanda",
            "Saudi Arabia",
            "Senegal",
            "Serbia",
            "Sierra Leone",
            "Singapore",
            "Somalia",
            "South Africa",
            "South Sudan",
            "Sri Lanka",
            "Sudan (the)",
            "Syrian Arab Republic (the)",
            "Taiwan (Province of China)",
            "Tanzania, the United Republic of",
            "Thailand",
            "Togo",
            "Trinidad and Tobago",
            "Tunisia",
            "Turkiye",
            "Uganda",
            "Ukraine",
            "United Arab Emirates (the)",
            "United States of America (the)",
            "Uruguay",
            "Uzbekistan",
            "Venezuela (Bolivarian Republic of)",
            "Viet Nam",
            "Yemen",
            "Zambia",
            "Zimbabwe",
            "*Other",
            "Dual Nationality",
            "Afghanistan",
            "Albania",
            "Algeria",
            "Angola",
            "Argentina",
            "Armenia",
            "Australia",
            "Azerbaijan",
            "Bahrain",
            "Bangladesh",
            "Belarus",
            "Bolivia (Plurinational State of)",
            "Botswana",
            "Brazil",
            "Burundi",
            "Cambodia",
            "Cameroon",
            "Canada",
            "Chad",
            "Chile",
            "China",
            "Colombia",
            "Congo (the Democratic Republic of the)",
            "Congo (the)",
            "Costa Rica",
            "Côte d'Ivoire",
            "Cuba",
            "Dominica",
            "Ecuador",
            "Egypt",
            "El Salvador",
            "Eritrea",
            "Eswatini",
            "Ethiopia",
            "Gambia (the)",
            "Georgia",
            "Ghana",
            "Grenada",
            "Guatemala",
            "Guinea",
            "Guyana",
            "Honduras",
            "India",
            "Indonesia",
            "Iran (Islamic Republic of)",
            "Iraq",
            "Israel",
            "Jamaica",
            "Japan",
            "Jordan",
            "Kazakhstan",
            "Kenya",
            "Korea (the Republic of) South Korea",
            "Kosovo",
            "Kuwait",
            "Lebanon",
            "Lesotho",
            "Liberia",
            "Libya",
            "Malawi",
            "Malaysia",
            "Mauritius",
            "Mexico",
            "Moldova (the Republic of)",
            "Mongolia",
            "Morocco",
            "Mozambique",
            "Myanmar",
            "Namibia",
            "Nepal",
            "New Zealand",
            "Nicaragua",
            "Niger (the)",
            "Nigeria",
            "North Macedonia",
            "Oman",
            "Pakistan",
            "Palestine, State of",
            "Panama",
            "Paraguay",
            "Peru",
            "Philippines (the)",
            "Russian Federation (the)",
            "Rwanda",
            "Saudi Arabia",
            "Senegal",
            "Serbia",
            "Sierra Leone",
            "Singapore",
            "Somalia",
            "South Africa",
            "Sri Lanka",
            "Sudan (the)",
            "Syrian Arab Republic (the)",
            "Taiwan (Province of China)",
            "Tanzania, the United Republic of",
            "Thailand",
            "Togo",
            "Trinidad and Tobago",
            "Tunisia",
            "Turkiye",
            "Uganda",
            "Ukraine",
            "United Arab Emirates (the)",
            "United States of America (the)",
            "Uruguay",
            "Uzbekistan",
            "Venezuela (Bolivarian Republic of)",
            "Viet Nam",
            "Yemen",
            "Zambia",
            "Zimbabwe",
            "*Other",
            "Dual Nationality",
            "Afghanistan",
            "Albania",
            "Algeria",
            "Angola",
            "Argentina",
            "Armenia",
            "Australia",
            "Bangladesh",
            "Belarus",
            "Bolivia (Plurinational State of)",
            "Botswana",
            "Brazil",
            "Cameroon",
            "Canada",
            "Chile",
            "China",
            "Colombia",
            "Congo (the Democratic Republic of the)",
            "Congo (the)",
            "Costa Rica",
            "Egypt",
            "El Salvador",
            "Eritrea",
            "Eswatini",
            "Ethiopia",
            "Georgia",
            "Ghana",
            "Grenada",
            "Guinea",
            "Honduras",
            "India",
            "Iran (Islamic Republic of)",
            "Iraq",
            "Israel",
            "Jamaica",
            "Japan",
            "Jordan",
            "Kenya",
            "Korea (the Republic of) South Korea",
            "Kosovo",
            "Kuwait",
            "Lebanon",
            "Liberia",
            "Libya",
            "Malawi",
            "Malaysia",
            "Mauritius",
            "Mexico",
            "Moldova (the Republic of)",
            "Mongolia",
            "Morocco",
            "Nepal",
            "New Zealand",
            "Nigeria",
            "Pakistan",
            "Palestine, State of",
            "Panama",
            "Philippines (the)",
            "Russian Federation (the)",
            "Saudi Arabia",
            "Serbia",
            "Sierra Leone",
            "Singapore",
            "Somalia",
            "South Africa",
            "Sri Lanka",
            "Sudan (the)",
            "Syrian Arab Republic (the)",
            "Thailand",
            "Togo",
            "Tunisia",
            "Turkiye",
            "Uganda",
            "Ukraine",
            "United States of America (the)",
            "Venezuela (Bolivarian Republic of)",
            "Viet Nam",
            "Zambia",
            "Zimbabwe",
            "*Other",
            "Dual Nationality"
           ],
           "locationmode": "country names",
           "locations": [
            "Afghanistan",
            "Albania",
            "Algeria",
            "Angola",
            "Argentina",
            "Armenia",
            "Australia",
            "Azerbaijan",
            "Bahrain",
            "Bangladesh",
            "Belarus",
            "Bolivia (Plurinational State of)",
            "Bosnia and Herzegovina",
            "Botswana",
            "Brazil",
            "Burundi",
            "Cambodia",
            "Cameroon",
            "Canada",
            "Chad",
            "Chile",
            "China",
            "Colombia",
            "Congo (the Democratic Republic of the)",
            "Congo (the)",
            "Costa Rica",
            "Côte d'Ivoire",
            "Cuba",
            "Djibouti",
            "Dominica",
            "Dominican Republic (the)",
            "Ecuador",
            "Egypt",
            "El Salvador",
            "Eritrea",
            "Eswatini",
            "Ethiopia",
            "Gambia (the)",
            "Georgia",
            "Ghana",
            "Grenada",
            "Guatemala",
            "Guinea",
            "Guyana",
            "Haiti",
            "Honduras",
            "India",
            "Indonesia",
            "Iran (Islamic Republic of)",
            "Iraq",
            "Israel",
            "Jamaica",
            "Japan",
            "Jordan",
            "Kazakhstan",
            "Kenya",
            "Korea (the Republic of) South Korea",
            "Kosovo",
            "Kuwait",
            "Kyrgyzstan",
            "Lebanon",
            "Lesotho",
            "Liberia",
            "Libya",
            "Malawi",
            "Malaysia",
            "Mauritius",
            "Mexico",
            "Moldova (the Republic of)",
            "Mongolia",
            "Morocco",
            "Mozambique",
            "Myanmar",
            "Namibia",
            "Nepal",
            "New Zealand",
            "Nicaragua",
            "Niger (the)",
            "Nigeria",
            "North Macedonia",
            "Oman",
            "Pakistan",
            "Palestine, State of",
            "Panama",
            "Paraguay",
            "Peru",
            "Philippines (the)",
            "Russian Federation (the)",
            "Rwanda",
            "Saudi Arabia",
            "Senegal",
            "Serbia",
            "Sierra Leone",
            "Singapore",
            "Somalia",
            "South Africa",
            "South Sudan",
            "Sri Lanka",
            "Sudan (the)",
            "Syrian Arab Republic (the)",
            "Taiwan (Province of China)",
            "Tanzania, the United Republic of",
            "Thailand",
            "Togo",
            "Trinidad and Tobago",
            "Tunisia",
            "Turkiye",
            "Uganda",
            "Ukraine",
            "United Arab Emirates (the)",
            "United States of America (the)",
            "Uruguay",
            "Uzbekistan",
            "Venezuela (Bolivarian Republic of)",
            "Viet Nam",
            "Yemen",
            "Zambia",
            "Zimbabwe",
            "*Other",
            "Dual Nationality",
            "Afghanistan",
            "Albania",
            "Algeria",
            "Angola",
            "Argentina",
            "Armenia",
            "Australia",
            "Azerbaijan",
            "Bahrain",
            "Bangladesh",
            "Belarus",
            "Bolivia (Plurinational State of)",
            "Botswana",
            "Brazil",
            "Burundi",
            "Cambodia",
            "Cameroon",
            "Canada",
            "Chad",
            "Chile",
            "China",
            "Colombia",
            "Congo (the Democratic Republic of the)",
            "Congo (the)",
            "Costa Rica",
            "Côte d'Ivoire",
            "Cuba",
            "Dominica",
            "Ecuador",
            "Egypt",
            "El Salvador",
            "Eritrea",
            "Eswatini",
            "Ethiopia",
            "Gambia (the)",
            "Georgia",
            "Ghana",
            "Grenada",
            "Guatemala",
            "Guinea",
            "Guyana",
            "Honduras",
            "India",
            "Indonesia",
            "Iran (Islamic Republic of)",
            "Iraq",
            "Israel",
            "Jamaica",
            "Japan",
            "Jordan",
            "Kazakhstan",
            "Kenya",
            "Korea (the Republic of) South Korea",
            "Kosovo",
            "Kuwait",
            "Lebanon",
            "Lesotho",
            "Liberia",
            "Libya",
            "Malawi",
            "Malaysia",
            "Mauritius",
            "Mexico",
            "Moldova (the Republic of)",
            "Mongolia",
            "Morocco",
            "Mozambique",
            "Myanmar",
            "Namibia",
            "Nepal",
            "New Zealand",
            "Nicaragua",
            "Niger (the)",
            "Nigeria",
            "North Macedonia",
            "Oman",
            "Pakistan",
            "Palestine, State of",
            "Panama",
            "Paraguay",
            "Peru",
            "Philippines (the)",
            "Russian Federation (the)",
            "Rwanda",
            "Saudi Arabia",
            "Senegal",
            "Serbia",
            "Sierra Leone",
            "Singapore",
            "Somalia",
            "South Africa",
            "Sri Lanka",
            "Sudan (the)",
            "Syrian Arab Republic (the)",
            "Taiwan (Province of China)",
            "Tanzania, the United Republic of",
            "Thailand",
            "Togo",
            "Trinidad and Tobago",
            "Tunisia",
            "Turkiye",
            "Uganda",
            "Ukraine",
            "United Arab Emirates (the)",
            "United States of America (the)",
            "Uruguay",
            "Uzbekistan",
            "Venezuela (Bolivarian Republic of)",
            "Viet Nam",
            "Yemen",
            "Zambia",
            "Zimbabwe",
            "*Other",
            "Dual Nationality",
            "Afghanistan",
            "Albania",
            "Algeria",
            "Angola",
            "Argentina",
            "Armenia",
            "Australia",
            "Bangladesh",
            "Belarus",
            "Bolivia (Plurinational State of)",
            "Botswana",
            "Brazil",
            "Cameroon",
            "Canada",
            "Chile",
            "China",
            "Colombia",
            "Congo (the Democratic Republic of the)",
            "Congo (the)",
            "Costa Rica",
            "Egypt",
            "El Salvador",
            "Eritrea",
            "Eswatini",
            "Ethiopia",
            "Georgia",
            "Ghana",
            "Grenada",
            "Guinea",
            "Honduras",
            "India",
            "Iran (Islamic Republic of)",
            "Iraq",
            "Israel",
            "Jamaica",
            "Japan",
            "Jordan",
            "Kenya",
            "Korea (the Republic of) South Korea",
            "Kosovo",
            "Kuwait",
            "Lebanon",
            "Liberia",
            "Libya",
            "Malawi",
            "Malaysia",
            "Mauritius",
            "Mexico",
            "Moldova (the Republic of)",
            "Mongolia",
            "Morocco",
            "Nepal",
            "New Zealand",
            "Nigeria",
            "Pakistan",
            "Palestine, State of",
            "Panama",
            "Philippines (the)",
            "Russian Federation (the)",
            "Saudi Arabia",
            "Serbia",
            "Sierra Leone",
            "Singapore",
            "Somalia",
            "South Africa",
            "Sri Lanka",
            "Sudan (the)",
            "Syrian Arab Republic (the)",
            "Thailand",
            "Togo",
            "Tunisia",
            "Turkiye",
            "Uganda",
            "Ukraine",
            "United States of America (the)",
            "Venezuela (Bolivarian Republic of)",
            "Viet Nam",
            "Zambia",
            "Zimbabwe",
            "*Other",
            "Dual Nationality"
           ],
           "name": "",
           "type": "choropleth",
           "z": [
            13,
            32,
            31,
            0,
            22,
            0,
            126,
            0,
            6,
            125,
            10,
            18,
            0,
            26,
            653,
            0,
            0,
            24,
            97,
            0,
            16,
            915,
            12,
            28,
            0,
            0,
            0,
            0,
            0,
            0,
            0,
            0,
            55,
            0,
            0,
            0,
            7,
            0,
            12,
            31,
            0,
            0,
            5,
            0,
            0,
            0,
            518,
            29,
            11,
            4,
            10,
            7,
            45,
            0,
            12,
            6,
            42,
            6,
            12,
            0,
            7,
            0,
            0,
            36,
            105,
            340,
            379,
            43,
            18,
            64,
            25,
            0,
            4,
            0,
            77,
            51,
            0,
            0,
            432,
            0,
            0,
            395,
            0,
            0,
            0,
            5,
            240,
            69,
            0,
            29,
            0,
            6,
            0,
            12,
            8,
            202,
            0,
            16,
            31,
            9,
            4,
            5,
            67,
            0,
            0,
            6,
            34,
            11,
            93,
            0,
            630,
            0,
            0,
            87,
            47,
            0,
            0,
            31,
            104,
            27,
            6,
            20,
            14,
            4,
            10,
            0,
            83,
            0,
            6,
            56,
            8,
            13,
            20,
            338,
            0,
            0,
            17,
            58,
            0,
            6,
            629,
            7,
            27,
            0,
            0,
            0,
            0,
            0,
            0,
            31,
            0,
            0,
            0,
            6,
            0,
            12,
            28,
            0,
            0,
            0,
            0,
            0,
            276,
            25,
            8,
            4,
            4,
            5,
            33,
            0,
            7,
            7,
            21,
            0,
            12,
            7,
            0,
            0,
            14,
            52,
            247,
            203,
            34,
            8,
            44,
            14,
            0,
            4,
            0,
            38,
            29,
            0,
            0,
            322,
            0,
            0,
            219,
            0,
            0,
            0,
            0,
            155,
            51,
            0,
            16,
            0,
            0,
            0,
            6,
            5,
            101,
            0,
            23,
            0,
            4,
            4,
            47,
            0,
            0,
            6,
            18,
            7,
            73,
            0,
            324,
            0,
            0,
            47,
            24,
            0,
            0,
            27,
            48,
            18,
            4,
            9,
            6,
            4,
            9,
            0,
            20,
            21,
            4,
            5,
            5,
            144,
            7,
            21,
            0,
            119,
            0,
            0,
            0,
            0,
            13,
            0,
            0,
            0,
            0,
            0,
            5,
            0,
            0,
            0,
            115,
            5,
            0,
            0,
            0,
            6,
            0,
            0,
            6,
            0,
            0,
            0,
            0,
            7,
            23,
            39,
            26,
            11,
            5,
            10,
            4,
            4,
            12,
            109,
            49,
            0,
            0,
            35,
            18,
            9,
            0,
            0,
            0,
            0,
            55,
            4,
            5,
            0,
            14,
            0,
            0,
            7,
            0,
            17,
            87,
            25,
            12,
            0,
            4,
            31,
            4
           ]
          }
         ],
         "name": "2017"
        },
        {
         "data": [
          {
           "coloraxis": "coloraxis",
           "geo": "geo",
           "hovertemplate": "<b>%{hovertext}</b><br><br>Year=2018<br>Nationality=%{location}<br>Applications=%{z}<extra></extra>",
           "hovertext": [
            "Afghanistan",
            "Albania",
            "Algeria",
            "Angola",
            "Argentina",
            "Armenia",
            "Australia",
            "Azerbaijan",
            "Bahrain",
            "Bangladesh",
            "Belarus",
            "Bolivia (Plurinational State of)",
            "Bosnia and Herzegovina",
            "Botswana",
            "Brazil",
            "Burundi",
            "Cambodia",
            "Cameroon",
            "Canada",
            "Chad",
            "Chile",
            "China",
            "Colombia",
            "Congo (the Democratic Republic of the)",
            "Congo (the)",
            "Costa Rica",
            "Côte d'Ivoire",
            "Cuba",
            "Djibouti",
            "Dominica",
            "Dominican Republic (the)",
            "Ecuador",
            "Egypt",
            "El Salvador",
            "Eritrea",
            "Eswatini",
            "Ethiopia",
            "Gambia (the)",
            "Georgia",
            "Ghana",
            "Grenada",
            "Guatemala",
            "Guinea",
            "Guyana",
            "Haiti",
            "Honduras",
            "India",
            "Indonesia",
            "Iran (Islamic Republic of)",
            "Iraq",
            "Israel",
            "Jamaica",
            "Japan",
            "Jordan",
            "Kazakhstan",
            "Kenya",
            "Korea (the Republic of) South Korea",
            "Kosovo",
            "Kuwait",
            "Kyrgyzstan",
            "Lebanon",
            "Lesotho",
            "Liberia",
            "Libya",
            "Malawi",
            "Malaysia",
            "Mauritius",
            "Mexico",
            "Moldova (the Republic of)",
            "Mongolia",
            "Morocco",
            "Mozambique",
            "Myanmar",
            "Namibia",
            "Nepal",
            "New Zealand",
            "Nicaragua",
            "Niger (the)",
            "Nigeria",
            "North Macedonia",
            "Oman",
            "Pakistan",
            "Palestine, State of",
            "Panama",
            "Paraguay",
            "Peru",
            "Philippines (the)",
            "Russian Federation (the)",
            "Rwanda",
            "Saudi Arabia",
            "Senegal",
            "Serbia",
            "Sierra Leone",
            "Singapore",
            "Somalia",
            "South Africa",
            "South Sudan",
            "Sri Lanka",
            "Sudan (the)",
            "Syrian Arab Republic (the)",
            "Taiwan (Province of China)",
            "Tanzania, the United Republic of",
            "Thailand",
            "Togo",
            "Trinidad and Tobago",
            "Tunisia",
            "Turkiye",
            "Uganda",
            "Ukraine",
            "United Arab Emirates (the)",
            "United States of America (the)",
            "Uruguay",
            "Uzbekistan",
            "Venezuela (Bolivarian Republic of)",
            "Viet Nam",
            "Yemen",
            "Zambia",
            "Zimbabwe",
            "*Other",
            "Dual Nationality",
            "Afghanistan",
            "Albania",
            "Algeria",
            "Angola",
            "Argentina",
            "Armenia",
            "Australia",
            "Azerbaijan",
            "Bahrain",
            "Bangladesh",
            "Belarus",
            "Bolivia (Plurinational State of)",
            "Botswana",
            "Brazil",
            "Burundi",
            "Cambodia",
            "Cameroon",
            "Canada",
            "Chad",
            "Chile",
            "China",
            "Colombia",
            "Congo (the Democratic Republic of the)",
            "Congo (the)",
            "Costa Rica",
            "Côte d'Ivoire",
            "Cuba",
            "Dominica",
            "Ecuador",
            "Egypt",
            "El Salvador",
            "Eritrea",
            "Eswatini",
            "Ethiopia",
            "Gambia (the)",
            "Georgia",
            "Ghana",
            "Grenada",
            "Guatemala",
            "Guinea",
            "Guyana",
            "Honduras",
            "India",
            "Indonesia",
            "Iran (Islamic Republic of)",
            "Iraq",
            "Israel",
            "Jamaica",
            "Japan",
            "Jordan",
            "Kazakhstan",
            "Kenya",
            "Korea (the Republic of) South Korea",
            "Kosovo",
            "Kuwait",
            "Lebanon",
            "Lesotho",
            "Liberia",
            "Libya",
            "Malawi",
            "Malaysia",
            "Mauritius",
            "Mexico",
            "Moldova (the Republic of)",
            "Mongolia",
            "Morocco",
            "Mozambique",
            "Myanmar",
            "Namibia",
            "Nepal",
            "New Zealand",
            "Nicaragua",
            "Niger (the)",
            "Nigeria",
            "North Macedonia",
            "Oman",
            "Pakistan",
            "Palestine, State of",
            "Panama",
            "Paraguay",
            "Peru",
            "Philippines (the)",
            "Russian Federation (the)",
            "Rwanda",
            "Saudi Arabia",
            "Senegal",
            "Serbia",
            "Sierra Leone",
            "Singapore",
            "Somalia",
            "South Africa",
            "Sri Lanka",
            "Sudan (the)",
            "Syrian Arab Republic (the)",
            "Taiwan (Province of China)",
            "Tanzania, the United Republic of",
            "Thailand",
            "Togo",
            "Trinidad and Tobago",
            "Tunisia",
            "Turkiye",
            "Uganda",
            "Ukraine",
            "United Arab Emirates (the)",
            "United States of America (the)",
            "Uruguay",
            "Uzbekistan",
            "Venezuela (Bolivarian Republic of)",
            "Viet Nam",
            "Yemen",
            "Zambia",
            "Zimbabwe",
            "*Other",
            "Dual Nationality",
            "Afghanistan",
            "Albania",
            "Algeria",
            "Angola",
            "Argentina",
            "Armenia",
            "Australia",
            "Bangladesh",
            "Belarus",
            "Bolivia (Plurinational State of)",
            "Botswana",
            "Brazil",
            "Cameroon",
            "Canada",
            "Chile",
            "China",
            "Colombia",
            "Congo (the Democratic Republic of the)",
            "Congo (the)",
            "Costa Rica",
            "Egypt",
            "El Salvador",
            "Eritrea",
            "Eswatini",
            "Ethiopia",
            "Georgia",
            "Ghana",
            "Grenada",
            "Guinea",
            "Honduras",
            "India",
            "Iran (Islamic Republic of)",
            "Iraq",
            "Israel",
            "Jamaica",
            "Japan",
            "Jordan",
            "Kenya",
            "Korea (the Republic of) South Korea",
            "Kosovo",
            "Kuwait",
            "Lebanon",
            "Liberia",
            "Libya",
            "Malawi",
            "Malaysia",
            "Mauritius",
            "Mexico",
            "Moldova (the Republic of)",
            "Mongolia",
            "Morocco",
            "Nepal",
            "New Zealand",
            "Nigeria",
            "Pakistan",
            "Palestine, State of",
            "Panama",
            "Philippines (the)",
            "Russian Federation (the)",
            "Saudi Arabia",
            "Serbia",
            "Sierra Leone",
            "Singapore",
            "Somalia",
            "South Africa",
            "Sri Lanka",
            "Sudan (the)",
            "Syrian Arab Republic (the)",
            "Thailand",
            "Togo",
            "Tunisia",
            "Turkiye",
            "Uganda",
            "Ukraine",
            "United States of America (the)",
            "Venezuela (Bolivarian Republic of)",
            "Viet Nam",
            "Zambia",
            "Zimbabwe",
            "*Other",
            "Dual Nationality"
           ],
           "locationmode": "country names",
           "locations": [
            "Afghanistan",
            "Albania",
            "Algeria",
            "Angola",
            "Argentina",
            "Armenia",
            "Australia",
            "Azerbaijan",
            "Bahrain",
            "Bangladesh",
            "Belarus",
            "Bolivia (Plurinational State of)",
            "Bosnia and Herzegovina",
            "Botswana",
            "Brazil",
            "Burundi",
            "Cambodia",
            "Cameroon",
            "Canada",
            "Chad",
            "Chile",
            "China",
            "Colombia",
            "Congo (the Democratic Republic of the)",
            "Congo (the)",
            "Costa Rica",
            "Côte d'Ivoire",
            "Cuba",
            "Djibouti",
            "Dominica",
            "Dominican Republic (the)",
            "Ecuador",
            "Egypt",
            "El Salvador",
            "Eritrea",
            "Eswatini",
            "Ethiopia",
            "Gambia (the)",
            "Georgia",
            "Ghana",
            "Grenada",
            "Guatemala",
            "Guinea",
            "Guyana",
            "Haiti",
            "Honduras",
            "India",
            "Indonesia",
            "Iran (Islamic Republic of)",
            "Iraq",
            "Israel",
            "Jamaica",
            "Japan",
            "Jordan",
            "Kazakhstan",
            "Kenya",
            "Korea (the Republic of) South Korea",
            "Kosovo",
            "Kuwait",
            "Kyrgyzstan",
            "Lebanon",
            "Lesotho",
            "Liberia",
            "Libya",
            "Malawi",
            "Malaysia",
            "Mauritius",
            "Mexico",
            "Moldova (the Republic of)",
            "Mongolia",
            "Morocco",
            "Mozambique",
            "Myanmar",
            "Namibia",
            "Nepal",
            "New Zealand",
            "Nicaragua",
            "Niger (the)",
            "Nigeria",
            "North Macedonia",
            "Oman",
            "Pakistan",
            "Palestine, State of",
            "Panama",
            "Paraguay",
            "Peru",
            "Philippines (the)",
            "Russian Federation (the)",
            "Rwanda",
            "Saudi Arabia",
            "Senegal",
            "Serbia",
            "Sierra Leone",
            "Singapore",
            "Somalia",
            "South Africa",
            "South Sudan",
            "Sri Lanka",
            "Sudan (the)",
            "Syrian Arab Republic (the)",
            "Taiwan (Province of China)",
            "Tanzania, the United Republic of",
            "Thailand",
            "Togo",
            "Trinidad and Tobago",
            "Tunisia",
            "Turkiye",
            "Uganda",
            "Ukraine",
            "United Arab Emirates (the)",
            "United States of America (the)",
            "Uruguay",
            "Uzbekistan",
            "Venezuela (Bolivarian Republic of)",
            "Viet Nam",
            "Yemen",
            "Zambia",
            "Zimbabwe",
            "*Other",
            "Dual Nationality",
            "Afghanistan",
            "Albania",
            "Algeria",
            "Angola",
            "Argentina",
            "Armenia",
            "Australia",
            "Azerbaijan",
            "Bahrain",
            "Bangladesh",
            "Belarus",
            "Bolivia (Plurinational State of)",
            "Botswana",
            "Brazil",
            "Burundi",
            "Cambodia",
            "Cameroon",
            "Canada",
            "Chad",
            "Chile",
            "China",
            "Colombia",
            "Congo (the Democratic Republic of the)",
            "Congo (the)",
            "Costa Rica",
            "Côte d'Ivoire",
            "Cuba",
            "Dominica",
            "Ecuador",
            "Egypt",
            "El Salvador",
            "Eritrea",
            "Eswatini",
            "Ethiopia",
            "Gambia (the)",
            "Georgia",
            "Ghana",
            "Grenada",
            "Guatemala",
            "Guinea",
            "Guyana",
            "Honduras",
            "India",
            "Indonesia",
            "Iran (Islamic Republic of)",
            "Iraq",
            "Israel",
            "Jamaica",
            "Japan",
            "Jordan",
            "Kazakhstan",
            "Kenya",
            "Korea (the Republic of) South Korea",
            "Kosovo",
            "Kuwait",
            "Lebanon",
            "Lesotho",
            "Liberia",
            "Libya",
            "Malawi",
            "Malaysia",
            "Mauritius",
            "Mexico",
            "Moldova (the Republic of)",
            "Mongolia",
            "Morocco",
            "Mozambique",
            "Myanmar",
            "Namibia",
            "Nepal",
            "New Zealand",
            "Nicaragua",
            "Niger (the)",
            "Nigeria",
            "North Macedonia",
            "Oman",
            "Pakistan",
            "Palestine, State of",
            "Panama",
            "Paraguay",
            "Peru",
            "Philippines (the)",
            "Russian Federation (the)",
            "Rwanda",
            "Saudi Arabia",
            "Senegal",
            "Serbia",
            "Sierra Leone",
            "Singapore",
            "Somalia",
            "South Africa",
            "Sri Lanka",
            "Sudan (the)",
            "Syrian Arab Republic (the)",
            "Taiwan (Province of China)",
            "Tanzania, the United Republic of",
            "Thailand",
            "Togo",
            "Trinidad and Tobago",
            "Tunisia",
            "Turkiye",
            "Uganda",
            "Ukraine",
            "United Arab Emirates (the)",
            "United States of America (the)",
            "Uruguay",
            "Uzbekistan",
            "Venezuela (Bolivarian Republic of)",
            "Viet Nam",
            "Yemen",
            "Zambia",
            "Zimbabwe",
            "*Other",
            "Dual Nationality",
            "Afghanistan",
            "Albania",
            "Algeria",
            "Angola",
            "Argentina",
            "Armenia",
            "Australia",
            "Bangladesh",
            "Belarus",
            "Bolivia (Plurinational State of)",
            "Botswana",
            "Brazil",
            "Cameroon",
            "Canada",
            "Chile",
            "China",
            "Colombia",
            "Congo (the Democratic Republic of the)",
            "Congo (the)",
            "Costa Rica",
            "Egypt",
            "El Salvador",
            "Eritrea",
            "Eswatini",
            "Ethiopia",
            "Georgia",
            "Ghana",
            "Grenada",
            "Guinea",
            "Honduras",
            "India",
            "Iran (Islamic Republic of)",
            "Iraq",
            "Israel",
            "Jamaica",
            "Japan",
            "Jordan",
            "Kenya",
            "Korea (the Republic of) South Korea",
            "Kosovo",
            "Kuwait",
            "Lebanon",
            "Liberia",
            "Libya",
            "Malawi",
            "Malaysia",
            "Mauritius",
            "Mexico",
            "Moldova (the Republic of)",
            "Mongolia",
            "Morocco",
            "Nepal",
            "New Zealand",
            "Nigeria",
            "Pakistan",
            "Palestine, State of",
            "Panama",
            "Philippines (the)",
            "Russian Federation (the)",
            "Saudi Arabia",
            "Serbia",
            "Sierra Leone",
            "Singapore",
            "Somalia",
            "South Africa",
            "Sri Lanka",
            "Sudan (the)",
            "Syrian Arab Republic (the)",
            "Thailand",
            "Togo",
            "Tunisia",
            "Turkiye",
            "Uganda",
            "Ukraine",
            "United States of America (the)",
            "Venezuela (Bolivarian Republic of)",
            "Viet Nam",
            "Zambia",
            "Zimbabwe",
            "*Other",
            "Dual Nationality"
           ],
           "name": "",
           "type": "choropleth",
           "z": [
            104,
            307,
            134,
            16,
            17,
            4,
            115,
            4,
            12,
            400,
            14,
            30,
            0,
            38,
            730,
            8,
            0,
            45,
            89,
            0,
            20,
            870,
            16,
            168,
            12,
            0,
            9,
            4,
            0,
            0,
            0,
            0,
            130,
            5,
            8,
            14,
            14,
            0,
            146,
            63,
            0,
            0,
            6,
            4,
            0,
            0,
            677,
            13,
            34,
            43,
            9,
            9,
            53,
            5,
            12,
            14,
            58,
            17,
            27,
            0,
            5,
            0,
            0,
            59,
            189,
            328,
            417,
            67,
            14,
            61,
            37,
            0,
            36,
            0,
            91,
            52,
            0,
            0,
            647,
            0,
            4,
            1105,
            23,
            0,
            0,
            11,
            217,
            65,
            6,
            41,
            0,
            8,
            24,
            19,
            28,
            304,
            0,
            21,
            43,
            15,
            8,
            9,
            40,
            8,
            0,
            19,
            48,
            18,
            125,
            0,
            625,
            0,
            5,
            83,
            57,
            0,
            7,
            363,
            105,
            31,
            61,
            187,
            86,
            11,
            14,
            5,
            93,
            0,
            9,
            232,
            13,
            20,
            30,
            470,
            8,
            0,
            39,
            69,
            0,
            10,
            665,
            11,
            122,
            5,
            0,
            6,
            0,
            0,
            0,
            69,
            0,
            6,
            9,
            12,
            0,
            73,
            46,
            0,
            0,
            0,
            4,
            0,
            428,
            14,
            21,
            29,
            4,
            8,
            37,
            0,
            13,
            9,
            46,
            9,
            17,
            0,
            0,
            0,
            38,
            107,
            270,
            279,
            44,
            12,
            48,
            25,
            0,
            34,
            0,
            50,
            42,
            0,
            0,
            417,
            0,
            0,
            617,
            16,
            0,
            0,
            5,
            161,
            43,
            0,
            24,
            0,
            0,
            21,
            6,
            19,
            209,
            17,
            27,
            10,
            5,
            7,
            45,
            5,
            0,
            9,
            26,
            12,
            94,
            0,
            476,
            0,
            4,
            62,
            22,
            0,
            7,
            291,
            69,
            23,
            35,
            100,
            47,
            0,
            4,
            0,
            31,
            106,
            0,
            6,
            17,
            218,
            10,
            10,
            9,
            173,
            6,
            44,
            0,
            0,
            27,
            0,
            0,
            0,
            0,
            68,
            11,
            0,
            6,
            0,
            156,
            10,
            11,
            0,
            0,
            13,
            0,
            0,
            19,
            7,
            4,
            0,
            0,
            13,
            56,
            66,
            87,
            21,
            6,
            6,
            11,
            37,
            9,
            200,
            301,
            4,
            0,
            46,
            14,
            0,
            0,
            0,
            6,
            6,
            75,
            6,
            9,
            7,
            6,
            0,
            5,
            5,
            4,
            28,
            126,
            19,
            17,
            0,
            51,
            33,
            8
           ]
          }
         ],
         "name": "2018"
        },
        {
         "data": [
          {
           "coloraxis": "coloraxis",
           "geo": "geo",
           "hovertemplate": "<b>%{hovertext}</b><br><br>Year=2019<br>Nationality=%{location}<br>Applications=%{z}<extra></extra>",
           "hovertext": [
            "Afghanistan",
            "Albania",
            "Algeria",
            "Angola",
            "Argentina",
            "Armenia",
            "Australia",
            "Azerbaijan",
            "Bahrain",
            "Bangladesh",
            "Belarus",
            "Bolivia (Plurinational State of)",
            "Bosnia and Herzegovina",
            "Botswana",
            "Brazil",
            "Burundi",
            "Cambodia",
            "Cameroon",
            "Canada",
            "Chad",
            "Chile",
            "China",
            "Colombia",
            "Congo (the Democratic Republic of the)",
            "Congo (the)",
            "Costa Rica",
            "Côte d'Ivoire",
            "Cuba",
            "Djibouti",
            "Dominica",
            "Dominican Republic (the)",
            "Ecuador",
            "Egypt",
            "El Salvador",
            "Eritrea",
            "Eswatini",
            "Ethiopia",
            "Gambia (the)",
            "Georgia",
            "Ghana",
            "Grenada",
            "Guatemala",
            "Guinea",
            "Guyana",
            "Haiti",
            "Honduras",
            "India",
            "Indonesia",
            "Iran (Islamic Republic of)",
            "Iraq",
            "Israel",
            "Jamaica",
            "Japan",
            "Jordan",
            "Kazakhstan",
            "Kenya",
            "Korea (the Republic of) South Korea",
            "Kosovo",
            "Kuwait",
            "Kyrgyzstan",
            "Lebanon",
            "Lesotho",
            "Liberia",
            "Libya",
            "Malawi",
            "Malaysia",
            "Mauritius",
            "Mexico",
            "Moldova (the Republic of)",
            "Mongolia",
            "Morocco",
            "Mozambique",
            "Myanmar",
            "Namibia",
            "Nepal",
            "New Zealand",
            "Nicaragua",
            "Niger (the)",
            "Nigeria",
            "North Macedonia",
            "Oman",
            "Pakistan",
            "Palestine, State of",
            "Panama",
            "Paraguay",
            "Peru",
            "Philippines (the)",
            "Russian Federation (the)",
            "Rwanda",
            "Saudi Arabia",
            "Senegal",
            "Serbia",
            "Sierra Leone",
            "Singapore",
            "Somalia",
            "South Africa",
            "South Sudan",
            "Sri Lanka",
            "Sudan (the)",
            "Syrian Arab Republic (the)",
            "Taiwan (Province of China)",
            "Tanzania, the United Republic of",
            "Thailand",
            "Togo",
            "Trinidad and Tobago",
            "Tunisia",
            "Turkiye",
            "Uganda",
            "Ukraine",
            "United Arab Emirates (the)",
            "United States of America (the)",
            "Uruguay",
            "Uzbekistan",
            "Venezuela (Bolivarian Republic of)",
            "Viet Nam",
            "Yemen",
            "Zambia",
            "Zimbabwe",
            "*Other",
            "Dual Nationality",
            "Afghanistan",
            "Albania",
            "Algeria",
            "Angola",
            "Argentina",
            "Armenia",
            "Australia",
            "Azerbaijan",
            "Bahrain",
            "Bangladesh",
            "Belarus",
            "Bolivia (Plurinational State of)",
            "Botswana",
            "Brazil",
            "Burundi",
            "Cambodia",
            "Cameroon",
            "Canada",
            "Chad",
            "Chile",
            "China",
            "Colombia",
            "Congo (the Democratic Republic of the)",
            "Congo (the)",
            "Costa Rica",
            "Côte d'Ivoire",
            "Cuba",
            "Dominica",
            "Ecuador",
            "Egypt",
            "El Salvador",
            "Eritrea",
            "Eswatini",
            "Ethiopia",
            "Gambia (the)",
            "Georgia",
            "Ghana",
            "Grenada",
            "Guatemala",
            "Guinea",
            "Guyana",
            "Honduras",
            "India",
            "Indonesia",
            "Iran (Islamic Republic of)",
            "Iraq",
            "Israel",
            "Jamaica",
            "Japan",
            "Jordan",
            "Kazakhstan",
            "Kenya",
            "Korea (the Republic of) South Korea",
            "Kosovo",
            "Kuwait",
            "Lebanon",
            "Lesotho",
            "Liberia",
            "Libya",
            "Malawi",
            "Malaysia",
            "Mauritius",
            "Mexico",
            "Moldova (the Republic of)",
            "Mongolia",
            "Morocco",
            "Mozambique",
            "Myanmar",
            "Namibia",
            "Nepal",
            "New Zealand",
            "Nicaragua",
            "Niger (the)",
            "Nigeria",
            "North Macedonia",
            "Oman",
            "Pakistan",
            "Palestine, State of",
            "Panama",
            "Paraguay",
            "Peru",
            "Philippines (the)",
            "Russian Federation (the)",
            "Rwanda",
            "Saudi Arabia",
            "Senegal",
            "Serbia",
            "Sierra Leone",
            "Singapore",
            "Somalia",
            "South Africa",
            "Sri Lanka",
            "Sudan (the)",
            "Syrian Arab Republic (the)",
            "Taiwan (Province of China)",
            "Tanzania, the United Republic of",
            "Thailand",
            "Togo",
            "Trinidad and Tobago",
            "Tunisia",
            "Turkiye",
            "Uganda",
            "Ukraine",
            "United Arab Emirates (the)",
            "United States of America (the)",
            "Uruguay",
            "Uzbekistan",
            "Venezuela (Bolivarian Republic of)",
            "Viet Nam",
            "Yemen",
            "Zambia",
            "Zimbabwe",
            "*Other",
            "Dual Nationality",
            "Afghanistan",
            "Albania",
            "Algeria",
            "Angola",
            "Argentina",
            "Armenia",
            "Australia",
            "Bangladesh",
            "Belarus",
            "Bolivia (Plurinational State of)",
            "Botswana",
            "Brazil",
            "Cameroon",
            "Canada",
            "Chile",
            "China",
            "Colombia",
            "Congo (the Democratic Republic of the)",
            "Congo (the)",
            "Costa Rica",
            "Egypt",
            "El Salvador",
            "Eritrea",
            "Eswatini",
            "Ethiopia",
            "Georgia",
            "Ghana",
            "Grenada",
            "Guinea",
            "Honduras",
            "India",
            "Iran (Islamic Republic of)",
            "Iraq",
            "Israel",
            "Jamaica",
            "Japan",
            "Jordan",
            "Kenya",
            "Korea (the Republic of) South Korea",
            "Kosovo",
            "Kuwait",
            "Lebanon",
            "Liberia",
            "Libya",
            "Malawi",
            "Malaysia",
            "Mauritius",
            "Mexico",
            "Moldova (the Republic of)",
            "Mongolia",
            "Morocco",
            "Nepal",
            "New Zealand",
            "Nigeria",
            "Pakistan",
            "Palestine, State of",
            "Panama",
            "Philippines (the)",
            "Russian Federation (the)",
            "Saudi Arabia",
            "Serbia",
            "Sierra Leone",
            "Singapore",
            "Somalia",
            "South Africa",
            "Sri Lanka",
            "Sudan (the)",
            "Syrian Arab Republic (the)",
            "Thailand",
            "Togo",
            "Tunisia",
            "Turkiye",
            "Uganda",
            "Ukraine",
            "United States of America (the)",
            "Venezuela (Bolivarian Republic of)",
            "Viet Nam",
            "Zambia",
            "Zimbabwe",
            "*Other",
            "Dual Nationality"
           ],
           "locationmode": "country names",
           "locations": [
            "Afghanistan",
            "Albania",
            "Algeria",
            "Angola",
            "Argentina",
            "Armenia",
            "Australia",
            "Azerbaijan",
            "Bahrain",
            "Bangladesh",
            "Belarus",
            "Bolivia (Plurinational State of)",
            "Bosnia and Herzegovina",
            "Botswana",
            "Brazil",
            "Burundi",
            "Cambodia",
            "Cameroon",
            "Canada",
            "Chad",
            "Chile",
            "China",
            "Colombia",
            "Congo (the Democratic Republic of the)",
            "Congo (the)",
            "Costa Rica",
            "Côte d'Ivoire",
            "Cuba",
            "Djibouti",
            "Dominica",
            "Dominican Republic (the)",
            "Ecuador",
            "Egypt",
            "El Salvador",
            "Eritrea",
            "Eswatini",
            "Ethiopia",
            "Gambia (the)",
            "Georgia",
            "Ghana",
            "Grenada",
            "Guatemala",
            "Guinea",
            "Guyana",
            "Haiti",
            "Honduras",
            "India",
            "Indonesia",
            "Iran (Islamic Republic of)",
            "Iraq",
            "Israel",
            "Jamaica",
            "Japan",
            "Jordan",
            "Kazakhstan",
            "Kenya",
            "Korea (the Republic of) South Korea",
            "Kosovo",
            "Kuwait",
            "Kyrgyzstan",
            "Lebanon",
            "Lesotho",
            "Liberia",
            "Libya",
            "Malawi",
            "Malaysia",
            "Mauritius",
            "Mexico",
            "Moldova (the Republic of)",
            "Mongolia",
            "Morocco",
            "Mozambique",
            "Myanmar",
            "Namibia",
            "Nepal",
            "New Zealand",
            "Nicaragua",
            "Niger (the)",
            "Nigeria",
            "North Macedonia",
            "Oman",
            "Pakistan",
            "Palestine, State of",
            "Panama",
            "Paraguay",
            "Peru",
            "Philippines (the)",
            "Russian Federation (the)",
            "Rwanda",
            "Saudi Arabia",
            "Senegal",
            "Serbia",
            "Sierra Leone",
            "Singapore",
            "Somalia",
            "South Africa",
            "South Sudan",
            "Sri Lanka",
            "Sudan (the)",
            "Syrian Arab Republic (the)",
            "Taiwan (Province of China)",
            "Tanzania, the United Republic of",
            "Thailand",
            "Togo",
            "Trinidad and Tobago",
            "Tunisia",
            "Turkiye",
            "Uganda",
            "Ukraine",
            "United Arab Emirates (the)",
            "United States of America (the)",
            "Uruguay",
            "Uzbekistan",
            "Venezuela (Bolivarian Republic of)",
            "Viet Nam",
            "Yemen",
            "Zambia",
            "Zimbabwe",
            "*Other",
            "Dual Nationality",
            "Afghanistan",
            "Albania",
            "Algeria",
            "Angola",
            "Argentina",
            "Armenia",
            "Australia",
            "Azerbaijan",
            "Bahrain",
            "Bangladesh",
            "Belarus",
            "Bolivia (Plurinational State of)",
            "Botswana",
            "Brazil",
            "Burundi",
            "Cambodia",
            "Cameroon",
            "Canada",
            "Chad",
            "Chile",
            "China",
            "Colombia",
            "Congo (the Democratic Republic of the)",
            "Congo (the)",
            "Costa Rica",
            "Côte d'Ivoire",
            "Cuba",
            "Dominica",
            "Ecuador",
            "Egypt",
            "El Salvador",
            "Eritrea",
            "Eswatini",
            "Ethiopia",
            "Gambia (the)",
            "Georgia",
            "Ghana",
            "Grenada",
            "Guatemala",
            "Guinea",
            "Guyana",
            "Honduras",
            "India",
            "Indonesia",
            "Iran (Islamic Republic of)",
            "Iraq",
            "Israel",
            "Jamaica",
            "Japan",
            "Jordan",
            "Kazakhstan",
            "Kenya",
            "Korea (the Republic of) South Korea",
            "Kosovo",
            "Kuwait",
            "Lebanon",
            "Lesotho",
            "Liberia",
            "Libya",
            "Malawi",
            "Malaysia",
            "Mauritius",
            "Mexico",
            "Moldova (the Republic of)",
            "Mongolia",
            "Morocco",
            "Mozambique",
            "Myanmar",
            "Namibia",
            "Nepal",
            "New Zealand",
            "Nicaragua",
            "Niger (the)",
            "Nigeria",
            "North Macedonia",
            "Oman",
            "Pakistan",
            "Palestine, State of",
            "Panama",
            "Paraguay",
            "Peru",
            "Philippines (the)",
            "Russian Federation (the)",
            "Rwanda",
            "Saudi Arabia",
            "Senegal",
            "Serbia",
            "Sierra Leone",
            "Singapore",
            "Somalia",
            "South Africa",
            "Sri Lanka",
            "Sudan (the)",
            "Syrian Arab Republic (the)",
            "Taiwan (Province of China)",
            "Tanzania, the United Republic of",
            "Thailand",
            "Togo",
            "Trinidad and Tobago",
            "Tunisia",
            "Turkiye",
            "Uganda",
            "Ukraine",
            "United Arab Emirates (the)",
            "United States of America (the)",
            "Uruguay",
            "Uzbekistan",
            "Venezuela (Bolivarian Republic of)",
            "Viet Nam",
            "Yemen",
            "Zambia",
            "Zimbabwe",
            "*Other",
            "Dual Nationality",
            "Afghanistan",
            "Albania",
            "Algeria",
            "Angola",
            "Argentina",
            "Armenia",
            "Australia",
            "Bangladesh",
            "Belarus",
            "Bolivia (Plurinational State of)",
            "Botswana",
            "Brazil",
            "Cameroon",
            "Canada",
            "Chile",
            "China",
            "Colombia",
            "Congo (the Democratic Republic of the)",
            "Congo (the)",
            "Costa Rica",
            "Egypt",
            "El Salvador",
            "Eritrea",
            "Eswatini",
            "Ethiopia",
            "Georgia",
            "Ghana",
            "Grenada",
            "Guinea",
            "Honduras",
            "India",
            "Iran (Islamic Republic of)",
            "Iraq",
            "Israel",
            "Jamaica",
            "Japan",
            "Jordan",
            "Kenya",
            "Korea (the Republic of) South Korea",
            "Kosovo",
            "Kuwait",
            "Lebanon",
            "Liberia",
            "Libya",
            "Malawi",
            "Malaysia",
            "Mauritius",
            "Mexico",
            "Moldova (the Republic of)",
            "Mongolia",
            "Morocco",
            "Nepal",
            "New Zealand",
            "Nigeria",
            "Pakistan",
            "Palestine, State of",
            "Panama",
            "Philippines (the)",
            "Russian Federation (the)",
            "Saudi Arabia",
            "Serbia",
            "Sierra Leone",
            "Singapore",
            "Somalia",
            "South Africa",
            "Sri Lanka",
            "Sudan (the)",
            "Syrian Arab Republic (the)",
            "Thailand",
            "Togo",
            "Tunisia",
            "Turkiye",
            "Uganda",
            "Ukraine",
            "United States of America (the)",
            "Venezuela (Bolivarian Republic of)",
            "Viet Nam",
            "Zambia",
            "Zimbabwe",
            "*Other",
            "Dual Nationality"
           ],
           "name": "",
           "type": "choropleth",
           "z": [
            84,
            303,
            102,
            11,
            15,
            5,
            108,
            0,
            4,
            142,
            17,
            36,
            0,
            50,
            1048,
            0,
            0,
            37,
            79,
            0,
            18,
            1051,
            11,
            95,
            6,
            0,
            15,
            4,
            0,
            0,
            0,
            0,
            130,
            15,
            23,
            11,
            21,
            0,
            338,
            76,
            0,
            6,
            8,
            0,
            0,
            0,
            751,
            10,
            32,
            42,
            6,
            0,
            40,
            16,
            8,
            32,
            49,
            17,
            10,
            0,
            10,
            4,
            0,
            35,
            168,
            384,
            169,
            88,
            8,
            86,
            43,
            0,
            18,
            0,
            65,
            40,
            8,
            0,
            672,
            0,
            7,
            684,
            17,
            0,
            0,
            9,
            252,
            47,
            4,
            33,
            0,
            5,
            35,
            11,
            71,
            422,
            0,
            20,
            57,
            29,
            9,
            21,
            50,
            11,
            6,
            14,
            166,
            22,
            117,
            10,
            650,
            0,
            0,
            122,
            65,
            0,
            13,
            334,
            73,
            37,
            43,
            167,
            57,
            5,
            10,
            0,
            93,
            0,
            4,
            86,
            11,
            25,
            30,
            646,
            0,
            0,
            26,
            63,
            0,
            11,
            803,
            13,
            68,
            9,
            0,
            12,
            0,
            0,
            0,
            93,
            11,
            10,
            11,
            18,
            0,
            159,
            58,
            0,
            0,
            0,
            0,
            0,
            565,
            10,
            21,
            21,
            4,
            0,
            39,
            9,
            7,
            20,
            31,
            15,
            12,
            7,
            0,
            0,
            30,
            146,
            315,
            198,
            55,
            8,
            67,
            25,
            0,
            17,
            0,
            58,
            38,
            6,
            0,
            472,
            0,
            7,
            462,
            12,
            0,
            0,
            9,
            181,
            34,
            4,
            33,
            0,
            8,
            25,
            14,
            30,
            329,
            23,
            27,
            15,
            6,
            15,
            31,
            10,
            0,
            11,
            63,
            24,
            102,
            8,
            551,
            0,
            0,
            87,
            64,
            0,
            9,
            283,
            47,
            26,
            40,
            129,
            44,
            7,
            0,
            0,
            21,
            90,
            6,
            6,
            11,
            324,
            12,
            28,
            5,
            308,
            0,
            24,
            4,
            0,
            40,
            0,
            10,
            4,
            4,
            142,
            20,
            0,
            5,
            0,
            229,
            12,
            20,
            5,
            0,
            8,
            6,
            9,
            11,
            0,
            0,
            0,
            0,
            13,
            55,
            84,
            136,
            18,
            4,
            25,
            17,
            23,
            8,
            203,
            265,
            5,
            0,
            84,
            17,
            11,
            4,
            7,
            0,
            33,
            98,
            4,
            29,
            15,
            11,
            0,
            5,
            18,
            4,
            18,
            140,
            32,
            20,
            0,
            53,
            59,
            10
           ]
          }
         ],
         "name": "2019"
        },
        {
         "data": [
          {
           "coloraxis": "coloraxis",
           "geo": "geo",
           "hovertemplate": "<b>%{hovertext}</b><br><br>Year=2020<br>Nationality=%{location}<br>Applications=%{z}<extra></extra>",
           "hovertext": [
            "Afghanistan",
            "Albania",
            "Algeria",
            "Angola",
            "Argentina",
            "Armenia",
            "Australia",
            "Azerbaijan",
            "Bahrain",
            "Bangladesh",
            "Belarus",
            "Bolivia (Plurinational State of)",
            "Bosnia and Herzegovina",
            "Botswana",
            "Brazil",
            "Burundi",
            "Cambodia",
            "Cameroon",
            "Canada",
            "Chad",
            "Chile",
            "China",
            "Colombia",
            "Congo (the Democratic Republic of the)",
            "Congo (the)",
            "Costa Rica",
            "Côte d'Ivoire",
            "Cuba",
            "Djibouti",
            "Dominica",
            "Dominican Republic (the)",
            "Ecuador",
            "Egypt",
            "El Salvador",
            "Eritrea",
            "Eswatini",
            "Ethiopia",
            "Gambia (the)",
            "Georgia",
            "Ghana",
            "Grenada",
            "Guatemala",
            "Guinea",
            "Guyana",
            "Haiti",
            "Honduras",
            "India",
            "Indonesia",
            "Iran (Islamic Republic of)",
            "Iraq",
            "Israel",
            "Jamaica",
            "Japan",
            "Jordan",
            "Kazakhstan",
            "Kenya",
            "Korea (the Republic of) South Korea",
            "Kosovo",
            "Kuwait",
            "Kyrgyzstan",
            "Lebanon",
            "Lesotho",
            "Liberia",
            "Libya",
            "Malawi",
            "Malaysia",
            "Mauritius",
            "Mexico",
            "Moldova (the Republic of)",
            "Mongolia",
            "Morocco",
            "Mozambique",
            "Myanmar",
            "Namibia",
            "Nepal",
            "New Zealand",
            "Nicaragua",
            "Niger (the)",
            "Nigeria",
            "North Macedonia",
            "Oman",
            "Pakistan",
            "Palestine, State of",
            "Panama",
            "Paraguay",
            "Peru",
            "Philippines (the)",
            "Russian Federation (the)",
            "Rwanda",
            "Saudi Arabia",
            "Senegal",
            "Serbia",
            "Sierra Leone",
            "Singapore",
            "Somalia",
            "South Africa",
            "South Sudan",
            "Sri Lanka",
            "Sudan (the)",
            "Syrian Arab Republic (the)",
            "Taiwan (Province of China)",
            "Tanzania, the United Republic of",
            "Thailand",
            "Togo",
            "Trinidad and Tobago",
            "Tunisia",
            "Turkiye",
            "Uganda",
            "Ukraine",
            "United Arab Emirates (the)",
            "United States of America (the)",
            "Uruguay",
            "Uzbekistan",
            "Venezuela (Bolivarian Republic of)",
            "Viet Nam",
            "Yemen",
            "Zambia",
            "Zimbabwe",
            "*Other",
            "Dual Nationality",
            "Afghanistan",
            "Albania",
            "Algeria",
            "Angola",
            "Argentina",
            "Armenia",
            "Australia",
            "Azerbaijan",
            "Bahrain",
            "Bangladesh",
            "Belarus",
            "Bolivia (Plurinational State of)",
            "Botswana",
            "Brazil",
            "Burundi",
            "Cambodia",
            "Cameroon",
            "Canada",
            "Chad",
            "Chile",
            "China",
            "Colombia",
            "Congo (the Democratic Republic of the)",
            "Congo (the)",
            "Costa Rica",
            "Côte d'Ivoire",
            "Cuba",
            "Dominica",
            "Ecuador",
            "Egypt",
            "El Salvador",
            "Eritrea",
            "Eswatini",
            "Ethiopia",
            "Gambia (the)",
            "Georgia",
            "Ghana",
            "Grenada",
            "Guatemala",
            "Guinea",
            "Guyana",
            "Honduras",
            "India",
            "Indonesia",
            "Iran (Islamic Republic of)",
            "Iraq",
            "Israel",
            "Jamaica",
            "Japan",
            "Jordan",
            "Kazakhstan",
            "Kenya",
            "Korea (the Republic of) South Korea",
            "Kosovo",
            "Kuwait",
            "Lebanon",
            "Lesotho",
            "Liberia",
            "Libya",
            "Malawi",
            "Malaysia",
            "Mauritius",
            "Mexico",
            "Moldova (the Republic of)",
            "Mongolia",
            "Morocco",
            "Mozambique",
            "Myanmar",
            "Namibia",
            "Nepal",
            "New Zealand",
            "Nicaragua",
            "Niger (the)",
            "Nigeria",
            "North Macedonia",
            "Oman",
            "Pakistan",
            "Palestine, State of",
            "Panama",
            "Paraguay",
            "Peru",
            "Philippines (the)",
            "Russian Federation (the)",
            "Rwanda",
            "Saudi Arabia",
            "Senegal",
            "Serbia",
            "Sierra Leone",
            "Singapore",
            "Somalia",
            "South Africa",
            "Sri Lanka",
            "Sudan (the)",
            "Syrian Arab Republic (the)",
            "Taiwan (Province of China)",
            "Tanzania, the United Republic of",
            "Thailand",
            "Togo",
            "Trinidad and Tobago",
            "Tunisia",
            "Turkiye",
            "Uganda",
            "Ukraine",
            "United Arab Emirates (the)",
            "United States of America (the)",
            "Uruguay",
            "Uzbekistan",
            "Venezuela (Bolivarian Republic of)",
            "Viet Nam",
            "Yemen",
            "Zambia",
            "Zimbabwe",
            "*Other",
            "Dual Nationality",
            "Afghanistan",
            "Albania",
            "Algeria",
            "Angola",
            "Argentina",
            "Armenia",
            "Australia",
            "Bangladesh",
            "Belarus",
            "Bolivia (Plurinational State of)",
            "Botswana",
            "Brazil",
            "Cameroon",
            "Canada",
            "Chile",
            "China",
            "Colombia",
            "Congo (the Democratic Republic of the)",
            "Congo (the)",
            "Costa Rica",
            "Egypt",
            "El Salvador",
            "Eritrea",
            "Eswatini",
            "Ethiopia",
            "Georgia",
            "Ghana",
            "Grenada",
            "Guinea",
            "Honduras",
            "India",
            "Iran (Islamic Republic of)",
            "Iraq",
            "Israel",
            "Jamaica",
            "Japan",
            "Jordan",
            "Kenya",
            "Korea (the Republic of) South Korea",
            "Kosovo",
            "Kuwait",
            "Lebanon",
            "Liberia",
            "Libya",
            "Malawi",
            "Malaysia",
            "Mauritius",
            "Mexico",
            "Moldova (the Republic of)",
            "Mongolia",
            "Morocco",
            "Nepal",
            "New Zealand",
            "Nigeria",
            "Pakistan",
            "Palestine, State of",
            "Panama",
            "Philippines (the)",
            "Russian Federation (the)",
            "Saudi Arabia",
            "Serbia",
            "Sierra Leone",
            "Singapore",
            "Somalia",
            "South Africa",
            "Sri Lanka",
            "Sudan (the)",
            "Syrian Arab Republic (the)",
            "Thailand",
            "Togo",
            "Tunisia",
            "Turkiye",
            "Uganda",
            "Ukraine",
            "United States of America (the)",
            "Venezuela (Bolivarian Republic of)",
            "Viet Nam",
            "Zambia",
            "Zimbabwe",
            "*Other",
            "Dual Nationality"
           ],
           "locationmode": "country names",
           "locations": [
            "Afghanistan",
            "Albania",
            "Algeria",
            "Angola",
            "Argentina",
            "Armenia",
            "Australia",
            "Azerbaijan",
            "Bahrain",
            "Bangladesh",
            "Belarus",
            "Bolivia (Plurinational State of)",
            "Bosnia and Herzegovina",
            "Botswana",
            "Brazil",
            "Burundi",
            "Cambodia",
            "Cameroon",
            "Canada",
            "Chad",
            "Chile",
            "China",
            "Colombia",
            "Congo (the Democratic Republic of the)",
            "Congo (the)",
            "Costa Rica",
            "Côte d'Ivoire",
            "Cuba",
            "Djibouti",
            "Dominica",
            "Dominican Republic (the)",
            "Ecuador",
            "Egypt",
            "El Salvador",
            "Eritrea",
            "Eswatini",
            "Ethiopia",
            "Gambia (the)",
            "Georgia",
            "Ghana",
            "Grenada",
            "Guatemala",
            "Guinea",
            "Guyana",
            "Haiti",
            "Honduras",
            "India",
            "Indonesia",
            "Iran (Islamic Republic of)",
            "Iraq",
            "Israel",
            "Jamaica",
            "Japan",
            "Jordan",
            "Kazakhstan",
            "Kenya",
            "Korea (the Republic of) South Korea",
            "Kosovo",
            "Kuwait",
            "Kyrgyzstan",
            "Lebanon",
            "Lesotho",
            "Liberia",
            "Libya",
            "Malawi",
            "Malaysia",
            "Mauritius",
            "Mexico",
            "Moldova (the Republic of)",
            "Mongolia",
            "Morocco",
            "Mozambique",
            "Myanmar",
            "Namibia",
            "Nepal",
            "New Zealand",
            "Nicaragua",
            "Niger (the)",
            "Nigeria",
            "North Macedonia",
            "Oman",
            "Pakistan",
            "Palestine, State of",
            "Panama",
            "Paraguay",
            "Peru",
            "Philippines (the)",
            "Russian Federation (the)",
            "Rwanda",
            "Saudi Arabia",
            "Senegal",
            "Serbia",
            "Sierra Leone",
            "Singapore",
            "Somalia",
            "South Africa",
            "South Sudan",
            "Sri Lanka",
            "Sudan (the)",
            "Syrian Arab Republic (the)",
            "Taiwan (Province of China)",
            "Tanzania, the United Republic of",
            "Thailand",
            "Togo",
            "Trinidad and Tobago",
            "Tunisia",
            "Turkiye",
            "Uganda",
            "Ukraine",
            "United Arab Emirates (the)",
            "United States of America (the)",
            "Uruguay",
            "Uzbekistan",
            "Venezuela (Bolivarian Republic of)",
            "Viet Nam",
            "Yemen",
            "Zambia",
            "Zimbabwe",
            "*Other",
            "Dual Nationality",
            "Afghanistan",
            "Albania",
            "Algeria",
            "Angola",
            "Argentina",
            "Armenia",
            "Australia",
            "Azerbaijan",
            "Bahrain",
            "Bangladesh",
            "Belarus",
            "Bolivia (Plurinational State of)",
            "Botswana",
            "Brazil",
            "Burundi",
            "Cambodia",
            "Cameroon",
            "Canada",
            "Chad",
            "Chile",
            "China",
            "Colombia",
            "Congo (the Democratic Republic of the)",
            "Congo (the)",
            "Costa Rica",
            "Côte d'Ivoire",
            "Cuba",
            "Dominica",
            "Ecuador",
            "Egypt",
            "El Salvador",
            "Eritrea",
            "Eswatini",
            "Ethiopia",
            "Gambia (the)",
            "Georgia",
            "Ghana",
            "Grenada",
            "Guatemala",
            "Guinea",
            "Guyana",
            "Honduras",
            "India",
            "Indonesia",
            "Iran (Islamic Republic of)",
            "Iraq",
            "Israel",
            "Jamaica",
            "Japan",
            "Jordan",
            "Kazakhstan",
            "Kenya",
            "Korea (the Republic of) South Korea",
            "Kosovo",
            "Kuwait",
            "Lebanon",
            "Lesotho",
            "Liberia",
            "Libya",
            "Malawi",
            "Malaysia",
            "Mauritius",
            "Mexico",
            "Moldova (the Republic of)",
            "Mongolia",
            "Morocco",
            "Mozambique",
            "Myanmar",
            "Namibia",
            "Nepal",
            "New Zealand",
            "Nicaragua",
            "Niger (the)",
            "Nigeria",
            "North Macedonia",
            "Oman",
            "Pakistan",
            "Palestine, State of",
            "Panama",
            "Paraguay",
            "Peru",
            "Philippines (the)",
            "Russian Federation (the)",
            "Rwanda",
            "Saudi Arabia",
            "Senegal",
            "Serbia",
            "Sierra Leone",
            "Singapore",
            "Somalia",
            "South Africa",
            "Sri Lanka",
            "Sudan (the)",
            "Syrian Arab Republic (the)",
            "Taiwan (Province of China)",
            "Tanzania, the United Republic of",
            "Thailand",
            "Togo",
            "Trinidad and Tobago",
            "Tunisia",
            "Turkiye",
            "Uganda",
            "Ukraine",
            "United Arab Emirates (the)",
            "United States of America (the)",
            "Uruguay",
            "Uzbekistan",
            "Venezuela (Bolivarian Republic of)",
            "Viet Nam",
            "Yemen",
            "Zambia",
            "Zimbabwe",
            "*Other",
            "Dual Nationality",
            "Afghanistan",
            "Albania",
            "Algeria",
            "Angola",
            "Argentina",
            "Armenia",
            "Australia",
            "Bangladesh",
            "Belarus",
            "Bolivia (Plurinational State of)",
            "Botswana",
            "Brazil",
            "Cameroon",
            "Canada",
            "Chile",
            "China",
            "Colombia",
            "Congo (the Democratic Republic of the)",
            "Congo (the)",
            "Costa Rica",
            "Egypt",
            "El Salvador",
            "Eritrea",
            "Eswatini",
            "Ethiopia",
            "Georgia",
            "Ghana",
            "Grenada",
            "Guinea",
            "Honduras",
            "India",
            "Iran (Islamic Republic of)",
            "Iraq",
            "Israel",
            "Jamaica",
            "Japan",
            "Jordan",
            "Kenya",
            "Korea (the Republic of) South Korea",
            "Kosovo",
            "Kuwait",
            "Lebanon",
            "Liberia",
            "Libya",
            "Malawi",
            "Malaysia",
            "Mauritius",
            "Mexico",
            "Moldova (the Republic of)",
            "Mongolia",
            "Morocco",
            "Nepal",
            "New Zealand",
            "Nigeria",
            "Pakistan",
            "Palestine, State of",
            "Panama",
            "Philippines (the)",
            "Russian Federation (the)",
            "Saudi Arabia",
            "Serbia",
            "Sierra Leone",
            "Singapore",
            "Somalia",
            "South Africa",
            "Sri Lanka",
            "Sudan (the)",
            "Syrian Arab Republic (the)",
            "Thailand",
            "Togo",
            "Tunisia",
            "Turkiye",
            "Uganda",
            "Ukraine",
            "United States of America (the)",
            "Venezuela (Bolivarian Republic of)",
            "Viet Nam",
            "Zambia",
            "Zimbabwe",
            "*Other",
            "Dual Nationality"
           ],
           "name": "",
           "type": "choropleth",
           "z": [
            82,
            195,
            112,
            9,
            31,
            0,
            65,
            0,
            0,
            102,
            13,
            41,
            0,
            58,
            816,
            5,
            0,
            36,
            73,
            0,
            14,
            744,
            15,
            68,
            7,
            0,
            12,
            4,
            0,
            0,
            0,
            0,
            111,
            23,
            7,
            10,
            15,
            6,
            475,
            61,
            0,
            8,
            5,
            0,
            4,
            4,
            570,
            17,
            36,
            48,
            8,
            0,
            45,
            11,
            9,
            25,
            29,
            20,
            9,
            0,
            13,
            6,
            0,
            29,
            132,
            192,
            96,
            84,
            11,
            27,
            44,
            0,
            11,
            0,
            44,
            25,
            6,
            0,
            580,
            0,
            7,
            500,
            20,
            0,
            0,
            0,
            190,
            76,
            4,
            23,
            4,
            6,
            16,
            20,
            137,
            381,
            0,
            11,
            43,
            47,
            8,
            10,
            39,
            16,
            0,
            10,
            181,
            36,
            102,
            0,
            574,
            0,
            5,
            105,
            57,
            5,
            7,
            322,
            85,
            27,
            51,
            153,
            86,
            5,
            16,
            0,
            65,
            0,
            0,
            81,
            10,
            34,
            51,
            570,
            4,
            0,
            28,
            53,
            0,
            9,
            605,
            8,
            55,
            0,
            0,
            8,
            4,
            0,
            0,
            90,
            26,
            7,
            8,
            12,
            5,
            368,
            53,
            0,
            8,
            5,
            0,
            7,
            401,
            13,
            27,
            22,
            4,
            0,
            20,
            9,
            4,
            19,
            19,
            17,
            7,
            8,
            0,
            0,
            23,
            99,
            137,
            76,
            50,
            7,
            23,
            34,
            0,
            11,
            0,
            35,
            22,
            4,
            0,
            451,
            0,
            6,
            352,
            16,
            0,
            0,
            0,
            114,
            55,
            0,
            16,
            0,
            0,
            13,
            17,
            86,
            303,
            12,
            27,
            35,
            8,
            14,
            38,
            10,
            0,
            4,
            90,
            34,
            76,
            0,
            418,
            0,
            4,
            99,
            42,
            5,
            4,
            292,
            42,
            13,
            26,
            55,
            24,
            4,
            6,
            0,
            7,
            65,
            0,
            4,
            10,
            217,
            7,
            18,
            0,
            174,
            0,
            17,
            0,
            0,
            27,
            0,
            0,
            0,
            0,
            118,
            5,
            0,
            0,
            0,
            152,
            6,
            8,
            4,
            0,
            5,
            0,
            0,
            9,
            0,
            6,
            4,
            0,
            5,
            34,
            51,
            67,
            22,
            0,
            15,
            11,
            11,
            5,
            105,
            205,
            4,
            0,
            49,
            11,
            6,
            0,
            6,
            0,
            34,
            83,
            0,
            11,
            8,
            7,
            5,
            0,
            13,
            0,
            18,
            95,
            15,
            11,
            0,
            31,
            21,
            10
           ]
          }
         ],
         "name": "2020"
        },
        {
         "data": [
          {
           "coloraxis": "coloraxis",
           "geo": "geo",
           "hovertemplate": "<b>%{hovertext}</b><br><br>Year=2021<br>Nationality=%{location}<br>Applications=%{z}<extra></extra>",
           "hovertext": [
            "Afghanistan",
            "Albania",
            "Algeria",
            "Angola",
            "Argentina",
            "Armenia",
            "Australia",
            "Azerbaijan",
            "Bahrain",
            "Bangladesh",
            "Belarus",
            "Bolivia (Plurinational State of)",
            "Bosnia and Herzegovina",
            "Botswana",
            "Brazil",
            "Burundi",
            "Cambodia",
            "Cameroon",
            "Canada",
            "Chad",
            "Chile",
            "China",
            "Colombia",
            "Congo (the Democratic Republic of the)",
            "Congo (the)",
            "Costa Rica",
            "Côte d'Ivoire",
            "Cuba",
            "Djibouti",
            "Dominica",
            "Dominican Republic (the)",
            "Ecuador",
            "Egypt",
            "El Salvador",
            "Eritrea",
            "Eswatini",
            "Ethiopia",
            "Gambia (the)",
            "Georgia",
            "Ghana",
            "Grenada",
            "Guatemala",
            "Guinea",
            "Guyana",
            "Haiti",
            "Honduras",
            "India",
            "Indonesia",
            "Iran (Islamic Republic of)",
            "Iraq",
            "Israel",
            "Jamaica",
            "Japan",
            "Jordan",
            "Kazakhstan",
            "Kenya",
            "Korea (the Republic of) South Korea",
            "Kosovo",
            "Kuwait",
            "Kyrgyzstan",
            "Lebanon",
            "Lesotho",
            "Liberia",
            "Libya",
            "Malawi",
            "Malaysia",
            "Mauritius",
            "Mexico",
            "Moldova (the Republic of)",
            "Mongolia",
            "Morocco",
            "Mozambique",
            "Myanmar",
            "Namibia",
            "Nepal",
            "New Zealand",
            "Nicaragua",
            "Niger (the)",
            "Nigeria",
            "North Macedonia",
            "Oman",
            "Pakistan",
            "Palestine, State of",
            "Panama",
            "Paraguay",
            "Peru",
            "Philippines (the)",
            "Russian Federation (the)",
            "Rwanda",
            "Saudi Arabia",
            "Senegal",
            "Serbia",
            "Sierra Leone",
            "Singapore",
            "Somalia",
            "South Africa",
            "South Sudan",
            "Sri Lanka",
            "Sudan (the)",
            "Syrian Arab Republic (the)",
            "Taiwan (Province of China)",
            "Tanzania, the United Republic of",
            "Thailand",
            "Togo",
            "Trinidad and Tobago",
            "Tunisia",
            "Turkiye",
            "Uganda",
            "Ukraine",
            "United Arab Emirates (the)",
            "United States of America (the)",
            "Uruguay",
            "Uzbekistan",
            "Venezuela (Bolivarian Republic of)",
            "Viet Nam",
            "Yemen",
            "Zambia",
            "Zimbabwe",
            "*Other",
            "Dual Nationality",
            "Afghanistan",
            "Albania",
            "Algeria",
            "Angola",
            "Argentina",
            "Armenia",
            "Australia",
            "Azerbaijan",
            "Bahrain",
            "Bangladesh",
            "Belarus",
            "Bolivia (Plurinational State of)",
            "Botswana",
            "Brazil",
            "Burundi",
            "Cambodia",
            "Cameroon",
            "Canada",
            "Chad",
            "Chile",
            "China",
            "Colombia",
            "Congo (the Democratic Republic of the)",
            "Congo (the)",
            "Costa Rica",
            "Côte d'Ivoire",
            "Cuba",
            "Dominica",
            "Ecuador",
            "Egypt",
            "El Salvador",
            "Eritrea",
            "Eswatini",
            "Ethiopia",
            "Gambia (the)",
            "Georgia",
            "Ghana",
            "Grenada",
            "Guatemala",
            "Guinea",
            "Guyana",
            "Honduras",
            "India",
            "Indonesia",
            "Iran (Islamic Republic of)",
            "Iraq",
            "Israel",
            "Jamaica",
            "Japan",
            "Jordan",
            "Kazakhstan",
            "Kenya",
            "Korea (the Republic of) South Korea",
            "Kosovo",
            "Kuwait",
            "Lebanon",
            "Lesotho",
            "Liberia",
            "Libya",
            "Malawi",
            "Malaysia",
            "Mauritius",
            "Mexico",
            "Moldova (the Republic of)",
            "Mongolia",
            "Morocco",
            "Mozambique",
            "Myanmar",
            "Namibia",
            "Nepal",
            "New Zealand",
            "Nicaragua",
            "Niger (the)",
            "Nigeria",
            "North Macedonia",
            "Oman",
            "Pakistan",
            "Palestine, State of",
            "Panama",
            "Paraguay",
            "Peru",
            "Philippines (the)",
            "Russian Federation (the)",
            "Rwanda",
            "Saudi Arabia",
            "Senegal",
            "Serbia",
            "Sierra Leone",
            "Singapore",
            "Somalia",
            "South Africa",
            "Sri Lanka",
            "Sudan (the)",
            "Syrian Arab Republic (the)",
            "Taiwan (Province of China)",
            "Tanzania, the United Republic of",
            "Thailand",
            "Togo",
            "Trinidad and Tobago",
            "Tunisia",
            "Turkiye",
            "Uganda",
            "Ukraine",
            "United Arab Emirates (the)",
            "United States of America (the)",
            "Uruguay",
            "Uzbekistan",
            "Venezuela (Bolivarian Republic of)",
            "Viet Nam",
            "Yemen",
            "Zambia",
            "Zimbabwe",
            "*Other",
            "Dual Nationality",
            "Afghanistan",
            "Albania",
            "Algeria",
            "Angola",
            "Argentina",
            "Armenia",
            "Australia",
            "Bangladesh",
            "Belarus",
            "Bolivia (Plurinational State of)",
            "Botswana",
            "Brazil",
            "Cameroon",
            "Canada",
            "Chile",
            "China",
            "Colombia",
            "Congo (the Democratic Republic of the)",
            "Congo (the)",
            "Costa Rica",
            "Egypt",
            "El Salvador",
            "Eritrea",
            "Eswatini",
            "Ethiopia",
            "Georgia",
            "Ghana",
            "Grenada",
            "Guinea",
            "Honduras",
            "India",
            "Iran (Islamic Republic of)",
            "Iraq",
            "Israel",
            "Jamaica",
            "Japan",
            "Jordan",
            "Kenya",
            "Korea (the Republic of) South Korea",
            "Kosovo",
            "Kuwait",
            "Lebanon",
            "Liberia",
            "Libya",
            "Malawi",
            "Malaysia",
            "Mauritius",
            "Mexico",
            "Moldova (the Republic of)",
            "Mongolia",
            "Morocco",
            "Nepal",
            "New Zealand",
            "Nigeria",
            "Pakistan",
            "Palestine, State of",
            "Panama",
            "Philippines (the)",
            "Russian Federation (the)",
            "Saudi Arabia",
            "Serbia",
            "Sierra Leone",
            "Singapore",
            "Somalia",
            "South Africa",
            "Sri Lanka",
            "Sudan (the)",
            "Syrian Arab Republic (the)",
            "Thailand",
            "Togo",
            "Tunisia",
            "Turkiye",
            "Uganda",
            "Ukraine",
            "United States of America (the)",
            "Venezuela (Bolivarian Republic of)",
            "Viet Nam",
            "Zambia",
            "Zimbabwe",
            "*Other",
            "Dual Nationality"
           ],
           "locationmode": "country names",
           "locations": [
            "Afghanistan",
            "Albania",
            "Algeria",
            "Angola",
            "Argentina",
            "Armenia",
            "Australia",
            "Azerbaijan",
            "Bahrain",
            "Bangladesh",
            "Belarus",
            "Bolivia (Plurinational State of)",
            "Bosnia and Herzegovina",
            "Botswana",
            "Brazil",
            "Burundi",
            "Cambodia",
            "Cameroon",
            "Canada",
            "Chad",
            "Chile",
            "China",
            "Colombia",
            "Congo (the Democratic Republic of the)",
            "Congo (the)",
            "Costa Rica",
            "Côte d'Ivoire",
            "Cuba",
            "Djibouti",
            "Dominica",
            "Dominican Republic (the)",
            "Ecuador",
            "Egypt",
            "El Salvador",
            "Eritrea",
            "Eswatini",
            "Ethiopia",
            "Gambia (the)",
            "Georgia",
            "Ghana",
            "Grenada",
            "Guatemala",
            "Guinea",
            "Guyana",
            "Haiti",
            "Honduras",
            "India",
            "Indonesia",
            "Iran (Islamic Republic of)",
            "Iraq",
            "Israel",
            "Jamaica",
            "Japan",
            "Jordan",
            "Kazakhstan",
            "Kenya",
            "Korea (the Republic of) South Korea",
            "Kosovo",
            "Kuwait",
            "Kyrgyzstan",
            "Lebanon",
            "Lesotho",
            "Liberia",
            "Libya",
            "Malawi",
            "Malaysia",
            "Mauritius",
            "Mexico",
            "Moldova (the Republic of)",
            "Mongolia",
            "Morocco",
            "Mozambique",
            "Myanmar",
            "Namibia",
            "Nepal",
            "New Zealand",
            "Nicaragua",
            "Niger (the)",
            "Nigeria",
            "North Macedonia",
            "Oman",
            "Pakistan",
            "Palestine, State of",
            "Panama",
            "Paraguay",
            "Peru",
            "Philippines (the)",
            "Russian Federation (the)",
            "Rwanda",
            "Saudi Arabia",
            "Senegal",
            "Serbia",
            "Sierra Leone",
            "Singapore",
            "Somalia",
            "South Africa",
            "South Sudan",
            "Sri Lanka",
            "Sudan (the)",
            "Syrian Arab Republic (the)",
            "Taiwan (Province of China)",
            "Tanzania, the United Republic of",
            "Thailand",
            "Togo",
            "Trinidad and Tobago",
            "Tunisia",
            "Turkiye",
            "Uganda",
            "Ukraine",
            "United Arab Emirates (the)",
            "United States of America (the)",
            "Uruguay",
            "Uzbekistan",
            "Venezuela (Bolivarian Republic of)",
            "Viet Nam",
            "Yemen",
            "Zambia",
            "Zimbabwe",
            "*Other",
            "Dual Nationality",
            "Afghanistan",
            "Albania",
            "Algeria",
            "Angola",
            "Argentina",
            "Armenia",
            "Australia",
            "Azerbaijan",
            "Bahrain",
            "Bangladesh",
            "Belarus",
            "Bolivia (Plurinational State of)",
            "Botswana",
            "Brazil",
            "Burundi",
            "Cambodia",
            "Cameroon",
            "Canada",
            "Chad",
            "Chile",
            "China",
            "Colombia",
            "Congo (the Democratic Republic of the)",
            "Congo (the)",
            "Costa Rica",
            "Côte d'Ivoire",
            "Cuba",
            "Dominica",
            "Ecuador",
            "Egypt",
            "El Salvador",
            "Eritrea",
            "Eswatini",
            "Ethiopia",
            "Gambia (the)",
            "Georgia",
            "Ghana",
            "Grenada",
            "Guatemala",
            "Guinea",
            "Guyana",
            "Honduras",
            "India",
            "Indonesia",
            "Iran (Islamic Republic of)",
            "Iraq",
            "Israel",
            "Jamaica",
            "Japan",
            "Jordan",
            "Kazakhstan",
            "Kenya",
            "Korea (the Republic of) South Korea",
            "Kosovo",
            "Kuwait",
            "Lebanon",
            "Lesotho",
            "Liberia",
            "Libya",
            "Malawi",
            "Malaysia",
            "Mauritius",
            "Mexico",
            "Moldova (the Republic of)",
            "Mongolia",
            "Morocco",
            "Mozambique",
            "Myanmar",
            "Namibia",
            "Nepal",
            "New Zealand",
            "Nicaragua",
            "Niger (the)",
            "Nigeria",
            "North Macedonia",
            "Oman",
            "Pakistan",
            "Palestine, State of",
            "Panama",
            "Paraguay",
            "Peru",
            "Philippines (the)",
            "Russian Federation (the)",
            "Rwanda",
            "Saudi Arabia",
            "Senegal",
            "Serbia",
            "Sierra Leone",
            "Singapore",
            "Somalia",
            "South Africa",
            "Sri Lanka",
            "Sudan (the)",
            "Syrian Arab Republic (the)",
            "Taiwan (Province of China)",
            "Tanzania, the United Republic of",
            "Thailand",
            "Togo",
            "Trinidad and Tobago",
            "Tunisia",
            "Turkiye",
            "Uganda",
            "Ukraine",
            "United Arab Emirates (the)",
            "United States of America (the)",
            "Uruguay",
            "Uzbekistan",
            "Venezuela (Bolivarian Republic of)",
            "Viet Nam",
            "Yemen",
            "Zambia",
            "Zimbabwe",
            "*Other",
            "Dual Nationality",
            "Afghanistan",
            "Albania",
            "Algeria",
            "Angola",
            "Argentina",
            "Armenia",
            "Australia",
            "Bangladesh",
            "Belarus",
            "Bolivia (Plurinational State of)",
            "Botswana",
            "Brazil",
            "Cameroon",
            "Canada",
            "Chile",
            "China",
            "Colombia",
            "Congo (the Democratic Republic of the)",
            "Congo (the)",
            "Costa Rica",
            "Egypt",
            "El Salvador",
            "Eritrea",
            "Eswatini",
            "Ethiopia",
            "Georgia",
            "Ghana",
            "Grenada",
            "Guinea",
            "Honduras",
            "India",
            "Iran (Islamic Republic of)",
            "Iraq",
            "Israel",
            "Jamaica",
            "Japan",
            "Jordan",
            "Kenya",
            "Korea (the Republic of) South Korea",
            "Kosovo",
            "Kuwait",
            "Lebanon",
            "Liberia",
            "Libya",
            "Malawi",
            "Malaysia",
            "Mauritius",
            "Mexico",
            "Moldova (the Republic of)",
            "Mongolia",
            "Morocco",
            "Nepal",
            "New Zealand",
            "Nigeria",
            "Pakistan",
            "Palestine, State of",
            "Panama",
            "Philippines (the)",
            "Russian Federation (the)",
            "Saudi Arabia",
            "Serbia",
            "Sierra Leone",
            "Singapore",
            "Somalia",
            "South Africa",
            "Sri Lanka",
            "Sudan (the)",
            "Syrian Arab Republic (the)",
            "Thailand",
            "Togo",
            "Tunisia",
            "Turkiye",
            "Uganda",
            "Ukraine",
            "United States of America (the)",
            "Venezuela (Bolivarian Republic of)",
            "Viet Nam",
            "Zambia",
            "Zimbabwe",
            "*Other",
            "Dual Nationality"
           ],
           "name": "",
           "type": "choropleth",
           "z": [
            222,
            305,
            224,
            20,
            40,
            4,
            52,
            7,
            0,
            201,
            19,
            44,
            0,
            62,
            1177,
            9,
            0,
            37,
            91,
            0,
            24,
            597,
            20,
            112,
            11,
            0,
            10,
            4,
            0,
            0,
            0,
            0,
            161,
            40,
            8,
            16,
            51,
            7,
            505,
            89,
            0,
            10,
            9,
            4,
            0,
            6,
            1096,
            17,
            38,
            49,
            4,
            7,
            51,
            11,
            10,
            31,
            53,
            24,
            8,
            0,
            18,
            4,
            0,
            29,
            174,
            270,
            56,
            124,
            8,
            43,
            76,
            0,
            7,
            0,
            54,
            20,
            9,
            0,
            1006,
            0,
            5,
            813,
            17,
            4,
            5,
            6,
            192,
            60,
            4,
            23,
            7,
            0,
            40,
            17,
            247,
            507,
            0,
            21,
            45,
            36,
            7,
            10,
            34,
            24,
            5,
            10,
            390,
            38,
            158,
            0,
            602,
            0,
            0,
            116,
            75,
            8,
            6,
            456,
            82,
            18,
            161,
            241,
            183,
            20,
            29,
            0,
            52,
            4,
            0,
            164,
            20,
            46,
            56,
            932,
            7,
            0,
            32,
            86,
            0,
            19,
            543,
            16,
            99,
            8,
            0,
            12,
            5,
            0,
            0,
            127,
            35,
            8,
            15,
            29,
            6,
            432,
            90,
            0,
            8,
            6,
            0,
            4,
            969,
            17,
            35,
            44,
            0,
            0,
            48,
            11,
            9,
            31,
            47,
            24,
            6,
            10,
            5,
            0,
            23,
            152,
            243,
            59,
            100,
            9,
            40,
            61,
            0,
            7,
            0,
            48,
            21,
            7,
            0,
            946,
            0,
            0,
            733,
            15,
            0,
            0,
            4,
            187,
            57,
            5,
            20,
            7,
            6,
            34,
            14,
            213,
            449,
            18,
            38,
            32,
            7,
            10,
            36,
            28,
            0,
            13,
            285,
            38,
            137,
            0,
            555,
            0,
            0,
            104,
            65,
            5,
            7,
            423,
            88,
            19,
            31,
            60,
            35,
            0,
            11,
            0,
            8,
            37,
            0,
            7,
            10,
            270,
            9,
            17,
            6,
            121,
            0,
            14,
            0,
            0,
            25,
            0,
            0,
            0,
            8,
            72,
            11,
            4,
            4,
            0,
            155,
            6,
            23,
            0,
            0,
            9,
            0,
            6,
            12,
            4,
            0,
            9,
            0,
            8,
            27,
            30,
            20,
            25,
            0,
            7,
            13,
            11,
            0,
            121,
            161,
            0,
            0,
            35,
            10,
            5,
            0,
            4,
            0,
            44,
            82,
            0,
            11,
            5,
            6,
            0,
            5,
            34,
            0,
            24,
            103,
            13,
            16,
            0,
            36,
            21,
            8
           ]
          }
         ],
         "name": "2021"
        },
        {
         "data": [
          {
           "coloraxis": "coloraxis",
           "geo": "geo",
           "hovertemplate": "<b>%{hovertext}</b><br><br>Year=2022<br>Nationality=%{location}<br>Applications=%{z}<extra></extra>",
           "hovertext": [
            "Afghanistan",
            "Albania",
            "Algeria",
            "Angola",
            "Argentina",
            "Armenia",
            "Australia",
            "Azerbaijan",
            "Bahrain",
            "Bangladesh",
            "Belarus",
            "Bolivia (Plurinational State of)",
            "Bosnia and Herzegovina",
            "Botswana",
            "Brazil",
            "Burundi",
            "Cambodia",
            "Cameroon",
            "Canada",
            "Chad",
            "Chile",
            "China",
            "Colombia",
            "Congo (the Democratic Republic of the)",
            "Congo (the)",
            "Costa Rica",
            "Côte d'Ivoire",
            "Cuba",
            "Djibouti",
            "Dominica",
            "Dominican Republic (the)",
            "Ecuador",
            "Egypt",
            "El Salvador",
            "Eritrea",
            "Eswatini",
            "Ethiopia",
            "Gambia (the)",
            "Georgia",
            "Ghana",
            "Grenada",
            "Guatemala",
            "Guinea",
            "Guyana",
            "Haiti",
            "Honduras",
            "India",
            "Indonesia",
            "Iran (Islamic Republic of)",
            "Iraq",
            "Israel",
            "Jamaica",
            "Japan",
            "Jordan",
            "Kazakhstan",
            "Kenya",
            "Korea (the Republic of) South Korea",
            "Kosovo",
            "Kuwait",
            "Kyrgyzstan",
            "Lebanon",
            "Lesotho",
            "Liberia",
            "Libya",
            "Malawi",
            "Malaysia",
            "Mauritius",
            "Mexico",
            "Moldova (the Republic of)",
            "Mongolia",
            "Morocco",
            "Mozambique",
            "Myanmar",
            "Namibia",
            "Nepal",
            "New Zealand",
            "Nicaragua",
            "Niger (the)",
            "Nigeria",
            "North Macedonia",
            "Oman",
            "Pakistan",
            "Palestine, State of",
            "Panama",
            "Paraguay",
            "Peru",
            "Philippines (the)",
            "Russian Federation (the)",
            "Rwanda",
            "Saudi Arabia",
            "Senegal",
            "Serbia",
            "Sierra Leone",
            "Singapore",
            "Somalia",
            "South Africa",
            "South Sudan",
            "Sri Lanka",
            "Sudan (the)",
            "Syrian Arab Republic (the)",
            "Taiwan (Province of China)",
            "Tanzania, the United Republic of",
            "Thailand",
            "Togo",
            "Trinidad and Tobago",
            "Tunisia",
            "Turkiye",
            "Uganda",
            "Ukraine",
            "United Arab Emirates (the)",
            "United States of America (the)",
            "Uruguay",
            "Uzbekistan",
            "Venezuela (Bolivarian Republic of)",
            "Viet Nam",
            "Yemen",
            "Zambia",
            "Zimbabwe",
            "*Other",
            "Dual Nationality",
            "Afghanistan",
            "Albania",
            "Algeria",
            "Angola",
            "Argentina",
            "Armenia",
            "Australia",
            "Azerbaijan",
            "Bahrain",
            "Bangladesh",
            "Belarus",
            "Bolivia (Plurinational State of)",
            "Botswana",
            "Brazil",
            "Burundi",
            "Cambodia",
            "Cameroon",
            "Canada",
            "Chad",
            "Chile",
            "China",
            "Colombia",
            "Congo (the Democratic Republic of the)",
            "Congo (the)",
            "Costa Rica",
            "Côte d'Ivoire",
            "Cuba",
            "Dominica",
            "Ecuador",
            "Egypt",
            "El Salvador",
            "Eritrea",
            "Eswatini",
            "Ethiopia",
            "Gambia (the)",
            "Georgia",
            "Ghana",
            "Grenada",
            "Guatemala",
            "Guinea",
            "Guyana",
            "Honduras",
            "India",
            "Indonesia",
            "Iran (Islamic Republic of)",
            "Iraq",
            "Israel",
            "Jamaica",
            "Japan",
            "Jordan",
            "Kazakhstan",
            "Kenya",
            "Korea (the Republic of) South Korea",
            "Kosovo",
            "Kuwait",
            "Lebanon",
            "Lesotho",
            "Liberia",
            "Libya",
            "Malawi",
            "Malaysia",
            "Mauritius",
            "Mexico",
            "Moldova (the Republic of)",
            "Mongolia",
            "Morocco",
            "Mozambique",
            "Myanmar",
            "Namibia",
            "Nepal",
            "New Zealand",
            "Nicaragua",
            "Niger (the)",
            "Nigeria",
            "North Macedonia",
            "Oman",
            "Pakistan",
            "Palestine, State of",
            "Panama",
            "Paraguay",
            "Peru",
            "Philippines (the)",
            "Russian Federation (the)",
            "Rwanda",
            "Saudi Arabia",
            "Senegal",
            "Serbia",
            "Sierra Leone",
            "Singapore",
            "Somalia",
            "South Africa",
            "Sri Lanka",
            "Sudan (the)",
            "Syrian Arab Republic (the)",
            "Taiwan (Province of China)",
            "Tanzania, the United Republic of",
            "Thailand",
            "Togo",
            "Trinidad and Tobago",
            "Tunisia",
            "Turkiye",
            "Uganda",
            "Ukraine",
            "United Arab Emirates (the)",
            "United States of America (the)",
            "Uruguay",
            "Uzbekistan",
            "Venezuela (Bolivarian Republic of)",
            "Viet Nam",
            "Yemen",
            "Zambia",
            "Zimbabwe",
            "*Other",
            "Dual Nationality",
            "Afghanistan",
            "Albania",
            "Algeria",
            "Angola",
            "Argentina",
            "Armenia",
            "Australia",
            "Bangladesh",
            "Belarus",
            "Bolivia (Plurinational State of)",
            "Botswana",
            "Brazil",
            "Cameroon",
            "Canada",
            "Chile",
            "China",
            "Colombia",
            "Congo (the Democratic Republic of the)",
            "Congo (the)",
            "Costa Rica",
            "Egypt",
            "El Salvador",
            "Eritrea",
            "Eswatini",
            "Ethiopia",
            "Georgia",
            "Ghana",
            "Grenada",
            "Guinea",
            "Honduras",
            "India",
            "Iran (Islamic Republic of)",
            "Iraq",
            "Israel",
            "Jamaica",
            "Japan",
            "Jordan",
            "Kenya",
            "Korea (the Republic of) South Korea",
            "Kosovo",
            "Kuwait",
            "Lebanon",
            "Liberia",
            "Libya",
            "Malawi",
            "Malaysia",
            "Mauritius",
            "Mexico",
            "Moldova (the Republic of)",
            "Mongolia",
            "Morocco",
            "Nepal",
            "New Zealand",
            "Nigeria",
            "Pakistan",
            "Palestine, State of",
            "Panama",
            "Philippines (the)",
            "Russian Federation (the)",
            "Saudi Arabia",
            "Serbia",
            "Sierra Leone",
            "Singapore",
            "Somalia",
            "South Africa",
            "Sri Lanka",
            "Sudan (the)",
            "Syrian Arab Republic (the)",
            "Thailand",
            "Togo",
            "Tunisia",
            "Turkiye",
            "Uganda",
            "Ukraine",
            "United States of America (the)",
            "Venezuela (Bolivarian Republic of)",
            "Viet Nam",
            "Zambia",
            "Zimbabwe",
            "*Other",
            "Dual Nationality"
           ],
           "locationmode": "country names",
           "locations": [
            "Afghanistan",
            "Albania",
            "Algeria",
            "Angola",
            "Argentina",
            "Armenia",
            "Australia",
            "Azerbaijan",
            "Bahrain",
            "Bangladesh",
            "Belarus",
            "Bolivia (Plurinational State of)",
            "Bosnia and Herzegovina",
            "Botswana",
            "Brazil",
            "Burundi",
            "Cambodia",
            "Cameroon",
            "Canada",
            "Chad",
            "Chile",
            "China",
            "Colombia",
            "Congo (the Democratic Republic of the)",
            "Congo (the)",
            "Costa Rica",
            "Côte d'Ivoire",
            "Cuba",
            "Djibouti",
            "Dominica",
            "Dominican Republic (the)",
            "Ecuador",
            "Egypt",
            "El Salvador",
            "Eritrea",
            "Eswatini",
            "Ethiopia",
            "Gambia (the)",
            "Georgia",
            "Ghana",
            "Grenada",
            "Guatemala",
            "Guinea",
            "Guyana",
            "Haiti",
            "Honduras",
            "India",
            "Indonesia",
            "Iran (Islamic Republic of)",
            "Iraq",
            "Israel",
            "Jamaica",
            "Japan",
            "Jordan",
            "Kazakhstan",
            "Kenya",
            "Korea (the Republic of) South Korea",
            "Kosovo",
            "Kuwait",
            "Kyrgyzstan",
            "Lebanon",
            "Lesotho",
            "Liberia",
            "Libya",
            "Malawi",
            "Malaysia",
            "Mauritius",
            "Mexico",
            "Moldova (the Republic of)",
            "Mongolia",
            "Morocco",
            "Mozambique",
            "Myanmar",
            "Namibia",
            "Nepal",
            "New Zealand",
            "Nicaragua",
            "Niger (the)",
            "Nigeria",
            "North Macedonia",
            "Oman",
            "Pakistan",
            "Palestine, State of",
            "Panama",
            "Paraguay",
            "Peru",
            "Philippines (the)",
            "Russian Federation (the)",
            "Rwanda",
            "Saudi Arabia",
            "Senegal",
            "Serbia",
            "Sierra Leone",
            "Singapore",
            "Somalia",
            "South Africa",
            "South Sudan",
            "Sri Lanka",
            "Sudan (the)",
            "Syrian Arab Republic (the)",
            "Taiwan (Province of China)",
            "Tanzania, the United Republic of",
            "Thailand",
            "Togo",
            "Trinidad and Tobago",
            "Tunisia",
            "Turkiye",
            "Uganda",
            "Ukraine",
            "United Arab Emirates (the)",
            "United States of America (the)",
            "Uruguay",
            "Uzbekistan",
            "Venezuela (Bolivarian Republic of)",
            "Viet Nam",
            "Yemen",
            "Zambia",
            "Zimbabwe",
            "*Other",
            "Dual Nationality",
            "Afghanistan",
            "Albania",
            "Algeria",
            "Angola",
            "Argentina",
            "Armenia",
            "Australia",
            "Azerbaijan",
            "Bahrain",
            "Bangladesh",
            "Belarus",
            "Bolivia (Plurinational State of)",
            "Botswana",
            "Brazil",
            "Burundi",
            "Cambodia",
            "Cameroon",
            "Canada",
            "Chad",
            "Chile",
            "China",
            "Colombia",
            "Congo (the Democratic Republic of the)",
            "Congo (the)",
            "Costa Rica",
            "Côte d'Ivoire",
            "Cuba",
            "Dominica",
            "Ecuador",
            "Egypt",
            "El Salvador",
            "Eritrea",
            "Eswatini",
            "Ethiopia",
            "Gambia (the)",
            "Georgia",
            "Ghana",
            "Grenada",
            "Guatemala",
            "Guinea",
            "Guyana",
            "Honduras",
            "India",
            "Indonesia",
            "Iran (Islamic Republic of)",
            "Iraq",
            "Israel",
            "Jamaica",
            "Japan",
            "Jordan",
            "Kazakhstan",
            "Kenya",
            "Korea (the Republic of) South Korea",
            "Kosovo",
            "Kuwait",
            "Lebanon",
            "Lesotho",
            "Liberia",
            "Libya",
            "Malawi",
            "Malaysia",
            "Mauritius",
            "Mexico",
            "Moldova (the Republic of)",
            "Mongolia",
            "Morocco",
            "Mozambique",
            "Myanmar",
            "Namibia",
            "Nepal",
            "New Zealand",
            "Nicaragua",
            "Niger (the)",
            "Nigeria",
            "North Macedonia",
            "Oman",
            "Pakistan",
            "Palestine, State of",
            "Panama",
            "Paraguay",
            "Peru",
            "Philippines (the)",
            "Russian Federation (the)",
            "Rwanda",
            "Saudi Arabia",
            "Senegal",
            "Serbia",
            "Sierra Leone",
            "Singapore",
            "Somalia",
            "South Africa",
            "Sri Lanka",
            "Sudan (the)",
            "Syrian Arab Republic (the)",
            "Taiwan (Province of China)",
            "Tanzania, the United Republic of",
            "Thailand",
            "Togo",
            "Trinidad and Tobago",
            "Tunisia",
            "Turkiye",
            "Uganda",
            "Ukraine",
            "United Arab Emirates (the)",
            "United States of America (the)",
            "Uruguay",
            "Uzbekistan",
            "Venezuela (Bolivarian Republic of)",
            "Viet Nam",
            "Yemen",
            "Zambia",
            "Zimbabwe",
            "*Other",
            "Dual Nationality",
            "Afghanistan",
            "Albania",
            "Algeria",
            "Angola",
            "Argentina",
            "Armenia",
            "Australia",
            "Bangladesh",
            "Belarus",
            "Bolivia (Plurinational State of)",
            "Botswana",
            "Brazil",
            "Cameroon",
            "Canada",
            "Chile",
            "China",
            "Colombia",
            "Congo (the Democratic Republic of the)",
            "Congo (the)",
            "Costa Rica",
            "Egypt",
            "El Salvador",
            "Eritrea",
            "Eswatini",
            "Ethiopia",
            "Georgia",
            "Ghana",
            "Grenada",
            "Guinea",
            "Honduras",
            "India",
            "Iran (Islamic Republic of)",
            "Iraq",
            "Israel",
            "Jamaica",
            "Japan",
            "Jordan",
            "Kenya",
            "Korea (the Republic of) South Korea",
            "Kosovo",
            "Kuwait",
            "Lebanon",
            "Liberia",
            "Libya",
            "Malawi",
            "Malaysia",
            "Mauritius",
            "Mexico",
            "Moldova (the Republic of)",
            "Mongolia",
            "Morocco",
            "Nepal",
            "New Zealand",
            "Nigeria",
            "Pakistan",
            "Palestine, State of",
            "Panama",
            "Philippines (the)",
            "Russian Federation (the)",
            "Saudi Arabia",
            "Serbia",
            "Sierra Leone",
            "Singapore",
            "Somalia",
            "South Africa",
            "Sri Lanka",
            "Sudan (the)",
            "Syrian Arab Republic (the)",
            "Thailand",
            "Togo",
            "Tunisia",
            "Turkiye",
            "Uganda",
            "Ukraine",
            "United States of America (the)",
            "Venezuela (Bolivarian Republic of)",
            "Viet Nam",
            "Zambia",
            "Zimbabwe",
            "*Other",
            "Dual Nationality"
           ],
           "name": "",
           "type": "choropleth",
           "z": [
            376,
            364,
            1030,
            35,
            59,
            7,
            71,
            6,
            0,
            447,
            41,
            108,
            0,
            322,
            3149,
            6,
            0,
            52,
            120,
            4,
            52,
            2319,
            26,
            162,
            8,
            10,
            16,
            7,
            0,
            7,
            0,
            0,
            535,
            78,
            28,
            40,
            62,
            10,
            1937,
            159,
            0,
            15,
            16,
            7,
            0,
            14,
            2015,
            25,
            57,
            61,
            10,
            8,
            53,
            23,
            6,
            59,
            40,
            30,
            18,
            0,
            25,
            9,
            7,
            19,
            348,
            688,
            330,
            179,
            33,
            237,
            173,
            6,
            9,
            0,
            168,
            42,
            24,
            0,
            1958,
            6,
            5,
            2114,
            35,
            11,
            13,
            22,
            1050,
            198,
            6,
            38,
            8,
            15,
            68,
            12,
            1249,
            791,
            0,
            48,
            86,
            54,
            21,
            26,
            63,
            35,
            7,
            29,
            666,
            53,
            262,
            0,
            766,
            5,
            8,
            89,
            163,
            13,
            21,
            852,
            240,
            105,
            228,
            168,
            653,
            22,
            35,
            4,
            56,
            5,
            0,
            276,
            32,
            79,
            223,
            2115,
            4,
            0,
            35,
            82,
            0,
            25,
            1690,
            22,
            123,
            6,
            6,
            10,
            4,
            7,
            0,
            361,
            56,
            11,
            25,
            55,
            6,
            1130,
            115,
            0,
            9,
            8,
            0,
            12,
            1397,
            17,
            39,
            30,
            12,
            6,
            49,
            15,
            5,
            36,
            35,
            12,
            8,
            14,
            10,
            4,
            16,
            234,
            546,
            222,
            142,
            17,
            184,
            104,
            0,
            8,
            0,
            120,
            24,
            16,
            0,
            1361,
            0,
            0,
            863,
            23,
            9,
            13,
            19,
            907,
            126,
            4,
            23,
            6,
            9,
            52,
            12,
            913,
            570,
            30,
            39,
            41,
            10,
            19,
            47,
            28,
            4,
            17,
            507,
            39,
            207,
            0,
            610,
            5,
            5,
            66,
            111,
            9,
            18,
            639,
            157,
            56,
            66,
            60,
            46,
            4,
            13,
            0,
            12,
            32,
            4,
            5,
            28,
            404,
            0,
            22,
            10,
            189,
            7,
            13,
            0,
            0,
            31,
            9,
            8,
            0,
            6,
            167,
            5,
            0,
            0,
            0,
            269,
            12,
            9,
            0,
            0,
            7,
            0,
            6,
            4,
            4,
            0,
            0,
            0,
            0,
            42,
            53,
            20,
            22,
            0,
            4,
            16,
            19,
            4,
            150,
            156,
            0,
            0,
            62,
            21,
            6,
            4,
            6,
            0,
            94,
            83,
            10,
            19,
            10,
            4,
            0,
            0,
            54,
            6,
            14,
            83,
            16,
            11,
            0,
            67,
            19,
            6
           ]
          }
         ],
         "name": "2022"
        },
        {
         "data": [
          {
           "coloraxis": "coloraxis",
           "geo": "geo",
           "hovertemplate": "<b>%{hovertext}</b><br><br>Year=2023<br>Nationality=%{location}<br>Applications=%{z}<extra></extra>",
           "hovertext": [
            "Afghanistan",
            "Albania",
            "Algeria",
            "Angola",
            "Argentina",
            "Armenia",
            "Australia",
            "Azerbaijan",
            "Bahrain",
            "Bangladesh",
            "Belarus",
            "Bolivia (Plurinational State of)",
            "Bosnia and Herzegovina",
            "Botswana",
            "Brazil",
            "Burundi",
            "Cambodia",
            "Cameroon",
            "Canada",
            "Chad",
            "Chile",
            "China",
            "Colombia",
            "Congo (the Democratic Republic of the)",
            "Congo (the)",
            "Costa Rica",
            "Côte d'Ivoire",
            "Cuba",
            "Djibouti",
            "Dominica",
            "Dominican Republic (the)",
            "Ecuador",
            "Egypt",
            "El Salvador",
            "Eritrea",
            "Eswatini",
            "Ethiopia",
            "Gambia (the)",
            "Georgia",
            "Ghana",
            "Grenada",
            "Guatemala",
            "Guinea",
            "Guyana",
            "Haiti",
            "Honduras",
            "India",
            "Indonesia",
            "Iran (Islamic Republic of)",
            "Iraq",
            "Israel",
            "Jamaica",
            "Japan",
            "Jordan",
            "Kazakhstan",
            "Kenya",
            "Korea (the Republic of) South Korea",
            "Kosovo",
            "Kuwait",
            "Kyrgyzstan",
            "Lebanon",
            "Lesotho",
            "Liberia",
            "Libya",
            "Malawi",
            "Malaysia",
            "Mauritius",
            "Mexico",
            "Moldova (the Republic of)",
            "Mongolia",
            "Morocco",
            "Mozambique",
            "Myanmar",
            "Namibia",
            "Nepal",
            "New Zealand",
            "Nicaragua",
            "Niger (the)",
            "Nigeria",
            "North Macedonia",
            "Oman",
            "Pakistan",
            "Palestine, State of",
            "Panama",
            "Paraguay",
            "Peru",
            "Philippines (the)",
            "Russian Federation (the)",
            "Rwanda",
            "Saudi Arabia",
            "Senegal",
            "Serbia",
            "Sierra Leone",
            "Singapore",
            "Somalia",
            "South Africa",
            "South Sudan",
            "Sri Lanka",
            "Sudan (the)",
            "Syrian Arab Republic (the)",
            "Taiwan (Province of China)",
            "Tanzania, the United Republic of",
            "Thailand",
            "Togo",
            "Trinidad and Tobago",
            "Tunisia",
            "Turkiye",
            "Uganda",
            "Ukraine",
            "United Arab Emirates (the)",
            "United States of America (the)",
            "Uruguay",
            "Uzbekistan",
            "Venezuela (Bolivarian Republic of)",
            "Viet Nam",
            "Yemen",
            "Zambia",
            "Zimbabwe",
            "*Other",
            "Dual Nationality",
            "Afghanistan",
            "Albania",
            "Algeria",
            "Angola",
            "Argentina",
            "Armenia",
            "Australia",
            "Azerbaijan",
            "Bahrain",
            "Bangladesh",
            "Belarus",
            "Bolivia (Plurinational State of)",
            "Botswana",
            "Brazil",
            "Burundi",
            "Cambodia",
            "Cameroon",
            "Canada",
            "Chad",
            "Chile",
            "China",
            "Colombia",
            "Congo (the Democratic Republic of the)",
            "Congo (the)",
            "Costa Rica",
            "Côte d'Ivoire",
            "Cuba",
            "Dominica",
            "Ecuador",
            "Egypt",
            "El Salvador",
            "Eritrea",
            "Eswatini",
            "Ethiopia",
            "Gambia (the)",
            "Georgia",
            "Ghana",
            "Grenada",
            "Guatemala",
            "Guinea",
            "Guyana",
            "Honduras",
            "India",
            "Indonesia",
            "Iran (Islamic Republic of)",
            "Iraq",
            "Israel",
            "Jamaica",
            "Japan",
            "Jordan",
            "Kazakhstan",
            "Kenya",
            "Korea (the Republic of) South Korea",
            "Kosovo",
            "Kuwait",
            "Lebanon",
            "Lesotho",
            "Liberia",
            "Libya",
            "Malawi",
            "Malaysia",
            "Mauritius",
            "Mexico",
            "Moldova (the Republic of)",
            "Mongolia",
            "Morocco",
            "Mozambique",
            "Myanmar",
            "Namibia",
            "Nepal",
            "New Zealand",
            "Nicaragua",
            "Niger (the)",
            "Nigeria",
            "North Macedonia",
            "Oman",
            "Pakistan",
            "Palestine, State of",
            "Panama",
            "Paraguay",
            "Peru",
            "Philippines (the)",
            "Russian Federation (the)",
            "Rwanda",
            "Saudi Arabia",
            "Senegal",
            "Serbia",
            "Sierra Leone",
            "Singapore",
            "Somalia",
            "South Africa",
            "Sri Lanka",
            "Sudan (the)",
            "Syrian Arab Republic (the)",
            "Taiwan (Province of China)",
            "Tanzania, the United Republic of",
            "Thailand",
            "Togo",
            "Trinidad and Tobago",
            "Tunisia",
            "Turkiye",
            "Uganda",
            "Ukraine",
            "United Arab Emirates (the)",
            "United States of America (the)",
            "Uruguay",
            "Uzbekistan",
            "Venezuela (Bolivarian Republic of)",
            "Viet Nam",
            "Yemen",
            "Zambia",
            "Zimbabwe",
            "*Other",
            "Dual Nationality",
            "Afghanistan",
            "Albania",
            "Algeria",
            "Angola",
            "Argentina",
            "Armenia",
            "Australia",
            "Bangladesh",
            "Belarus",
            "Bolivia (Plurinational State of)",
            "Botswana",
            "Brazil",
            "Cameroon",
            "Canada",
            "Chile",
            "China",
            "Colombia",
            "Congo (the Democratic Republic of the)",
            "Congo (the)",
            "Costa Rica",
            "Egypt",
            "El Salvador",
            "Eritrea",
            "Eswatini",
            "Ethiopia",
            "Georgia",
            "Ghana",
            "Grenada",
            "Guinea",
            "Honduras",
            "India",
            "Iran (Islamic Republic of)",
            "Iraq",
            "Israel",
            "Jamaica",
            "Japan",
            "Jordan",
            "Kenya",
            "Korea (the Republic of) South Korea",
            "Kosovo",
            "Kuwait",
            "Lebanon",
            "Liberia",
            "Libya",
            "Malawi",
            "Malaysia",
            "Mauritius",
            "Mexico",
            "Moldova (the Republic of)",
            "Mongolia",
            "Morocco",
            "Nepal",
            "New Zealand",
            "Nigeria",
            "Pakistan",
            "Palestine, State of",
            "Panama",
            "Philippines (the)",
            "Russian Federation (the)",
            "Saudi Arabia",
            "Serbia",
            "Sierra Leone",
            "Singapore",
            "Somalia",
            "South Africa",
            "Sri Lanka",
            "Sudan (the)",
            "Syrian Arab Republic (the)",
            "Thailand",
            "Togo",
            "Tunisia",
            "Turkiye",
            "Uganda",
            "Ukraine",
            "United States of America (the)",
            "Venezuela (Bolivarian Republic of)",
            "Viet Nam",
            "Zambia",
            "Zimbabwe",
            "*Other",
            "Dual Nationality"
           ],
           "locationmode": "country names",
           "locations": [
            "Afghanistan",
            "Albania",
            "Algeria",
            "Angola",
            "Argentina",
            "Armenia",
            "Australia",
            "Azerbaijan",
            "Bahrain",
            "Bangladesh",
            "Belarus",
            "Bolivia (Plurinational State of)",
            "Bosnia and Herzegovina",
            "Botswana",
            "Brazil",
            "Burundi",
            "Cambodia",
            "Cameroon",
            "Canada",
            "Chad",
            "Chile",
            "China",
            "Colombia",
            "Congo (the Democratic Republic of the)",
            "Congo (the)",
            "Costa Rica",
            "Côte d'Ivoire",
            "Cuba",
            "Djibouti",
            "Dominica",
            "Dominican Republic (the)",
            "Ecuador",
            "Egypt",
            "El Salvador",
            "Eritrea",
            "Eswatini",
            "Ethiopia",
            "Gambia (the)",
            "Georgia",
            "Ghana",
            "Grenada",
            "Guatemala",
            "Guinea",
            "Guyana",
            "Haiti",
            "Honduras",
            "India",
            "Indonesia",
            "Iran (Islamic Republic of)",
            "Iraq",
            "Israel",
            "Jamaica",
            "Japan",
            "Jordan",
            "Kazakhstan",
            "Kenya",
            "Korea (the Republic of) South Korea",
            "Kosovo",
            "Kuwait",
            "Kyrgyzstan",
            "Lebanon",
            "Lesotho",
            "Liberia",
            "Libya",
            "Malawi",
            "Malaysia",
            "Mauritius",
            "Mexico",
            "Moldova (the Republic of)",
            "Mongolia",
            "Morocco",
            "Mozambique",
            "Myanmar",
            "Namibia",
            "Nepal",
            "New Zealand",
            "Nicaragua",
            "Niger (the)",
            "Nigeria",
            "North Macedonia",
            "Oman",
            "Pakistan",
            "Palestine, State of",
            "Panama",
            "Paraguay",
            "Peru",
            "Philippines (the)",
            "Russian Federation (the)",
            "Rwanda",
            "Saudi Arabia",
            "Senegal",
            "Serbia",
            "Sierra Leone",
            "Singapore",
            "Somalia",
            "South Africa",
            "South Sudan",
            "Sri Lanka",
            "Sudan (the)",
            "Syrian Arab Republic (the)",
            "Taiwan (Province of China)",
            "Tanzania, the United Republic of",
            "Thailand",
            "Togo",
            "Trinidad and Tobago",
            "Tunisia",
            "Turkiye",
            "Uganda",
            "Ukraine",
            "United Arab Emirates (the)",
            "United States of America (the)",
            "Uruguay",
            "Uzbekistan",
            "Venezuela (Bolivarian Republic of)",
            "Viet Nam",
            "Yemen",
            "Zambia",
            "Zimbabwe",
            "*Other",
            "Dual Nationality",
            "Afghanistan",
            "Albania",
            "Algeria",
            "Angola",
            "Argentina",
            "Armenia",
            "Australia",
            "Azerbaijan",
            "Bahrain",
            "Bangladesh",
            "Belarus",
            "Bolivia (Plurinational State of)",
            "Botswana",
            "Brazil",
            "Burundi",
            "Cambodia",
            "Cameroon",
            "Canada",
            "Chad",
            "Chile",
            "China",
            "Colombia",
            "Congo (the Democratic Republic of the)",
            "Congo (the)",
            "Costa Rica",
            "Côte d'Ivoire",
            "Cuba",
            "Dominica",
            "Ecuador",
            "Egypt",
            "El Salvador",
            "Eritrea",
            "Eswatini",
            "Ethiopia",
            "Gambia (the)",
            "Georgia",
            "Ghana",
            "Grenada",
            "Guatemala",
            "Guinea",
            "Guyana",
            "Honduras",
            "India",
            "Indonesia",
            "Iran (Islamic Republic of)",
            "Iraq",
            "Israel",
            "Jamaica",
            "Japan",
            "Jordan",
            "Kazakhstan",
            "Kenya",
            "Korea (the Republic of) South Korea",
            "Kosovo",
            "Kuwait",
            "Lebanon",
            "Lesotho",
            "Liberia",
            "Libya",
            "Malawi",
            "Malaysia",
            "Mauritius",
            "Mexico",
            "Moldova (the Republic of)",
            "Mongolia",
            "Morocco",
            "Mozambique",
            "Myanmar",
            "Namibia",
            "Nepal",
            "New Zealand",
            "Nicaragua",
            "Niger (the)",
            "Nigeria",
            "North Macedonia",
            "Oman",
            "Pakistan",
            "Palestine, State of",
            "Panama",
            "Paraguay",
            "Peru",
            "Philippines (the)",
            "Russian Federation (the)",
            "Rwanda",
            "Saudi Arabia",
            "Senegal",
            "Serbia",
            "Sierra Leone",
            "Singapore",
            "Somalia",
            "South Africa",
            "Sri Lanka",
            "Sudan (the)",
            "Syrian Arab Republic (the)",
            "Taiwan (Province of China)",
            "Tanzania, the United Republic of",
            "Thailand",
            "Togo",
            "Trinidad and Tobago",
            "Tunisia",
            "Turkiye",
            "Uganda",
            "Ukraine",
            "United Arab Emirates (the)",
            "United States of America (the)",
            "Uruguay",
            "Uzbekistan",
            "Venezuela (Bolivarian Republic of)",
            "Viet Nam",
            "Yemen",
            "Zambia",
            "Zimbabwe",
            "*Other",
            "Dual Nationality",
            "Afghanistan",
            "Albania",
            "Algeria",
            "Angola",
            "Argentina",
            "Armenia",
            "Australia",
            "Bangladesh",
            "Belarus",
            "Bolivia (Plurinational State of)",
            "Botswana",
            "Brazil",
            "Cameroon",
            "Canada",
            "Chile",
            "China",
            "Colombia",
            "Congo (the Democratic Republic of the)",
            "Congo (the)",
            "Costa Rica",
            "Egypt",
            "El Salvador",
            "Eritrea",
            "Eswatini",
            "Ethiopia",
            "Georgia",
            "Ghana",
            "Grenada",
            "Guinea",
            "Honduras",
            "India",
            "Iran (Islamic Republic of)",
            "Iraq",
            "Israel",
            "Jamaica",
            "Japan",
            "Jordan",
            "Kenya",
            "Korea (the Republic of) South Korea",
            "Kosovo",
            "Kuwait",
            "Lebanon",
            "Liberia",
            "Libya",
            "Malawi",
            "Malaysia",
            "Mauritius",
            "Mexico",
            "Moldova (the Republic of)",
            "Mongolia",
            "Morocco",
            "Nepal",
            "New Zealand",
            "Nigeria",
            "Pakistan",
            "Palestine, State of",
            "Panama",
            "Philippines (the)",
            "Russian Federation (the)",
            "Saudi Arabia",
            "Serbia",
            "Sierra Leone",
            "Singapore",
            "Somalia",
            "South Africa",
            "Sri Lanka",
            "Sudan (the)",
            "Syrian Arab Republic (the)",
            "Thailand",
            "Togo",
            "Tunisia",
            "Turkiye",
            "Uganda",
            "Ukraine",
            "United States of America (the)",
            "Venezuela (Bolivarian Republic of)",
            "Viet Nam",
            "Zambia",
            "Zimbabwe",
            "*Other",
            "Dual Nationality"
           ],
           "name": "",
           "type": "choropleth",
           "z": [
            830,
            211,
            2305,
            32,
            58,
            8,
            81,
            12,
            0,
            357,
            46,
            117,
            4,
            451,
            2175,
            12,
            0,
            51,
            100,
            0,
            89,
            1588,
            16,
            199,
            7,
            15,
            7,
            4,
            0,
            0,
            4,
            4,
            567,
            154,
            18,
            82,
            56,
            12,
            2401,
            158,
            6,
            21,
            8,
            4,
            0,
            20,
            2084,
            37,
            66,
            56,
            18,
            6,
            45,
            50,
            10,
            87,
            46,
            40,
            17,
            5,
            20,
            14,
            5,
            29,
            165,
            446,
            117,
            263,
            22,
            93,
            252,
            0,
            18,
            7,
            105,
            28,
            53,
            7,
            2089,
            0,
            6,
            1133,
            59,
            27,
            5,
            19,
            336,
            145,
            8,
            24,
            4,
            9,
            69,
            18,
            1458,
            748,
            0,
            30,
            163,
            90,
            20,
            21,
            45,
            35,
            5,
            74,
            1873,
            65,
            198,
            0,
            798,
            8,
            8,
            42,
            100,
            29,
            13,
            1002,
            313,
            60,
            624,
            142,
            1780,
            25,
            40,
            0,
            65,
            8,
            0,
            238,
            38,
            79,
            330,
            1258,
            11,
            0,
            39,
            66,
            4,
            55,
            990,
            9,
            155,
            6,
            6,
            6,
            0,
            0,
            4,
            456,
            108,
            13,
            49,
            49,
            9,
            1807,
            111,
            0,
            21,
            9,
            4,
            14,
            1288,
            27,
            35,
            46,
            8,
            5,
            26,
            25,
            6,
            69,
            29,
            17,
            9,
            12,
            8,
            4,
            13,
            128,
            323,
            98,
            140,
            18,
            92,
            213,
            4,
            13,
            0,
            72,
            27,
            43,
            5,
            1644,
            4,
            5,
            1082,
            42,
            17,
            5,
            16,
            227,
            120,
            0,
            14,
            5,
            8,
            52,
            11,
            1175,
            432,
            17,
            94,
            54,
            9,
            17,
            37,
            35,
            6,
            55,
            1598,
            53,
            149,
            0,
            452,
            4,
            5,
            29,
            69,
            18,
            5,
            723,
            199,
            64,
            60,
            153,
            118,
            6,
            5,
            5,
            8,
            136,
            4,
            13,
            17,
            594,
            12,
            16,
            9,
            247,
            4,
            18,
            0,
            0,
            99,
            5,
            0,
            9,
            7,
            501,
            30,
            0,
            0,
            0,
            351,
            0,
            13,
            0,
            4,
            5,
            0,
            7,
            6,
            24,
            0,
            8,
            4,
            4,
            59,
            63,
            57,
            38,
            12,
            17,
            15,
            18,
            0,
            328,
            663,
            0,
            0,
            81,
            18,
            0,
            0,
            0,
            0,
            105,
            160,
            7,
            12,
            11,
            8,
            0,
            0,
            124,
            0,
            21,
            88,
            8,
            27,
            4,
            59,
            48,
            29
           ]
          }
         ],
         "name": "2023"
        },
        {
         "data": [
          {
           "coloraxis": "coloraxis",
           "geo": "geo",
           "hovertemplate": "<b>%{hovertext}</b><br><br>Year=2024<br>Nationality=%{location}<br>Applications=%{z}<extra></extra>",
           "hovertext": [
            "Afghanistan",
            "Albania",
            "Algeria",
            "Angola",
            "Argentina",
            "Armenia",
            "Australia",
            "Azerbaijan",
            "Bahrain",
            "Bangladesh",
            "Belarus",
            "Bolivia (Plurinational State of)",
            "Bosnia and Herzegovina",
            "Botswana",
            "Brazil",
            "Burundi",
            "Cambodia",
            "Cameroon",
            "Canada",
            "Chad",
            "Chile",
            "China",
            "Colombia",
            "Congo (the Democratic Republic of the)",
            "Congo (the)",
            "Costa Rica",
            "Côte d'Ivoire",
            "Cuba",
            "Djibouti",
            "Dominica",
            "Dominican Republic (the)",
            "Ecuador",
            "Egypt",
            "El Salvador",
            "Eritrea",
            "Eswatini",
            "Ethiopia",
            "Gambia (the)",
            "Georgia",
            "Ghana",
            "Grenada",
            "Guatemala",
            "Guinea",
            "Guyana",
            "Haiti",
            "Honduras",
            "India",
            "Indonesia",
            "Iran (Islamic Republic of)",
            "Iraq",
            "Israel",
            "Jamaica",
            "Japan",
            "Jordan",
            "Kazakhstan",
            "Kenya",
            "Korea (the Republic of) South Korea",
            "Kosovo",
            "Kuwait",
            "Kyrgyzstan",
            "Lebanon",
            "Lesotho",
            "Liberia",
            "Libya",
            "Malawi",
            "Malaysia",
            "Mauritius",
            "Mexico",
            "Moldova (the Republic of)",
            "Mongolia",
            "Morocco",
            "Mozambique",
            "Myanmar",
            "Namibia",
            "Nepal",
            "New Zealand",
            "Nicaragua",
            "Niger (the)",
            "Nigeria",
            "North Macedonia",
            "Oman",
            "Pakistan",
            "Palestine, State of",
            "Panama",
            "Paraguay",
            "Peru",
            "Philippines (the)",
            "Russian Federation (the)",
            "Rwanda",
            "Saudi Arabia",
            "Senegal",
            "Serbia",
            "Sierra Leone",
            "Singapore",
            "Somalia",
            "South Africa",
            "South Sudan",
            "Sri Lanka",
            "Sudan (the)",
            "Syrian Arab Republic (the)",
            "Taiwan (Province of China)",
            "Tanzania, the United Republic of",
            "Thailand",
            "Togo",
            "Trinidad and Tobago",
            "Tunisia",
            "Turkiye",
            "Uganda",
            "Ukraine",
            "United Arab Emirates (the)",
            "United States of America (the)",
            "Uruguay",
            "Uzbekistan",
            "Venezuela (Bolivarian Republic of)",
            "Viet Nam",
            "Yemen",
            "Zambia",
            "Zimbabwe",
            "*Other",
            "Dual Nationality",
            "Afghanistan",
            "Albania",
            "Algeria",
            "Angola",
            "Argentina",
            "Armenia",
            "Australia",
            "Azerbaijan",
            "Bahrain",
            "Bangladesh",
            "Belarus",
            "Bolivia (Plurinational State of)",
            "Botswana",
            "Brazil",
            "Burundi",
            "Cambodia",
            "Cameroon",
            "Canada",
            "Chad",
            "Chile",
            "China",
            "Colombia",
            "Congo (the Democratic Republic of the)",
            "Congo (the)",
            "Costa Rica",
            "Côte d'Ivoire",
            "Cuba",
            "Dominica",
            "Ecuador",
            "Egypt",
            "El Salvador",
            "Eritrea",
            "Eswatini",
            "Ethiopia",
            "Gambia (the)",
            "Georgia",
            "Ghana",
            "Grenada",
            "Guatemala",
            "Guinea",
            "Guyana",
            "Honduras",
            "India",
            "Indonesia",
            "Iran (Islamic Republic of)",
            "Iraq",
            "Israel",
            "Jamaica",
            "Japan",
            "Jordan",
            "Kazakhstan",
            "Kenya",
            "Korea (the Republic of) South Korea",
            "Kosovo",
            "Kuwait",
            "Lebanon",
            "Lesotho",
            "Liberia",
            "Libya",
            "Malawi",
            "Malaysia",
            "Mauritius",
            "Mexico",
            "Moldova (the Republic of)",
            "Mongolia",
            "Morocco",
            "Mozambique",
            "Myanmar",
            "Namibia",
            "Nepal",
            "New Zealand",
            "Nicaragua",
            "Niger (the)",
            "Nigeria",
            "North Macedonia",
            "Oman",
            "Pakistan",
            "Palestine, State of",
            "Panama",
            "Paraguay",
            "Peru",
            "Philippines (the)",
            "Russian Federation (the)",
            "Rwanda",
            "Saudi Arabia",
            "Senegal",
            "Serbia",
            "Sierra Leone",
            "Singapore",
            "Somalia",
            "South Africa",
            "Sri Lanka",
            "Sudan (the)",
            "Syrian Arab Republic (the)",
            "Taiwan (Province of China)",
            "Tanzania, the United Republic of",
            "Thailand",
            "Togo",
            "Trinidad and Tobago",
            "Tunisia",
            "Turkiye",
            "Uganda",
            "Ukraine",
            "United Arab Emirates (the)",
            "United States of America (the)",
            "Uruguay",
            "Uzbekistan",
            "Venezuela (Bolivarian Republic of)",
            "Viet Nam",
            "Yemen",
            "Zambia",
            "Zimbabwe",
            "*Other",
            "Dual Nationality",
            "Afghanistan",
            "Albania",
            "Algeria",
            "Angola",
            "Argentina",
            "Armenia",
            "Australia",
            "Bangladesh",
            "Belarus",
            "Bolivia (Plurinational State of)",
            "Botswana",
            "Brazil",
            "Cameroon",
            "Canada",
            "Chile",
            "China",
            "Colombia",
            "Congo (the Democratic Republic of the)",
            "Congo (the)",
            "Costa Rica",
            "Egypt",
            "El Salvador",
            "Eritrea",
            "Eswatini",
            "Ethiopia",
            "Georgia",
            "Ghana",
            "Grenada",
            "Guinea",
            "Honduras",
            "India",
            "Iran (Islamic Republic of)",
            "Iraq",
            "Israel",
            "Jamaica",
            "Japan",
            "Jordan",
            "Kenya",
            "Korea (the Republic of) South Korea",
            "Kosovo",
            "Kuwait",
            "Lebanon",
            "Liberia",
            "Libya",
            "Malawi",
            "Malaysia",
            "Mauritius",
            "Mexico",
            "Moldova (the Republic of)",
            "Mongolia",
            "Morocco",
            "Nepal",
            "New Zealand",
            "Nigeria",
            "Pakistan",
            "Palestine, State of",
            "Panama",
            "Philippines (the)",
            "Russian Federation (the)",
            "Saudi Arabia",
            "Serbia",
            "Sierra Leone",
            "Singapore",
            "Somalia",
            "South Africa",
            "Sri Lanka",
            "Sudan (the)",
            "Syrian Arab Republic (the)",
            "Thailand",
            "Togo",
            "Tunisia",
            "Turkiye",
            "Uganda",
            "Ukraine",
            "United States of America (the)",
            "Venezuela (Bolivarian Republic of)",
            "Viet Nam",
            "Zambia",
            "Zimbabwe",
            "*Other",
            "Dual Nationality"
           ],
           "locationmode": "country names",
           "locations": [
            "Afghanistan",
            "Albania",
            "Algeria",
            "Angola",
            "Argentina",
            "Armenia",
            "Australia",
            "Azerbaijan",
            "Bahrain",
            "Bangladesh",
            "Belarus",
            "Bolivia (Plurinational State of)",
            "Bosnia and Herzegovina",
            "Botswana",
            "Brazil",
            "Burundi",
            "Cambodia",
            "Cameroon",
            "Canada",
            "Chad",
            "Chile",
            "China",
            "Colombia",
            "Congo (the Democratic Republic of the)",
            "Congo (the)",
            "Costa Rica",
            "Côte d'Ivoire",
            "Cuba",
            "Djibouti",
            "Dominica",
            "Dominican Republic (the)",
            "Ecuador",
            "Egypt",
            "El Salvador",
            "Eritrea",
            "Eswatini",
            "Ethiopia",
            "Gambia (the)",
            "Georgia",
            "Ghana",
            "Grenada",
            "Guatemala",
            "Guinea",
            "Guyana",
            "Haiti",
            "Honduras",
            "India",
            "Indonesia",
            "Iran (Islamic Republic of)",
            "Iraq",
            "Israel",
            "Jamaica",
            "Japan",
            "Jordan",
            "Kazakhstan",
            "Kenya",
            "Korea (the Republic of) South Korea",
            "Kosovo",
            "Kuwait",
            "Kyrgyzstan",
            "Lebanon",
            "Lesotho",
            "Liberia",
            "Libya",
            "Malawi",
            "Malaysia",
            "Mauritius",
            "Mexico",
            "Moldova (the Republic of)",
            "Mongolia",
            "Morocco",
            "Mozambique",
            "Myanmar",
            "Namibia",
            "Nepal",
            "New Zealand",
            "Nicaragua",
            "Niger (the)",
            "Nigeria",
            "North Macedonia",
            "Oman",
            "Pakistan",
            "Palestine, State of",
            "Panama",
            "Paraguay",
            "Peru",
            "Philippines (the)",
            "Russian Federation (the)",
            "Rwanda",
            "Saudi Arabia",
            "Senegal",
            "Serbia",
            "Sierra Leone",
            "Singapore",
            "Somalia",
            "South Africa",
            "South Sudan",
            "Sri Lanka",
            "Sudan (the)",
            "Syrian Arab Republic (the)",
            "Taiwan (Province of China)",
            "Tanzania, the United Republic of",
            "Thailand",
            "Togo",
            "Trinidad and Tobago",
            "Tunisia",
            "Turkiye",
            "Uganda",
            "Ukraine",
            "United Arab Emirates (the)",
            "United States of America (the)",
            "Uruguay",
            "Uzbekistan",
            "Venezuela (Bolivarian Republic of)",
            "Viet Nam",
            "Yemen",
            "Zambia",
            "Zimbabwe",
            "*Other",
            "Dual Nationality",
            "Afghanistan",
            "Albania",
            "Algeria",
            "Angola",
            "Argentina",
            "Armenia",
            "Australia",
            "Azerbaijan",
            "Bahrain",
            "Bangladesh",
            "Belarus",
            "Bolivia (Plurinational State of)",
            "Botswana",
            "Brazil",
            "Burundi",
            "Cambodia",
            "Cameroon",
            "Canada",
            "Chad",
            "Chile",
            "China",
            "Colombia",
            "Congo (the Democratic Republic of the)",
            "Congo (the)",
            "Costa Rica",
            "Côte d'Ivoire",
            "Cuba",
            "Dominica",
            "Ecuador",
            "Egypt",
            "El Salvador",
            "Eritrea",
            "Eswatini",
            "Ethiopia",
            "Gambia (the)",
            "Georgia",
            "Ghana",
            "Grenada",
            "Guatemala",
            "Guinea",
            "Guyana",
            "Honduras",
            "India",
            "Indonesia",
            "Iran (Islamic Republic of)",
            "Iraq",
            "Israel",
            "Jamaica",
            "Japan",
            "Jordan",
            "Kazakhstan",
            "Kenya",
            "Korea (the Republic of) South Korea",
            "Kosovo",
            "Kuwait",
            "Lebanon",
            "Lesotho",
            "Liberia",
            "Libya",
            "Malawi",
            "Malaysia",
            "Mauritius",
            "Mexico",
            "Moldova (the Republic of)",
            "Mongolia",
            "Morocco",
            "Mozambique",
            "Myanmar",
            "Namibia",
            "Nepal",
            "New Zealand",
            "Nicaragua",
            "Niger (the)",
            "Nigeria",
            "North Macedonia",
            "Oman",
            "Pakistan",
            "Palestine, State of",
            "Panama",
            "Paraguay",
            "Peru",
            "Philippines (the)",
            "Russian Federation (the)",
            "Rwanda",
            "Saudi Arabia",
            "Senegal",
            "Serbia",
            "Sierra Leone",
            "Singapore",
            "Somalia",
            "South Africa",
            "Sri Lanka",
            "Sudan (the)",
            "Syrian Arab Republic (the)",
            "Taiwan (Province of China)",
            "Tanzania, the United Republic of",
            "Thailand",
            "Togo",
            "Trinidad and Tobago",
            "Tunisia",
            "Turkiye",
            "Uganda",
            "Ukraine",
            "United Arab Emirates (the)",
            "United States of America (the)",
            "Uruguay",
            "Uzbekistan",
            "Venezuela (Bolivarian Republic of)",
            "Viet Nam",
            "Yemen",
            "Zambia",
            "Zimbabwe",
            "*Other",
            "Dual Nationality",
            "Afghanistan",
            "Albania",
            "Algeria",
            "Angola",
            "Argentina",
            "Armenia",
            "Australia",
            "Bangladesh",
            "Belarus",
            "Bolivia (Plurinational State of)",
            "Botswana",
            "Brazil",
            "Cameroon",
            "Canada",
            "Chile",
            "China",
            "Colombia",
            "Congo (the Democratic Republic of the)",
            "Congo (the)",
            "Costa Rica",
            "Egypt",
            "El Salvador",
            "Eritrea",
            "Eswatini",
            "Ethiopia",
            "Georgia",
            "Ghana",
            "Grenada",
            "Guinea",
            "Honduras",
            "India",
            "Iran (Islamic Republic of)",
            "Iraq",
            "Israel",
            "Jamaica",
            "Japan",
            "Jordan",
            "Kenya",
            "Korea (the Republic of) South Korea",
            "Kosovo",
            "Kuwait",
            "Lebanon",
            "Liberia",
            "Libya",
            "Malawi",
            "Malaysia",
            "Mauritius",
            "Mexico",
            "Moldova (the Republic of)",
            "Mongolia",
            "Morocco",
            "Nepal",
            "New Zealand",
            "Nigeria",
            "Pakistan",
            "Palestine, State of",
            "Panama",
            "Philippines (the)",
            "Russian Federation (the)",
            "Saudi Arabia",
            "Serbia",
            "Sierra Leone",
            "Singapore",
            "Somalia",
            "South Africa",
            "Sri Lanka",
            "Sudan (the)",
            "Syrian Arab Republic (the)",
            "Thailand",
            "Togo",
            "Tunisia",
            "Turkiye",
            "Uganda",
            "Ukraine",
            "United States of America (the)",
            "Venezuela (Bolivarian Republic of)",
            "Viet Nam",
            "Zambia",
            "Zimbabwe",
            "*Other",
            "Dual Nationality"
           ],
           "name": "",
           "type": "choropleth",
           "z": [
            553,
            105,
            1480,
            25,
            53,
            0,
            66,
            7,
            0,
            657,
            17,
            122,
            0,
            399,
            1775,
            10,
            6,
            52,
            76,
            0,
            96,
            1178,
            18,
            151,
            11,
            21,
            0,
            0,
            4,
            0,
            0,
            5,
            373,
            135,
            5,
            99,
            35,
            4,
            1296,
            140,
            0,
            31,
            0,
            11,
            0,
            22,
            1793,
            18,
            52,
            61,
            19,
            0,
            38,
            95,
            5,
            80,
            22,
            18,
            7,
            6,
            7,
            8,
            4,
            12,
            101,
            296,
            80,
            245,
            18,
            98,
            195,
            4,
            16,
            8,
            104,
            27,
            54,
            0,
            2753,
            0,
            5,
            993,
            104,
            20,
            10,
            13,
            256,
            108,
            7,
            14,
            5,
            8,
            33,
            11,
            928,
            607,
            4,
            41,
            103,
            53,
            6,
            19,
            37,
            29,
            4,
            46,
            1165,
            42,
            145,
            0,
            594,
            13,
            9,
            33,
            112,
            25,
            20,
            762,
            108,
            19,
            642,
            88,
            1902,
            33,
            29,
            4,
            57,
            8,
            0,
            538,
            16,
            89,
            489,
            1206,
            9,
            6,
            51,
            65,
            0,
            70,
            1048,
            16,
            168,
            9,
            11,
            7,
            0,
            0,
            5,
            444,
            145,
            10,
            116,
            39,
            9,
            1458,
            150,
            6,
            27,
            0,
            13,
            14,
            1137,
            16,
            47,
            59,
            17,
            4,
            29,
            70,
            6,
            72,
            19,
            18,
            11,
            10,
            11,
            0,
            21,
            136,
            300,
            63,
            155,
            9,
            76,
            244,
            0,
            14,
            12,
            94,
            23,
            61,
            0,
            2474,
            0,
            0,
            947,
            83,
            16,
            5,
            12,
            194,
            88,
            8,
            12,
            4,
            0,
            59,
            12,
            1142,
            399,
            22,
            96,
            66,
            14,
            19,
            22,
            31,
            0,
            65,
            840,
            48,
            156,
            0,
            500,
            7,
            8,
            35,
            89,
            28,
            10,
            908,
            80,
            20,
            58,
            79,
            197,
            0,
            11,
            0,
            9,
            51,
            4,
            10,
            27,
            535,
            6,
            15,
            18,
            218,
            5,
            14,
            0,
            5,
            41,
            14,
            0,
            0,
            0,
            438,
            14,
            0,
            0,
            6,
            371,
            12,
            7,
            0,
            0,
            6,
            7,
            8,
            0,
            8,
            4,
            0,
            4,
            0,
            16,
            50,
            29,
            56,
            12,
            10,
            16,
            18,
            8,
            216,
            270,
            0,
            6,
            55,
            23,
            6,
            0,
            0,
            0,
            68,
            290,
            6,
            15,
            7,
            10,
            0,
            5,
            126,
            4,
            21,
            94,
            0,
            9,
            6,
            54,
            77,
            10
           ]
          }
         ],
         "name": "2024"
        }
       ],
       "layout": {
        "coloraxis": {
         "colorbar": {
          "title": {
           "text": "Applications"
          }
         },
         "colorscale": [
          [
           0,
           "#0d0887"
          ],
          [
           0.1111111111111111,
           "#46039f"
          ],
          [
           0.2222222222222222,
           "#7201a8"
          ],
          [
           0.3333333333333333,
           "#9c179e"
          ],
          [
           0.4444444444444444,
           "#bd3786"
          ],
          [
           0.5555555555555556,
           "#d8576b"
          ],
          [
           0.6666666666666666,
           "#ed7953"
          ],
          [
           0.7777777777777778,
           "#fb9f3a"
          ],
          [
           0.8888888888888888,
           "#fdca26"
          ],
          [
           1,
           "#f0f921"
          ]
         ]
        },
        "geo": {
         "center": {},
         "domain": {
          "x": [
           0,
           1
          ],
          "y": [
           0,
           1
          ]
         }
        },
        "legend": {
         "tracegroupgap": 0
        },
        "sliders": [
         {
          "active": 0,
          "currentvalue": {
           "prefix": "Year="
          },
          "len": 0.9,
          "pad": {
           "b": 10,
           "t": 60
          },
          "steps": [
           {
            "args": [
             [
              "2017"
             ],
             {
              "frame": {
               "duration": 0,
               "redraw": true
              },
              "fromcurrent": true,
              "mode": "immediate",
              "transition": {
               "duration": 0,
               "easing": "linear"
              }
             }
            ],
            "label": "2017",
            "method": "animate"
           },
           {
            "args": [
             [
              "2018"
             ],
             {
              "frame": {
               "duration": 0,
               "redraw": true
              },
              "fromcurrent": true,
              "mode": "immediate",
              "transition": {
               "duration": 0,
               "easing": "linear"
              }
             }
            ],
            "label": "2018",
            "method": "animate"
           },
           {
            "args": [
             [
              "2019"
             ],
             {
              "frame": {
               "duration": 0,
               "redraw": true
              },
              "fromcurrent": true,
              "mode": "immediate",
              "transition": {
               "duration": 0,
               "easing": "linear"
              }
             }
            ],
            "label": "2019",
            "method": "animate"
           },
           {
            "args": [
             [
              "2020"
             ],
             {
              "frame": {
               "duration": 0,
               "redraw": true
              },
              "fromcurrent": true,
              "mode": "immediate",
              "transition": {
               "duration": 0,
               "easing": "linear"
              }
             }
            ],
            "label": "2020",
            "method": "animate"
           },
           {
            "args": [
             [
              "2021"
             ],
             {
              "frame": {
               "duration": 0,
               "redraw": true
              },
              "fromcurrent": true,
              "mode": "immediate",
              "transition": {
               "duration": 0,
               "easing": "linear"
              }
             }
            ],
            "label": "2021",
            "method": "animate"
           },
           {
            "args": [
             [
              "2022"
             ],
             {
              "frame": {
               "duration": 0,
               "redraw": true
              },
              "fromcurrent": true,
              "mode": "immediate",
              "transition": {
               "duration": 0,
               "easing": "linear"
              }
             }
            ],
            "label": "2022",
            "method": "animate"
           },
           {
            "args": [
             [
              "2023"
             ],
             {
              "frame": {
               "duration": 0,
               "redraw": true
              },
              "fromcurrent": true,
              "mode": "immediate",
              "transition": {
               "duration": 0,
               "easing": "linear"
              }
             }
            ],
            "label": "2023",
            "method": "animate"
           },
           {
            "args": [
             [
              "2024"
             ],
             {
              "frame": {
               "duration": 0,
               "redraw": true
              },
              "fromcurrent": true,
              "mode": "immediate",
              "transition": {
               "duration": 0,
               "easing": "linear"
              }
             }
            ],
            "label": "2024",
            "method": "animate"
           }
          ],
          "x": 0.1,
          "xanchor": "left",
          "y": 0,
          "yanchor": "top"
         }
        ],
        "template": {
         "data": {
          "bar": [
           {
            "error_x": {
             "color": "#2a3f5f"
            },
            "error_y": {
             "color": "#2a3f5f"
            },
            "marker": {
             "line": {
              "color": "#E5ECF6",
              "width": 0.5
             },
             "pattern": {
              "fillmode": "overlay",
              "size": 10,
              "solidity": 0.2
             }
            },
            "type": "bar"
           }
          ],
          "barpolar": [
           {
            "marker": {
             "line": {
              "color": "#E5ECF6",
              "width": 0.5
             },
             "pattern": {
              "fillmode": "overlay",
              "size": 10,
              "solidity": 0.2
             }
            },
            "type": "barpolar"
           }
          ],
          "carpet": [
           {
            "aaxis": {
             "endlinecolor": "#2a3f5f",
             "gridcolor": "white",
             "linecolor": "white",
             "minorgridcolor": "white",
             "startlinecolor": "#2a3f5f"
            },
            "baxis": {
             "endlinecolor": "#2a3f5f",
             "gridcolor": "white",
             "linecolor": "white",
             "minorgridcolor": "white",
             "startlinecolor": "#2a3f5f"
            },
            "type": "carpet"
           }
          ],
          "choropleth": [
           {
            "colorbar": {
             "outlinewidth": 0,
             "ticks": ""
            },
            "type": "choropleth"
           }
          ],
          "contour": [
           {
            "colorbar": {
             "outlinewidth": 0,
             "ticks": ""
            },
            "colorscale": [
             [
              0,
              "#0d0887"
             ],
             [
              0.1111111111111111,
              "#46039f"
             ],
             [
              0.2222222222222222,
              "#7201a8"
             ],
             [
              0.3333333333333333,
              "#9c179e"
             ],
             [
              0.4444444444444444,
              "#bd3786"
             ],
             [
              0.5555555555555556,
              "#d8576b"
             ],
             [
              0.6666666666666666,
              "#ed7953"
             ],
             [
              0.7777777777777778,
              "#fb9f3a"
             ],
             [
              0.8888888888888888,
              "#fdca26"
             ],
             [
              1,
              "#f0f921"
             ]
            ],
            "type": "contour"
           }
          ],
          "contourcarpet": [
           {
            "colorbar": {
             "outlinewidth": 0,
             "ticks": ""
            },
            "type": "contourcarpet"
           }
          ],
          "heatmap": [
           {
            "colorbar": {
             "outlinewidth": 0,
             "ticks": ""
            },
            "colorscale": [
             [
              0,
              "#0d0887"
             ],
             [
              0.1111111111111111,
              "#46039f"
             ],
             [
              0.2222222222222222,
              "#7201a8"
             ],
             [
              0.3333333333333333,
              "#9c179e"
             ],
             [
              0.4444444444444444,
              "#bd3786"
             ],
             [
              0.5555555555555556,
              "#d8576b"
             ],
             [
              0.6666666666666666,
              "#ed7953"
             ],
             [
              0.7777777777777778,
              "#fb9f3a"
             ],
             [
              0.8888888888888888,
              "#fdca26"
             ],
             [
              1,
              "#f0f921"
             ]
            ],
            "type": "heatmap"
           }
          ],
          "heatmapgl": [
           {
            "colorbar": {
             "outlinewidth": 0,
             "ticks": ""
            },
            "colorscale": [
             [
              0,
              "#0d0887"
             ],
             [
              0.1111111111111111,
              "#46039f"
             ],
             [
              0.2222222222222222,
              "#7201a8"
             ],
             [
              0.3333333333333333,
              "#9c179e"
             ],
             [
              0.4444444444444444,
              "#bd3786"
             ],
             [
              0.5555555555555556,
              "#d8576b"
             ],
             [
              0.6666666666666666,
              "#ed7953"
             ],
             [
              0.7777777777777778,
              "#fb9f3a"
             ],
             [
              0.8888888888888888,
              "#fdca26"
             ],
             [
              1,
              "#f0f921"
             ]
            ],
            "type": "heatmapgl"
           }
          ],
          "histogram": [
           {
            "marker": {
             "pattern": {
              "fillmode": "overlay",
              "size": 10,
              "solidity": 0.2
             }
            },
            "type": "histogram"
           }
          ],
          "histogram2d": [
           {
            "colorbar": {
             "outlinewidth": 0,
             "ticks": ""
            },
            "colorscale": [
             [
              0,
              "#0d0887"
             ],
             [
              0.1111111111111111,
              "#46039f"
             ],
             [
              0.2222222222222222,
              "#7201a8"
             ],
             [
              0.3333333333333333,
              "#9c179e"
             ],
             [
              0.4444444444444444,
              "#bd3786"
             ],
             [
              0.5555555555555556,
              "#d8576b"
             ],
             [
              0.6666666666666666,
              "#ed7953"
             ],
             [
              0.7777777777777778,
              "#fb9f3a"
             ],
             [
              0.8888888888888888,
              "#fdca26"
             ],
             [
              1,
              "#f0f921"
             ]
            ],
            "type": "histogram2d"
           }
          ],
          "histogram2dcontour": [
           {
            "colorbar": {
             "outlinewidth": 0,
             "ticks": ""
            },
            "colorscale": [
             [
              0,
              "#0d0887"
             ],
             [
              0.1111111111111111,
              "#46039f"
             ],
             [
              0.2222222222222222,
              "#7201a8"
             ],
             [
              0.3333333333333333,
              "#9c179e"
             ],
             [
              0.4444444444444444,
              "#bd3786"
             ],
             [
              0.5555555555555556,
              "#d8576b"
             ],
             [
              0.6666666666666666,
              "#ed7953"
             ],
             [
              0.7777777777777778,
              "#fb9f3a"
             ],
             [
              0.8888888888888888,
              "#fdca26"
             ],
             [
              1,
              "#f0f921"
             ]
            ],
            "type": "histogram2dcontour"
           }
          ],
          "mesh3d": [
           {
            "colorbar": {
             "outlinewidth": 0,
             "ticks": ""
            },
            "type": "mesh3d"
           }
          ],
          "parcoords": [
           {
            "line": {
             "colorbar": {
              "outlinewidth": 0,
              "ticks": ""
             }
            },
            "type": "parcoords"
           }
          ],
          "pie": [
           {
            "automargin": true,
            "type": "pie"
           }
          ],
          "scatter": [
           {
            "fillpattern": {
             "fillmode": "overlay",
             "size": 10,
             "solidity": 0.2
            },
            "type": "scatter"
           }
          ],
          "scatter3d": [
           {
            "line": {
             "colorbar": {
              "outlinewidth": 0,
              "ticks": ""
             }
            },
            "marker": {
             "colorbar": {
              "outlinewidth": 0,
              "ticks": ""
             }
            },
            "type": "scatter3d"
           }
          ],
          "scattercarpet": [
           {
            "marker": {
             "colorbar": {
              "outlinewidth": 0,
              "ticks": ""
             }
            },
            "type": "scattercarpet"
           }
          ],
          "scattergeo": [
           {
            "marker": {
             "colorbar": {
              "outlinewidth": 0,
              "ticks": ""
             }
            },
            "type": "scattergeo"
           }
          ],
          "scattergl": [
           {
            "marker": {
             "colorbar": {
              "outlinewidth": 0,
              "ticks": ""
             }
            },
            "type": "scattergl"
           }
          ],
          "scattermapbox": [
           {
            "marker": {
             "colorbar": {
              "outlinewidth": 0,
              "ticks": ""
             }
            },
            "type": "scattermapbox"
           }
          ],
          "scatterpolar": [
           {
            "marker": {
             "colorbar": {
              "outlinewidth": 0,
              "ticks": ""
             }
            },
            "type": "scatterpolar"
           }
          ],
          "scatterpolargl": [
           {
            "marker": {
             "colorbar": {
              "outlinewidth": 0,
              "ticks": ""
             }
            },
            "type": "scatterpolargl"
           }
          ],
          "scatterternary": [
           {
            "marker": {
             "colorbar": {
              "outlinewidth": 0,
              "ticks": ""
             }
            },
            "type": "scatterternary"
           }
          ],
          "surface": [
           {
            "colorbar": {
             "outlinewidth": 0,
             "ticks": ""
            },
            "colorscale": [
             [
              0,
              "#0d0887"
             ],
             [
              0.1111111111111111,
              "#46039f"
             ],
             [
              0.2222222222222222,
              "#7201a8"
             ],
             [
              0.3333333333333333,
              "#9c179e"
             ],
             [
              0.4444444444444444,
              "#bd3786"
             ],
             [
              0.5555555555555556,
              "#d8576b"
             ],
             [
              0.6666666666666666,
              "#ed7953"
             ],
             [
              0.7777777777777778,
              "#fb9f3a"
             ],
             [
              0.8888888888888888,
              "#fdca26"
             ],
             [
              1,
              "#f0f921"
             ]
            ],
            "type": "surface"
           }
          ],
          "table": [
           {
            "cells": {
             "fill": {
              "color": "#EBF0F8"
             },
             "line": {
              "color": "white"
             }
            },
            "header": {
             "fill": {
              "color": "#C8D4E3"
             },
             "line": {
              "color": "white"
             }
            },
            "type": "table"
           }
          ]
         },
         "layout": {
          "annotationdefaults": {
           "arrowcolor": "#2a3f5f",
           "arrowhead": 0,
           "arrowwidth": 1
          },
          "autotypenumbers": "strict",
          "coloraxis": {
           "colorbar": {
            "outlinewidth": 0,
            "ticks": ""
           }
          },
          "colorscale": {
           "diverging": [
            [
             0,
             "#8e0152"
            ],
            [
             0.1,
             "#c51b7d"
            ],
            [
             0.2,
             "#de77ae"
            ],
            [
             0.3,
             "#f1b6da"
            ],
            [
             0.4,
             "#fde0ef"
            ],
            [
             0.5,
             "#f7f7f7"
            ],
            [
             0.6,
             "#e6f5d0"
            ],
            [
             0.7,
             "#b8e186"
            ],
            [
             0.8,
             "#7fbc41"
            ],
            [
             0.9,
             "#4d9221"
            ],
            [
             1,
             "#276419"
            ]
           ],
           "sequential": [
            [
             0,
             "#0d0887"
            ],
            [
             0.1111111111111111,
             "#46039f"
            ],
            [
             0.2222222222222222,
             "#7201a8"
            ],
            [
             0.3333333333333333,
             "#9c179e"
            ],
            [
             0.4444444444444444,
             "#bd3786"
            ],
            [
             0.5555555555555556,
             "#d8576b"
            ],
            [
             0.6666666666666666,
             "#ed7953"
            ],
            [
             0.7777777777777778,
             "#fb9f3a"
            ],
            [
             0.8888888888888888,
             "#fdca26"
            ],
            [
             1,
             "#f0f921"
            ]
           ],
           "sequentialminus": [
            [
             0,
             "#0d0887"
            ],
            [
             0.1111111111111111,
             "#46039f"
            ],
            [
             0.2222222222222222,
             "#7201a8"
            ],
            [
             0.3333333333333333,
             "#9c179e"
            ],
            [
             0.4444444444444444,
             "#bd3786"
            ],
            [
             0.5555555555555556,
             "#d8576b"
            ],
            [
             0.6666666666666666,
             "#ed7953"
            ],
            [
             0.7777777777777778,
             "#fb9f3a"
            ],
            [
             0.8888888888888888,
             "#fdca26"
            ],
            [
             1,
             "#f0f921"
            ]
           ]
          },
          "colorway": [
           "#636efa",
           "#EF553B",
           "#00cc96",
           "#ab63fa",
           "#FFA15A",
           "#19d3f3",
           "#FF6692",
           "#B6E880",
           "#FF97FF",
           "#FECB52"
          ],
          "font": {
           "color": "#2a3f5f"
          },
          "geo": {
           "bgcolor": "white",
           "lakecolor": "white",
           "landcolor": "#E5ECF6",
           "showlakes": true,
           "showland": true,
           "subunitcolor": "white"
          },
          "hoverlabel": {
           "align": "left"
          },
          "hovermode": "closest",
          "mapbox": {
           "style": "light"
          },
          "paper_bgcolor": "white",
          "plot_bgcolor": "#E5ECF6",
          "polar": {
           "angularaxis": {
            "gridcolor": "white",
            "linecolor": "white",
            "ticks": ""
           },
           "bgcolor": "#E5ECF6",
           "radialaxis": {
            "gridcolor": "white",
            "linecolor": "white",
            "ticks": ""
           }
          },
          "scene": {
           "xaxis": {
            "backgroundcolor": "#E5ECF6",
            "gridcolor": "white",
            "gridwidth": 2,
            "linecolor": "white",
            "showbackground": true,
            "ticks": "",
            "zerolinecolor": "white"
           },
           "yaxis": {
            "backgroundcolor": "#E5ECF6",
            "gridcolor": "white",
            "gridwidth": 2,
            "linecolor": "white",
            "showbackground": true,
            "ticks": "",
            "zerolinecolor": "white"
           },
           "zaxis": {
            "backgroundcolor": "#E5ECF6",
            "gridcolor": "white",
            "gridwidth": 2,
            "linecolor": "white",
            "showbackground": true,
            "ticks": "",
            "zerolinecolor": "white"
           }
          },
          "shapedefaults": {
           "line": {
            "color": "#2a3f5f"
           }
          },
          "ternary": {
           "aaxis": {
            "gridcolor": "white",
            "linecolor": "white",
            "ticks": ""
           },
           "baxis": {
            "gridcolor": "white",
            "linecolor": "white",
            "ticks": ""
           },
           "bgcolor": "#E5ECF6",
           "caxis": {
            "gridcolor": "white",
            "linecolor": "white",
            "ticks": ""
           }
          },
          "title": {
           "x": 0.05
          },
          "xaxis": {
           "automargin": true,
           "gridcolor": "white",
           "linecolor": "white",
           "ticks": "",
           "title": {
            "standoff": 15
           },
           "zerolinecolor": "white",
           "zerolinewidth": 2
          },
          "yaxis": {
           "automargin": true,
           "gridcolor": "white",
           "linecolor": "white",
           "ticks": "",
           "title": {
            "standoff": 15
           },
           "zerolinecolor": "white",
           "zerolinewidth": 2
          }
         }
        },
        "title": {
         "text": "Geographic Distribution of Applications Over Time"
        },
        "updatemenus": [
         {
          "buttons": [
           {
            "args": [
             null,
             {
              "frame": {
               "duration": 500,
               "redraw": true
              },
              "fromcurrent": true,
              "mode": "immediate",
              "transition": {
               "duration": 500,
               "easing": "linear"
              }
             }
            ],
            "label": "&#9654;",
            "method": "animate"
           },
           {
            "args": [
             [
              null
             ],
             {
              "frame": {
               "duration": 0,
               "redraw": true
              },
              "fromcurrent": true,
              "mode": "immediate",
              "transition": {
               "duration": 0,
               "easing": "linear"
              }
             }
            ],
            "label": "&#9724;",
            "method": "animate"
           }
          ],
          "direction": "left",
          "pad": {
           "r": 10,
           "t": 70
          },
          "showactive": false,
          "type": "buttons",
          "x": 0.1,
          "xanchor": "right",
          "y": 0,
          "yanchor": "top"
         }
        ]
       }
      }
     },
     "metadata": {},
     "output_type": "display_data"
    }
   ],
   "source": [
    "# Interactive Geographic Map\n",
    "fig = px.choropleth(melted_data, locations='Nationality', locationmode='country names', \n",
    "                    color='Applications', hover_name='Nationality', animation_frame='Year',\n",
    "                    title='Geographic Distribution of Applications Over Time')\n",
    "fig.show()\n"
   ]
  },
  {
   "cell_type": "markdown",
   "metadata": {},
   "source": [
    "## Bar Chart for Applications by Continent\n",
    "This bar chart shows the distribution of applications across continents over the years.\n"
   ]
  },
  {
   "cell_type": "code",
   "execution_count": 53,
   "metadata": {},
   "outputs": [
    {
     "data": {
      "application/vnd.plotly.v1+json": {
       "config": {
        "plotlyServerURL": "https://plot.ly"
       },
       "data": [
        {
         "alignmentgroup": "True",
         "hovertemplate": "Continent=AF<br>Year=%{x}<br>Applications=%{y}<extra></extra>",
         "legendgroup": "AF",
         "marker": {
          "color": "#636efa",
          "pattern": {
           "shape": ""
          }
         },
         "name": "AF",
         "offsetgroup": "AF",
         "orientation": "v",
         "showlegend": true,
         "textposition": "auto",
         "type": "bar",
         "x": [
          2017,
          2018,
          2019,
          2020,
          2021,
          2022,
          2023,
          2024
         ],
         "xaxis": "x",
         "y": [
          2566,
          5021,
          5259,
          4549,
          6958,
          14739,
          18686,
          18308
         ],
         "yaxis": "y"
        },
        {
         "alignmentgroup": "True",
         "hovertemplate": "Continent=AS<br>Year=%{x}<br>Applications=%{y}<extra></extra>",
         "legendgroup": "AS",
         "marker": {
          "color": "#EF553B",
          "pattern": {
           "shape": ""
          }
         },
         "name": "AS",
         "offsetgroup": "AS",
         "orientation": "v",
         "showlegend": true,
         "textposition": "auto",
         "type": "bar",
         "x": [
          2017,
          2018,
          2019,
          2020,
          2021,
          2022,
          2023,
          2024
         ],
         "xaxis": "x",
         "y": [
          4887,
          7970,
          8125,
          6273,
          8542,
          18792,
          18695,
          15916
         ],
         "yaxis": "y"
        },
        {
         "alignmentgroup": "True",
         "hovertemplate": "Continent=EU<br>Year=%{x}<br>Applications=%{y}<extra></extra>",
         "legendgroup": "EU",
         "marker": {
          "color": "#00cc96",
          "pattern": {
           "shape": ""
          }
         },
         "name": "EU",
         "offsetgroup": "EU",
         "orientation": "v",
         "showlegend": true,
         "textposition": "auto",
         "type": "bar",
         "x": [
          2017,
          2018,
          2019,
          2020,
          2021,
          2022,
          2023,
          2024
         ],
         "xaxis": "x",
         "y": [
          272,
          876,
          887,
          628,
          970,
          1186,
          987,
          639
         ],
         "yaxis": "y"
        },
        {
         "alignmentgroup": "True",
         "hovertemplate": "Continent=NA<br>Year=%{x}<br>Applications=%{y}<extra></extra>",
         "legendgroup": "NA",
         "marker": {
          "color": "#ab63fa",
          "pattern": {
           "shape": ""
          }
         },
         "name": "NA",
         "offsetgroup": "NA",
         "orientation": "v",
         "showlegend": true,
         "textposition": "auto",
         "type": "bar",
         "x": [
          2017,
          2018,
          2019,
          2020,
          2021,
          2022,
          2023,
          2024
         ],
         "xaxis": "x",
         "y": [
          276,
          326,
          387,
          398,
          591,
          886,
          1163,
          1214
         ],
         "yaxis": "y"
        },
        {
         "alignmentgroup": "True",
         "hovertemplate": "Continent=OC<br>Year=%{x}<br>Applications=%{y}<extra></extra>",
         "legendgroup": "OC",
         "marker": {
          "color": "#FFA15A",
          "pattern": {
           "shape": ""
          }
         },
         "name": "OC",
         "offsetgroup": "OC",
         "orientation": "v",
         "showlegend": true,
         "textposition": "auto",
         "type": "bar",
         "x": [
          2017,
          2018,
          2019,
          2020,
          2021,
          2022,
          2023,
          2024
         ],
         "xaxis": "x",
         "y": [
          321,
          342,
          308,
          189,
          153,
          209,
          209,
          190
         ],
         "yaxis": "y"
        },
        {
         "alignmentgroup": "True",
         "hovertemplate": "Continent=Other<br>Year=%{x}<br>Applications=%{y}<extra></extra>",
         "legendgroup": "Other",
         "marker": {
          "color": "#19d3f3",
          "pattern": {
           "shape": ""
          }
         },
         "name": "Other",
         "offsetgroup": "Other",
         "orientation": "v",
         "showlegend": true,
         "textposition": "auto",
         "type": "bar",
         "x": [
          2017,
          2018,
          2019,
          2020,
          2021,
          2022,
          2023,
          2024
         ],
         "xaxis": "x",
         "y": [
          2365,
          3085,
          3418,
          2912,
          3794,
          6932,
          8089,
          5645
         ],
         "yaxis": "y"
        },
        {
         "alignmentgroup": "True",
         "hovertemplate": "Continent=SA<br>Year=%{x}<br>Applications=%{y}<extra></extra>",
         "legendgroup": "SA",
         "marker": {
          "color": "#FF6692",
          "pattern": {
           "shape": ""
          }
         },
         "name": "SA",
         "offsetgroup": "SA",
         "orientation": "v",
         "showlegend": true,
         "textposition": "auto",
         "type": "bar",
         "x": [
          2017,
          2018,
          2019,
          2020,
          2021,
          2022,
          2023,
          2024
         ],
         "xaxis": "x",
         "y": [
          1222,
          1549,
          2119,
          1702,
          2563,
          6001,
          4385,
          3926
         ],
         "yaxis": "y"
        }
       ],
       "layout": {
        "barmode": "relative",
        "legend": {
         "title": {
          "text": "Continent"
         },
         "tracegroupgap": 0
        },
        "template": {
         "data": {
          "bar": [
           {
            "error_x": {
             "color": "#2a3f5f"
            },
            "error_y": {
             "color": "#2a3f5f"
            },
            "marker": {
             "line": {
              "color": "#E5ECF6",
              "width": 0.5
             },
             "pattern": {
              "fillmode": "overlay",
              "size": 10,
              "solidity": 0.2
             }
            },
            "type": "bar"
           }
          ],
          "barpolar": [
           {
            "marker": {
             "line": {
              "color": "#E5ECF6",
              "width": 0.5
             },
             "pattern": {
              "fillmode": "overlay",
              "size": 10,
              "solidity": 0.2
             }
            },
            "type": "barpolar"
           }
          ],
          "carpet": [
           {
            "aaxis": {
             "endlinecolor": "#2a3f5f",
             "gridcolor": "white",
             "linecolor": "white",
             "minorgridcolor": "white",
             "startlinecolor": "#2a3f5f"
            },
            "baxis": {
             "endlinecolor": "#2a3f5f",
             "gridcolor": "white",
             "linecolor": "white",
             "minorgridcolor": "white",
             "startlinecolor": "#2a3f5f"
            },
            "type": "carpet"
           }
          ],
          "choropleth": [
           {
            "colorbar": {
             "outlinewidth": 0,
             "ticks": ""
            },
            "type": "choropleth"
           }
          ],
          "contour": [
           {
            "colorbar": {
             "outlinewidth": 0,
             "ticks": ""
            },
            "colorscale": [
             [
              0,
              "#0d0887"
             ],
             [
              0.1111111111111111,
              "#46039f"
             ],
             [
              0.2222222222222222,
              "#7201a8"
             ],
             [
              0.3333333333333333,
              "#9c179e"
             ],
             [
              0.4444444444444444,
              "#bd3786"
             ],
             [
              0.5555555555555556,
              "#d8576b"
             ],
             [
              0.6666666666666666,
              "#ed7953"
             ],
             [
              0.7777777777777778,
              "#fb9f3a"
             ],
             [
              0.8888888888888888,
              "#fdca26"
             ],
             [
              1,
              "#f0f921"
             ]
            ],
            "type": "contour"
           }
          ],
          "contourcarpet": [
           {
            "colorbar": {
             "outlinewidth": 0,
             "ticks": ""
            },
            "type": "contourcarpet"
           }
          ],
          "heatmap": [
           {
            "colorbar": {
             "outlinewidth": 0,
             "ticks": ""
            },
            "colorscale": [
             [
              0,
              "#0d0887"
             ],
             [
              0.1111111111111111,
              "#46039f"
             ],
             [
              0.2222222222222222,
              "#7201a8"
             ],
             [
              0.3333333333333333,
              "#9c179e"
             ],
             [
              0.4444444444444444,
              "#bd3786"
             ],
             [
              0.5555555555555556,
              "#d8576b"
             ],
             [
              0.6666666666666666,
              "#ed7953"
             ],
             [
              0.7777777777777778,
              "#fb9f3a"
             ],
             [
              0.8888888888888888,
              "#fdca26"
             ],
             [
              1,
              "#f0f921"
             ]
            ],
            "type": "heatmap"
           }
          ],
          "heatmapgl": [
           {
            "colorbar": {
             "outlinewidth": 0,
             "ticks": ""
            },
            "colorscale": [
             [
              0,
              "#0d0887"
             ],
             [
              0.1111111111111111,
              "#46039f"
             ],
             [
              0.2222222222222222,
              "#7201a8"
             ],
             [
              0.3333333333333333,
              "#9c179e"
             ],
             [
              0.4444444444444444,
              "#bd3786"
             ],
             [
              0.5555555555555556,
              "#d8576b"
             ],
             [
              0.6666666666666666,
              "#ed7953"
             ],
             [
              0.7777777777777778,
              "#fb9f3a"
             ],
             [
              0.8888888888888888,
              "#fdca26"
             ],
             [
              1,
              "#f0f921"
             ]
            ],
            "type": "heatmapgl"
           }
          ],
          "histogram": [
           {
            "marker": {
             "pattern": {
              "fillmode": "overlay",
              "size": 10,
              "solidity": 0.2
             }
            },
            "type": "histogram"
           }
          ],
          "histogram2d": [
           {
            "colorbar": {
             "outlinewidth": 0,
             "ticks": ""
            },
            "colorscale": [
             [
              0,
              "#0d0887"
             ],
             [
              0.1111111111111111,
              "#46039f"
             ],
             [
              0.2222222222222222,
              "#7201a8"
             ],
             [
              0.3333333333333333,
              "#9c179e"
             ],
             [
              0.4444444444444444,
              "#bd3786"
             ],
             [
              0.5555555555555556,
              "#d8576b"
             ],
             [
              0.6666666666666666,
              "#ed7953"
             ],
             [
              0.7777777777777778,
              "#fb9f3a"
             ],
             [
              0.8888888888888888,
              "#fdca26"
             ],
             [
              1,
              "#f0f921"
             ]
            ],
            "type": "histogram2d"
           }
          ],
          "histogram2dcontour": [
           {
            "colorbar": {
             "outlinewidth": 0,
             "ticks": ""
            },
            "colorscale": [
             [
              0,
              "#0d0887"
             ],
             [
              0.1111111111111111,
              "#46039f"
             ],
             [
              0.2222222222222222,
              "#7201a8"
             ],
             [
              0.3333333333333333,
              "#9c179e"
             ],
             [
              0.4444444444444444,
              "#bd3786"
             ],
             [
              0.5555555555555556,
              "#d8576b"
             ],
             [
              0.6666666666666666,
              "#ed7953"
             ],
             [
              0.7777777777777778,
              "#fb9f3a"
             ],
             [
              0.8888888888888888,
              "#fdca26"
             ],
             [
              1,
              "#f0f921"
             ]
            ],
            "type": "histogram2dcontour"
           }
          ],
          "mesh3d": [
           {
            "colorbar": {
             "outlinewidth": 0,
             "ticks": ""
            },
            "type": "mesh3d"
           }
          ],
          "parcoords": [
           {
            "line": {
             "colorbar": {
              "outlinewidth": 0,
              "ticks": ""
             }
            },
            "type": "parcoords"
           }
          ],
          "pie": [
           {
            "automargin": true,
            "type": "pie"
           }
          ],
          "scatter": [
           {
            "fillpattern": {
             "fillmode": "overlay",
             "size": 10,
             "solidity": 0.2
            },
            "type": "scatter"
           }
          ],
          "scatter3d": [
           {
            "line": {
             "colorbar": {
              "outlinewidth": 0,
              "ticks": ""
             }
            },
            "marker": {
             "colorbar": {
              "outlinewidth": 0,
              "ticks": ""
             }
            },
            "type": "scatter3d"
           }
          ],
          "scattercarpet": [
           {
            "marker": {
             "colorbar": {
              "outlinewidth": 0,
              "ticks": ""
             }
            },
            "type": "scattercarpet"
           }
          ],
          "scattergeo": [
           {
            "marker": {
             "colorbar": {
              "outlinewidth": 0,
              "ticks": ""
             }
            },
            "type": "scattergeo"
           }
          ],
          "scattergl": [
           {
            "marker": {
             "colorbar": {
              "outlinewidth": 0,
              "ticks": ""
             }
            },
            "type": "scattergl"
           }
          ],
          "scattermapbox": [
           {
            "marker": {
             "colorbar": {
              "outlinewidth": 0,
              "ticks": ""
             }
            },
            "type": "scattermapbox"
           }
          ],
          "scatterpolar": [
           {
            "marker": {
             "colorbar": {
              "outlinewidth": 0,
              "ticks": ""
             }
            },
            "type": "scatterpolar"
           }
          ],
          "scatterpolargl": [
           {
            "marker": {
             "colorbar": {
              "outlinewidth": 0,
              "ticks": ""
             }
            },
            "type": "scatterpolargl"
           }
          ],
          "scatterternary": [
           {
            "marker": {
             "colorbar": {
              "outlinewidth": 0,
              "ticks": ""
             }
            },
            "type": "scatterternary"
           }
          ],
          "surface": [
           {
            "colorbar": {
             "outlinewidth": 0,
             "ticks": ""
            },
            "colorscale": [
             [
              0,
              "#0d0887"
             ],
             [
              0.1111111111111111,
              "#46039f"
             ],
             [
              0.2222222222222222,
              "#7201a8"
             ],
             [
              0.3333333333333333,
              "#9c179e"
             ],
             [
              0.4444444444444444,
              "#bd3786"
             ],
             [
              0.5555555555555556,
              "#d8576b"
             ],
             [
              0.6666666666666666,
              "#ed7953"
             ],
             [
              0.7777777777777778,
              "#fb9f3a"
             ],
             [
              0.8888888888888888,
              "#fdca26"
             ],
             [
              1,
              "#f0f921"
             ]
            ],
            "type": "surface"
           }
          ],
          "table": [
           {
            "cells": {
             "fill": {
              "color": "#EBF0F8"
             },
             "line": {
              "color": "white"
             }
            },
            "header": {
             "fill": {
              "color": "#C8D4E3"
             },
             "line": {
              "color": "white"
             }
            },
            "type": "table"
           }
          ]
         },
         "layout": {
          "annotationdefaults": {
           "arrowcolor": "#2a3f5f",
           "arrowhead": 0,
           "arrowwidth": 1
          },
          "autotypenumbers": "strict",
          "coloraxis": {
           "colorbar": {
            "outlinewidth": 0,
            "ticks": ""
           }
          },
          "colorscale": {
           "diverging": [
            [
             0,
             "#8e0152"
            ],
            [
             0.1,
             "#c51b7d"
            ],
            [
             0.2,
             "#de77ae"
            ],
            [
             0.3,
             "#f1b6da"
            ],
            [
             0.4,
             "#fde0ef"
            ],
            [
             0.5,
             "#f7f7f7"
            ],
            [
             0.6,
             "#e6f5d0"
            ],
            [
             0.7,
             "#b8e186"
            ],
            [
             0.8,
             "#7fbc41"
            ],
            [
             0.9,
             "#4d9221"
            ],
            [
             1,
             "#276419"
            ]
           ],
           "sequential": [
            [
             0,
             "#0d0887"
            ],
            [
             0.1111111111111111,
             "#46039f"
            ],
            [
             0.2222222222222222,
             "#7201a8"
            ],
            [
             0.3333333333333333,
             "#9c179e"
            ],
            [
             0.4444444444444444,
             "#bd3786"
            ],
            [
             0.5555555555555556,
             "#d8576b"
            ],
            [
             0.6666666666666666,
             "#ed7953"
            ],
            [
             0.7777777777777778,
             "#fb9f3a"
            ],
            [
             0.8888888888888888,
             "#fdca26"
            ],
            [
             1,
             "#f0f921"
            ]
           ],
           "sequentialminus": [
            [
             0,
             "#0d0887"
            ],
            [
             0.1111111111111111,
             "#46039f"
            ],
            [
             0.2222222222222222,
             "#7201a8"
            ],
            [
             0.3333333333333333,
             "#9c179e"
            ],
            [
             0.4444444444444444,
             "#bd3786"
            ],
            [
             0.5555555555555556,
             "#d8576b"
            ],
            [
             0.6666666666666666,
             "#ed7953"
            ],
            [
             0.7777777777777778,
             "#fb9f3a"
            ],
            [
             0.8888888888888888,
             "#fdca26"
            ],
            [
             1,
             "#f0f921"
            ]
           ]
          },
          "colorway": [
           "#636efa",
           "#EF553B",
           "#00cc96",
           "#ab63fa",
           "#FFA15A",
           "#19d3f3",
           "#FF6692",
           "#B6E880",
           "#FF97FF",
           "#FECB52"
          ],
          "font": {
           "color": "#2a3f5f"
          },
          "geo": {
           "bgcolor": "white",
           "lakecolor": "white",
           "landcolor": "#E5ECF6",
           "showlakes": true,
           "showland": true,
           "subunitcolor": "white"
          },
          "hoverlabel": {
           "align": "left"
          },
          "hovermode": "closest",
          "mapbox": {
           "style": "light"
          },
          "paper_bgcolor": "white",
          "plot_bgcolor": "#E5ECF6",
          "polar": {
           "angularaxis": {
            "gridcolor": "white",
            "linecolor": "white",
            "ticks": ""
           },
           "bgcolor": "#E5ECF6",
           "radialaxis": {
            "gridcolor": "white",
            "linecolor": "white",
            "ticks": ""
           }
          },
          "scene": {
           "xaxis": {
            "backgroundcolor": "#E5ECF6",
            "gridcolor": "white",
            "gridwidth": 2,
            "linecolor": "white",
            "showbackground": true,
            "ticks": "",
            "zerolinecolor": "white"
           },
           "yaxis": {
            "backgroundcolor": "#E5ECF6",
            "gridcolor": "white",
            "gridwidth": 2,
            "linecolor": "white",
            "showbackground": true,
            "ticks": "",
            "zerolinecolor": "white"
           },
           "zaxis": {
            "backgroundcolor": "#E5ECF6",
            "gridcolor": "white",
            "gridwidth": 2,
            "linecolor": "white",
            "showbackground": true,
            "ticks": "",
            "zerolinecolor": "white"
           }
          },
          "shapedefaults": {
           "line": {
            "color": "#2a3f5f"
           }
          },
          "ternary": {
           "aaxis": {
            "gridcolor": "white",
            "linecolor": "white",
            "ticks": ""
           },
           "baxis": {
            "gridcolor": "white",
            "linecolor": "white",
            "ticks": ""
           },
           "bgcolor": "#E5ECF6",
           "caxis": {
            "gridcolor": "white",
            "linecolor": "white",
            "ticks": ""
           }
          },
          "title": {
           "x": 0.05
          },
          "xaxis": {
           "automargin": true,
           "gridcolor": "white",
           "linecolor": "white",
           "ticks": "",
           "title": {
            "standoff": 15
           },
           "zerolinecolor": "white",
           "zerolinewidth": 2
          },
          "yaxis": {
           "automargin": true,
           "gridcolor": "white",
           "linecolor": "white",
           "ticks": "",
           "title": {
            "standoff": 15
           },
           "zerolinecolor": "white",
           "zerolinewidth": 2
          }
         }
        },
        "title": {
         "text": "Applications by Continent Over Time"
        },
        "xaxis": {
         "anchor": "y",
         "domain": [
          0,
          1
         ],
         "title": {
          "text": "Year"
         }
        },
        "yaxis": {
         "anchor": "x",
         "domain": [
          0,
          1
         ],
         "title": {
          "text": "Applications"
         }
        }
       }
      }
     },
     "metadata": {},
     "output_type": "display_data"
    }
   ],
   "source": [
    "# Converting Nationality to Continent\n",
    "def get_continent(country):\n",
    "    try:\n",
    "        country_code = pc.country_name_to_country_alpha2(country)\n",
    "        continent_name = pc.country_alpha2_to_continent_code(country_code)\n",
    "        return continent_name\n",
    "    except:\n",
    "        return 'Other'\n",
    "\n",
    "melted_data['Continent'] = melted_data['Nationality'].apply(get_continent)\n",
    "\n",
    "# Bar Chart by Continent\n",
    "continent_summary = melted_data.groupby(['Continent', 'Year']).agg({'Applications': 'sum'}).reset_index()\n",
    "fig = px.bar(continent_summary, x='Year', y='Applications', color='Continent', title='Applications by Continent Over Time')\n",
    "fig.show()\n"
   ]
  },
  {
   "cell_type": "markdown",
   "metadata": {},
   "source": [
    "## Identifying Top 10 Nationalities for Prediction (Based on All Years)\n",
    "The top 10 nationalities will be selected based on the **total received applications** over all years in the dataset to ensure a comprehensive analysis.\n"
   ]
  },
  {
   "cell_type": "code",
   "execution_count": 54,
   "metadata": {},
   "outputs": [
    {
     "name": "stdout",
     "output_type": "stream",
     "text": [
      "Columns in melted_data: Index(['Nationality', 'Status', 'Year', 'Applications'], dtype='object')\n"
     ]
    },
    {
     "data": {
      "text/plain": [
       "(Index(['Brazil', 'Nigeria', 'India', 'China', 'Pakistan', 'Georgia', 'Algeria',\n",
       "        'United States of America (the)', 'Turkiye', 'Somalia'],\n",
       "       dtype='object', name='Nationality'),\n",
       "    Nationality    Status  Year  Applications\n",
       " 2      Algeria  Received  2017          31.0\n",
       " 14      Brazil  Received  2017         653.0\n",
       " 21       China  Received  2017         915.0\n",
       " 38     Georgia  Received  2017          12.0\n",
       " 46       India  Received  2017         518.0)"
      ]
     },
     "execution_count": 54,
     "metadata": {},
     "output_type": "execute_result"
    }
   ],
   "source": [
    "# Ensure 'Status' is included when melting the data\n",
    "melted_data = data_filtered.melt(id_vars=['Nationality', 'Status'], value_vars=year_columns, \n",
    "                                 var_name='Year', value_name='Applications')\n",
    "\n",
    "# Confirm if 'Status' exists\n",
    "print(\"Columns in melted_data:\", melted_data.columns)\n",
    "\n",
    "# Filter the top 10 nationalities based on total received applications across all years\n",
    "top_10_received = melted_data[melted_data['Status'] == 'Received'].groupby('Nationality')['Applications'].sum().nlargest(10).index\n",
    "\n",
    "# Filter the data for those top 10 nationalities\n",
    "top_10_data = melted_data[(melted_data['Nationality'].isin(top_10_received)) & (melted_data['Status'] == 'Received')]\n",
    "\n",
    "# Display the top nationalities and their total applications for verification\n",
    "top_10_received, top_10_data.head()\n"
   ]
  },
  {
   "cell_type": "markdown",
   "metadata": {},
   "source": [
    "## Training Separate Models for Each Top 10 Nationality\n",
    "A **linear regression model** will be trained separately for each nationality, using historical data to predict the trend for the next 10 years.\n"
   ]
  },
  {
   "cell_type": "code",
   "execution_count": 55,
   "metadata": {},
   "outputs": [
    {
     "data": {
      "text/html": [
       "<div>\n",
       "<style scoped>\n",
       "    .dataframe tbody tr th:only-of-type {\n",
       "        vertical-align: middle;\n",
       "    }\n",
       "\n",
       "    .dataframe tbody tr th {\n",
       "        vertical-align: top;\n",
       "    }\n",
       "\n",
       "    .dataframe thead th {\n",
       "        text-align: right;\n",
       "    }\n",
       "</style>\n",
       "<table border=\"1\" class=\"dataframe\">\n",
       "  <thead>\n",
       "    <tr style=\"text-align: right;\">\n",
       "      <th></th>\n",
       "      <th>Year</th>\n",
       "      <th>Applications</th>\n",
       "      <th>Status</th>\n",
       "      <th>Nationality</th>\n",
       "    </tr>\n",
       "  </thead>\n",
       "  <tbody>\n",
       "    <tr>\n",
       "      <th>0</th>\n",
       "      <td>2025</td>\n",
       "      <td>2605.178571</td>\n",
       "      <td>Received</td>\n",
       "      <td>Brazil</td>\n",
       "    </tr>\n",
       "    <tr>\n",
       "      <th>1</th>\n",
       "      <td>2026</td>\n",
       "      <td>2864.023810</td>\n",
       "      <td>Received</td>\n",
       "      <td>Brazil</td>\n",
       "    </tr>\n",
       "    <tr>\n",
       "      <th>2</th>\n",
       "      <td>2027</td>\n",
       "      <td>3122.869048</td>\n",
       "      <td>Received</td>\n",
       "      <td>Brazil</td>\n",
       "    </tr>\n",
       "    <tr>\n",
       "      <th>3</th>\n",
       "      <td>2028</td>\n",
       "      <td>3381.714286</td>\n",
       "      <td>Received</td>\n",
       "      <td>Brazil</td>\n",
       "    </tr>\n",
       "    <tr>\n",
       "      <th>4</th>\n",
       "      <td>2029</td>\n",
       "      <td>3640.559524</td>\n",
       "      <td>Received</td>\n",
       "      <td>Brazil</td>\n",
       "    </tr>\n",
       "  </tbody>\n",
       "</table>\n",
       "</div>"
      ],
      "text/plain": [
       "   Year  Applications    Status Nationality\n",
       "0  2025   2605.178571  Received      Brazil\n",
       "1  2026   2864.023810  Received      Brazil\n",
       "2  2027   3122.869048  Received      Brazil\n",
       "3  2028   3381.714286  Received      Brazil\n",
       "4  2029   3640.559524  Received      Brazil"
      ]
     },
     "execution_count": 55,
     "metadata": {},
     "output_type": "execute_result"
    }
   ],
   "source": [
    "# Preparing a DataFrame for storing predictions\n",
    "future_predictions_all = pd.DataFrame()\n",
    "\n",
    "# Loop through each nationality to fit the models correctly\n",
    "for nationality in top_10_received:\n",
    "    # Filter data for the nationality\n",
    "    data = top_10_data[top_10_data['Nationality'] == nationality]\n",
    "    X = data[['Year']]\n",
    "    y = data['Applications']\n",
    "\n",
    "    # Train the Linear Regression model\n",
    "    model = LinearRegression()\n",
    "    model.fit(X, y)\n",
    "\n",
    "    # Generate future years with the same feature name as the original data\n",
    "    future_years = pd.DataFrame({\"Year\": range(2025, 2035)})\n",
    "    predicted_applications = model.predict(future_years)\n",
    "\n",
    "    # Create a DataFrame for the predictions with corrected feature names\n",
    "    temp_df = pd.DataFrame({\n",
    "        \"Year\": future_years['Year'],\n",
    "        \"Applications\": predicted_applications,\n",
    "        \"Status\": \"Received\",\n",
    "        \"Nationality\": nationality\n",
    "    })\n",
    "\n",
    "    # Append the results to the main DataFrame\n",
    "    future_predictions_all = pd.concat([future_predictions_all, temp_df])\n",
    "\n",
    "# Display the predicted dataset\n",
    "future_predictions_all.head()\n"
   ]
  },
  {
   "cell_type": "markdown",
   "metadata": {},
   "source": [
    "## Visualizing the Predicted Trends for the Top 10 Nationalities\n",
    "The chart below displays the **projected trends** for the next 10 years (2025-2034) for each of the top 10 nationalities, based on historical data.\n"
   ]
  },
  {
   "cell_type": "code",
   "execution_count": 56,
   "metadata": {},
   "outputs": [
    {
     "data": {
      "application/vnd.plotly.v1+json": {
       "config": {
        "plotlyServerURL": "https://plot.ly"
       },
       "data": [
        {
         "hovertemplate": "Nationality=Algeria<br>Year=%{x}<br>Applications=%{y}<extra></extra>",
         "legendgroup": "Algeria",
         "line": {
          "color": "#636efa",
          "dash": "solid"
         },
         "marker": {
          "symbol": "circle"
         },
         "mode": "lines",
         "name": "Algeria",
         "orientation": "v",
         "showlegend": true,
         "type": "scatter",
         "x": [
          "2017",
          "2018",
          "2019",
          "2020",
          "2021",
          "2022",
          "2023",
          "2024",
          2025,
          2026,
          2027,
          2028,
          2029,
          2030,
          2031,
          2032,
          2033,
          2034
         ],
         "xaxis": "x",
         "y": [
          31,
          134,
          102,
          112,
          224,
          1030,
          2305,
          1480,
          1957.2857142857974,
          2241.7380952381063,
          2526.1904761905316,
          2810.642857142957,
          3095.095238095266,
          3379.547619047691,
          3664,
          3948.4523809524253,
          4232.904761904851,
          4517.3571428571595
         ],
         "yaxis": "y"
        },
        {
         "hovertemplate": "Nationality=Brazil<br>Year=%{x}<br>Applications=%{y}<extra></extra>",
         "legendgroup": "Brazil",
         "line": {
          "color": "#EF553B",
          "dash": "solid"
         },
         "marker": {
          "symbol": "circle"
         },
         "mode": "lines",
         "name": "Brazil",
         "orientation": "v",
         "showlegend": true,
         "type": "scatter",
         "x": [
          "2017",
          "2018",
          "2019",
          "2020",
          "2021",
          "2022",
          "2023",
          "2024",
          2025,
          2026,
          2027,
          2028,
          2029,
          2030,
          2031,
          2032,
          2033,
          2034
         ],
         "xaxis": "x",
         "y": [
          653,
          730,
          1048,
          816,
          1177,
          3149,
          2175,
          1775,
          2605.1785714285797,
          2864.0238095237873,
          3122.869047619053,
          3381.714285714319,
          3640.559523809585,
          3899.404761904734,
          4158.25,
          4417.095238095266,
          4675.940476190532,
          4934.785714285681
         ],
         "yaxis": "y"
        },
        {
         "hovertemplate": "Nationality=China<br>Year=%{x}<br>Applications=%{y}<extra></extra>",
         "legendgroup": "China",
         "line": {
          "color": "#00cc96",
          "dash": "solid"
         },
         "marker": {
          "symbol": "circle"
         },
         "mode": "lines",
         "name": "China",
         "orientation": "v",
         "showlegend": true,
         "type": "scatter",
         "x": [
          "2017",
          "2018",
          "2019",
          "2020",
          "2021",
          "2022",
          "2023",
          "2024",
          2025,
          2026,
          2027,
          2028,
          2029,
          2030,
          2031,
          2032,
          2033,
          2034
         ],
         "xaxis": "x",
         "y": [
          915,
          870,
          1051,
          744,
          597,
          2319,
          1588,
          1178,
          1644.6071428571595,
          1752.797619047633,
          1860.9880952381063,
          1969.1785714285797,
          2077.369047619053,
          2185.5595238095266,
          2293.75,
          2401.9404761904734,
          2510.130952380976,
          2618.3214285714494
         ],
         "yaxis": "y"
        },
        {
         "hovertemplate": "Nationality=Georgia<br>Year=%{x}<br>Applications=%{y}<extra></extra>",
         "legendgroup": "Georgia",
         "line": {
          "color": "#ab63fa",
          "dash": "solid"
         },
         "marker": {
          "symbol": "circle"
         },
         "mode": "lines",
         "name": "Georgia",
         "orientation": "v",
         "showlegend": true,
         "type": "scatter",
         "x": [
          "2017",
          "2018",
          "2019",
          "2020",
          "2021",
          "2022",
          "2023",
          "2024",
          2025,
          2026,
          2027,
          2028,
          2029,
          2030,
          2031,
          2032,
          2033,
          2034
         ],
         "xaxis": "x",
         "y": [
          12,
          146,
          338,
          475,
          505,
          1937,
          2401,
          1296,
          2232.8571428571595,
          2531.5476190475747,
          2830.2380952381063,
          3128.928571428638,
          3427.619047619053,
          3726.309523809585,
          4025,
          4323.690476190532,
          4622.380952380947,
          4921.0714285714785
         ],
         "yaxis": "y"
        },
        {
         "hovertemplate": "Nationality=India<br>Year=%{x}<br>Applications=%{y}<extra></extra>",
         "legendgroup": "India",
         "line": {
          "color": "#FFA15A",
          "dash": "solid"
         },
         "marker": {
          "symbol": "circle"
         },
         "mode": "lines",
         "name": "India",
         "orientation": "v",
         "showlegend": true,
         "type": "scatter",
         "x": [
          "2017",
          "2018",
          "2019",
          "2020",
          "2021",
          "2022",
          "2023",
          "2024",
          2025,
          2026,
          2027,
          2028,
          2029,
          2030,
          2031,
          2032,
          2033,
          2034
         ],
         "xaxis": "x",
         "y": [
          518,
          677,
          751,
          570,
          1096,
          2015,
          2084,
          1793,
          2274.3214285714203,
          2515.7261904762127,
          2757.130952380947,
          2998.535714285681,
          3239.9404761904734,
          3481.3452380952076,
          3722.75,
          3964.154761904734,
          4205.559523809527,
          4446.964285714261
         ],
         "yaxis": "y"
        },
        {
         "hovertemplate": "Nationality=Nigeria<br>Year=%{x}<br>Applications=%{y}<extra></extra>",
         "legendgroup": "Nigeria",
         "line": {
          "color": "#19d3f3",
          "dash": "solid"
         },
         "marker": {
          "symbol": "circle"
         },
         "mode": "lines",
         "name": "Nigeria",
         "orientation": "v",
         "showlegend": true,
         "type": "scatter",
         "x": [
          "2017",
          "2018",
          "2019",
          "2020",
          "2021",
          "2022",
          "2023",
          "2024",
          2025,
          2026,
          2027,
          2028,
          2029,
          2030,
          2031,
          2032,
          2033,
          2034
         ],
         "xaxis": "x",
         "y": [
          432,
          647,
          672,
          580,
          1006,
          1958,
          2089,
          2753,
          2753.25,
          3083.5,
          3413.75,
          3744,
          4074.25,
          4404.5,
          4734.75,
          5065,
          5395.25,
          5725.5
         ],
         "yaxis": "y"
        },
        {
         "hovertemplate": "Nationality=Pakistan<br>Year=%{x}<br>Applications=%{y}<extra></extra>",
         "legendgroup": "Pakistan",
         "line": {
          "color": "#FF6692",
          "dash": "solid"
         },
         "marker": {
          "symbol": "circle"
         },
         "mode": "lines",
         "name": "Pakistan",
         "orientation": "v",
         "showlegend": true,
         "type": "scatter",
         "x": [
          "2017",
          "2018",
          "2019",
          "2020",
          "2021",
          "2022",
          "2023",
          "2024",
          2025,
          2026,
          2027,
          2028,
          2029,
          2030,
          2031,
          2032,
          2033,
          2034
         ],
         "xaxis": "x",
         "y": [
          395,
          1105,
          684,
          500,
          813,
          2114,
          1133,
          993,
          1445.4642857142899,
          1551.7619047618937,
          1658.0595238095266,
          1764.3571428571595,
          1870.6547619047633,
          1976.9523809523962,
          2083.25,
          2189.547619047633,
          2295.8452380952367,
          2402.1428571428696
         ],
         "yaxis": "y"
        },
        {
         "hovertemplate": "Nationality=Somalia<br>Year=%{x}<br>Applications=%{y}<extra></extra>",
         "legendgroup": "Somalia",
         "line": {
          "color": "#B6E880",
          "dash": "solid"
         },
         "marker": {
          "symbol": "circle"
         },
         "mode": "lines",
         "name": "Somalia",
         "orientation": "v",
         "showlegend": true,
         "type": "scatter",
         "x": [
          "2017",
          "2018",
          "2019",
          "2020",
          "2021",
          "2022",
          "2023",
          "2024",
          2025,
          2026,
          2027,
          2028,
          2029,
          2030,
          2031,
          2032,
          2033,
          2034
         ],
         "xaxis": "x",
         "y": [
          8,
          28,
          71,
          137,
          247,
          1249,
          1458,
          928,
          1439,
          1644.1666666666279,
          1849.333333333314,
          2054.5,
          2259.666666666628,
          2464.833333333314,
          2670,
          2875.166666666628,
          3080.333333333314,
          3285.5
         ],
         "yaxis": "y"
        },
        {
         "hovertemplate": "Nationality=Turkiye<br>Year=%{x}<br>Applications=%{y}<extra></extra>",
         "legendgroup": "Turkiye",
         "line": {
          "color": "#FF97FF",
          "dash": "solid"
         },
         "marker": {
          "symbol": "circle"
         },
         "mode": "lines",
         "name": "Turkiye",
         "orientation": "v",
         "showlegend": true,
         "type": "scatter",
         "x": [
          "2017",
          "2018",
          "2019",
          "2020",
          "2021",
          "2022",
          "2023",
          "2024",
          2025,
          2026,
          2027,
          2028,
          2029,
          2030,
          2031,
          2032,
          2033,
          2034
         ],
         "xaxis": "x",
         "y": [
          34,
          48,
          166,
          181,
          390,
          666,
          1873,
          1165,
          1569.8928571428987,
          1793.1190476190532,
          2016.3452380952658,
          2239.5714285714785,
          2462.797619047633,
          2686.0238095238456,
          2909.25,
          3132.4761904762127,
          3355.7023809524253,
          3578.9285714285797
         ],
         "yaxis": "y"
        },
        {
         "hovertemplate": "Nationality=United States of America (the)<br>Year=%{x}<br>Applications=%{y}<extra></extra>",
         "legendgroup": "United States of America (the)",
         "line": {
          "color": "#FECB52",
          "dash": "solid"
         },
         "marker": {
          "symbol": "circle"
         },
         "mode": "lines",
         "name": "United States of America (the)",
         "orientation": "v",
         "showlegend": true,
         "type": "scatter",
         "x": [
          "2017",
          "2018",
          "2019",
          "2020",
          "2021",
          "2022",
          "2023",
          "2024",
          2025,
          2026,
          2027,
          2028,
          2029,
          2030,
          2031,
          2032,
          2033,
          2034
         ],
         "xaxis": "x",
         "y": [
          630,
          625,
          650,
          574,
          602,
          766,
          798,
          594,
          707.8571428571449,
          719.6309523809541,
          731.4047619047633,
          743.1785714285725,
          754.9523809523816,
          766.7261904761908,
          778.5,
          790.2738095238092,
          802.047619047622,
          813.8214285714312
         ],
         "yaxis": "y"
        }
       ],
       "layout": {
        "legend": {
         "title": {
          "text": "Nationality"
         },
         "tracegroupgap": 0
        },
        "template": {
         "data": {
          "bar": [
           {
            "error_x": {
             "color": "#2a3f5f"
            },
            "error_y": {
             "color": "#2a3f5f"
            },
            "marker": {
             "line": {
              "color": "#E5ECF6",
              "width": 0.5
             },
             "pattern": {
              "fillmode": "overlay",
              "size": 10,
              "solidity": 0.2
             }
            },
            "type": "bar"
           }
          ],
          "barpolar": [
           {
            "marker": {
             "line": {
              "color": "#E5ECF6",
              "width": 0.5
             },
             "pattern": {
              "fillmode": "overlay",
              "size": 10,
              "solidity": 0.2
             }
            },
            "type": "barpolar"
           }
          ],
          "carpet": [
           {
            "aaxis": {
             "endlinecolor": "#2a3f5f",
             "gridcolor": "white",
             "linecolor": "white",
             "minorgridcolor": "white",
             "startlinecolor": "#2a3f5f"
            },
            "baxis": {
             "endlinecolor": "#2a3f5f",
             "gridcolor": "white",
             "linecolor": "white",
             "minorgridcolor": "white",
             "startlinecolor": "#2a3f5f"
            },
            "type": "carpet"
           }
          ],
          "choropleth": [
           {
            "colorbar": {
             "outlinewidth": 0,
             "ticks": ""
            },
            "type": "choropleth"
           }
          ],
          "contour": [
           {
            "colorbar": {
             "outlinewidth": 0,
             "ticks": ""
            },
            "colorscale": [
             [
              0,
              "#0d0887"
             ],
             [
              0.1111111111111111,
              "#46039f"
             ],
             [
              0.2222222222222222,
              "#7201a8"
             ],
             [
              0.3333333333333333,
              "#9c179e"
             ],
             [
              0.4444444444444444,
              "#bd3786"
             ],
             [
              0.5555555555555556,
              "#d8576b"
             ],
             [
              0.6666666666666666,
              "#ed7953"
             ],
             [
              0.7777777777777778,
              "#fb9f3a"
             ],
             [
              0.8888888888888888,
              "#fdca26"
             ],
             [
              1,
              "#f0f921"
             ]
            ],
            "type": "contour"
           }
          ],
          "contourcarpet": [
           {
            "colorbar": {
             "outlinewidth": 0,
             "ticks": ""
            },
            "type": "contourcarpet"
           }
          ],
          "heatmap": [
           {
            "colorbar": {
             "outlinewidth": 0,
             "ticks": ""
            },
            "colorscale": [
             [
              0,
              "#0d0887"
             ],
             [
              0.1111111111111111,
              "#46039f"
             ],
             [
              0.2222222222222222,
              "#7201a8"
             ],
             [
              0.3333333333333333,
              "#9c179e"
             ],
             [
              0.4444444444444444,
              "#bd3786"
             ],
             [
              0.5555555555555556,
              "#d8576b"
             ],
             [
              0.6666666666666666,
              "#ed7953"
             ],
             [
              0.7777777777777778,
              "#fb9f3a"
             ],
             [
              0.8888888888888888,
              "#fdca26"
             ],
             [
              1,
              "#f0f921"
             ]
            ],
            "type": "heatmap"
           }
          ],
          "heatmapgl": [
           {
            "colorbar": {
             "outlinewidth": 0,
             "ticks": ""
            },
            "colorscale": [
             [
              0,
              "#0d0887"
             ],
             [
              0.1111111111111111,
              "#46039f"
             ],
             [
              0.2222222222222222,
              "#7201a8"
             ],
             [
              0.3333333333333333,
              "#9c179e"
             ],
             [
              0.4444444444444444,
              "#bd3786"
             ],
             [
              0.5555555555555556,
              "#d8576b"
             ],
             [
              0.6666666666666666,
              "#ed7953"
             ],
             [
              0.7777777777777778,
              "#fb9f3a"
             ],
             [
              0.8888888888888888,
              "#fdca26"
             ],
             [
              1,
              "#f0f921"
             ]
            ],
            "type": "heatmapgl"
           }
          ],
          "histogram": [
           {
            "marker": {
             "pattern": {
              "fillmode": "overlay",
              "size": 10,
              "solidity": 0.2
             }
            },
            "type": "histogram"
           }
          ],
          "histogram2d": [
           {
            "colorbar": {
             "outlinewidth": 0,
             "ticks": ""
            },
            "colorscale": [
             [
              0,
              "#0d0887"
             ],
             [
              0.1111111111111111,
              "#46039f"
             ],
             [
              0.2222222222222222,
              "#7201a8"
             ],
             [
              0.3333333333333333,
              "#9c179e"
             ],
             [
              0.4444444444444444,
              "#bd3786"
             ],
             [
              0.5555555555555556,
              "#d8576b"
             ],
             [
              0.6666666666666666,
              "#ed7953"
             ],
             [
              0.7777777777777778,
              "#fb9f3a"
             ],
             [
              0.8888888888888888,
              "#fdca26"
             ],
             [
              1,
              "#f0f921"
             ]
            ],
            "type": "histogram2d"
           }
          ],
          "histogram2dcontour": [
           {
            "colorbar": {
             "outlinewidth": 0,
             "ticks": ""
            },
            "colorscale": [
             [
              0,
              "#0d0887"
             ],
             [
              0.1111111111111111,
              "#46039f"
             ],
             [
              0.2222222222222222,
              "#7201a8"
             ],
             [
              0.3333333333333333,
              "#9c179e"
             ],
             [
              0.4444444444444444,
              "#bd3786"
             ],
             [
              0.5555555555555556,
              "#d8576b"
             ],
             [
              0.6666666666666666,
              "#ed7953"
             ],
             [
              0.7777777777777778,
              "#fb9f3a"
             ],
             [
              0.8888888888888888,
              "#fdca26"
             ],
             [
              1,
              "#f0f921"
             ]
            ],
            "type": "histogram2dcontour"
           }
          ],
          "mesh3d": [
           {
            "colorbar": {
             "outlinewidth": 0,
             "ticks": ""
            },
            "type": "mesh3d"
           }
          ],
          "parcoords": [
           {
            "line": {
             "colorbar": {
              "outlinewidth": 0,
              "ticks": ""
             }
            },
            "type": "parcoords"
           }
          ],
          "pie": [
           {
            "automargin": true,
            "type": "pie"
           }
          ],
          "scatter": [
           {
            "fillpattern": {
             "fillmode": "overlay",
             "size": 10,
             "solidity": 0.2
            },
            "type": "scatter"
           }
          ],
          "scatter3d": [
           {
            "line": {
             "colorbar": {
              "outlinewidth": 0,
              "ticks": ""
             }
            },
            "marker": {
             "colorbar": {
              "outlinewidth": 0,
              "ticks": ""
             }
            },
            "type": "scatter3d"
           }
          ],
          "scattercarpet": [
           {
            "marker": {
             "colorbar": {
              "outlinewidth": 0,
              "ticks": ""
             }
            },
            "type": "scattercarpet"
           }
          ],
          "scattergeo": [
           {
            "marker": {
             "colorbar": {
              "outlinewidth": 0,
              "ticks": ""
             }
            },
            "type": "scattergeo"
           }
          ],
          "scattergl": [
           {
            "marker": {
             "colorbar": {
              "outlinewidth": 0,
              "ticks": ""
             }
            },
            "type": "scattergl"
           }
          ],
          "scattermapbox": [
           {
            "marker": {
             "colorbar": {
              "outlinewidth": 0,
              "ticks": ""
             }
            },
            "type": "scattermapbox"
           }
          ],
          "scatterpolar": [
           {
            "marker": {
             "colorbar": {
              "outlinewidth": 0,
              "ticks": ""
             }
            },
            "type": "scatterpolar"
           }
          ],
          "scatterpolargl": [
           {
            "marker": {
             "colorbar": {
              "outlinewidth": 0,
              "ticks": ""
             }
            },
            "type": "scatterpolargl"
           }
          ],
          "scatterternary": [
           {
            "marker": {
             "colorbar": {
              "outlinewidth": 0,
              "ticks": ""
             }
            },
            "type": "scatterternary"
           }
          ],
          "surface": [
           {
            "colorbar": {
             "outlinewidth": 0,
             "ticks": ""
            },
            "colorscale": [
             [
              0,
              "#0d0887"
             ],
             [
              0.1111111111111111,
              "#46039f"
             ],
             [
              0.2222222222222222,
              "#7201a8"
             ],
             [
              0.3333333333333333,
              "#9c179e"
             ],
             [
              0.4444444444444444,
              "#bd3786"
             ],
             [
              0.5555555555555556,
              "#d8576b"
             ],
             [
              0.6666666666666666,
              "#ed7953"
             ],
             [
              0.7777777777777778,
              "#fb9f3a"
             ],
             [
              0.8888888888888888,
              "#fdca26"
             ],
             [
              1,
              "#f0f921"
             ]
            ],
            "type": "surface"
           }
          ],
          "table": [
           {
            "cells": {
             "fill": {
              "color": "#EBF0F8"
             },
             "line": {
              "color": "white"
             }
            },
            "header": {
             "fill": {
              "color": "#C8D4E3"
             },
             "line": {
              "color": "white"
             }
            },
            "type": "table"
           }
          ]
         },
         "layout": {
          "annotationdefaults": {
           "arrowcolor": "#2a3f5f",
           "arrowhead": 0,
           "arrowwidth": 1
          },
          "autotypenumbers": "strict",
          "coloraxis": {
           "colorbar": {
            "outlinewidth": 0,
            "ticks": ""
           }
          },
          "colorscale": {
           "diverging": [
            [
             0,
             "#8e0152"
            ],
            [
             0.1,
             "#c51b7d"
            ],
            [
             0.2,
             "#de77ae"
            ],
            [
             0.3,
             "#f1b6da"
            ],
            [
             0.4,
             "#fde0ef"
            ],
            [
             0.5,
             "#f7f7f7"
            ],
            [
             0.6,
             "#e6f5d0"
            ],
            [
             0.7,
             "#b8e186"
            ],
            [
             0.8,
             "#7fbc41"
            ],
            [
             0.9,
             "#4d9221"
            ],
            [
             1,
             "#276419"
            ]
           ],
           "sequential": [
            [
             0,
             "#0d0887"
            ],
            [
             0.1111111111111111,
             "#46039f"
            ],
            [
             0.2222222222222222,
             "#7201a8"
            ],
            [
             0.3333333333333333,
             "#9c179e"
            ],
            [
             0.4444444444444444,
             "#bd3786"
            ],
            [
             0.5555555555555556,
             "#d8576b"
            ],
            [
             0.6666666666666666,
             "#ed7953"
            ],
            [
             0.7777777777777778,
             "#fb9f3a"
            ],
            [
             0.8888888888888888,
             "#fdca26"
            ],
            [
             1,
             "#f0f921"
            ]
           ],
           "sequentialminus": [
            [
             0,
             "#0d0887"
            ],
            [
             0.1111111111111111,
             "#46039f"
            ],
            [
             0.2222222222222222,
             "#7201a8"
            ],
            [
             0.3333333333333333,
             "#9c179e"
            ],
            [
             0.4444444444444444,
             "#bd3786"
            ],
            [
             0.5555555555555556,
             "#d8576b"
            ],
            [
             0.6666666666666666,
             "#ed7953"
            ],
            [
             0.7777777777777778,
             "#fb9f3a"
            ],
            [
             0.8888888888888888,
             "#fdca26"
            ],
            [
             1,
             "#f0f921"
            ]
           ]
          },
          "colorway": [
           "#636efa",
           "#EF553B",
           "#00cc96",
           "#ab63fa",
           "#FFA15A",
           "#19d3f3",
           "#FF6692",
           "#B6E880",
           "#FF97FF",
           "#FECB52"
          ],
          "font": {
           "color": "#2a3f5f"
          },
          "geo": {
           "bgcolor": "white",
           "lakecolor": "white",
           "landcolor": "#E5ECF6",
           "showlakes": true,
           "showland": true,
           "subunitcolor": "white"
          },
          "hoverlabel": {
           "align": "left"
          },
          "hovermode": "closest",
          "mapbox": {
           "style": "light"
          },
          "paper_bgcolor": "white",
          "plot_bgcolor": "#E5ECF6",
          "polar": {
           "angularaxis": {
            "gridcolor": "white",
            "linecolor": "white",
            "ticks": ""
           },
           "bgcolor": "#E5ECF6",
           "radialaxis": {
            "gridcolor": "white",
            "linecolor": "white",
            "ticks": ""
           }
          },
          "scene": {
           "xaxis": {
            "backgroundcolor": "#E5ECF6",
            "gridcolor": "white",
            "gridwidth": 2,
            "linecolor": "white",
            "showbackground": true,
            "ticks": "",
            "zerolinecolor": "white"
           },
           "yaxis": {
            "backgroundcolor": "#E5ECF6",
            "gridcolor": "white",
            "gridwidth": 2,
            "linecolor": "white",
            "showbackground": true,
            "ticks": "",
            "zerolinecolor": "white"
           },
           "zaxis": {
            "backgroundcolor": "#E5ECF6",
            "gridcolor": "white",
            "gridwidth": 2,
            "linecolor": "white",
            "showbackground": true,
            "ticks": "",
            "zerolinecolor": "white"
           }
          },
          "shapedefaults": {
           "line": {
            "color": "#2a3f5f"
           }
          },
          "ternary": {
           "aaxis": {
            "gridcolor": "white",
            "linecolor": "white",
            "ticks": ""
           },
           "baxis": {
            "gridcolor": "white",
            "linecolor": "white",
            "ticks": ""
           },
           "bgcolor": "#E5ECF6",
           "caxis": {
            "gridcolor": "white",
            "linecolor": "white",
            "ticks": ""
           }
          },
          "title": {
           "x": 0.05
          },
          "xaxis": {
           "automargin": true,
           "gridcolor": "white",
           "linecolor": "white",
           "ticks": "",
           "title": {
            "standoff": 15
           },
           "zerolinecolor": "white",
           "zerolinewidth": 2
          },
          "yaxis": {
           "automargin": true,
           "gridcolor": "white",
           "linecolor": "white",
           "ticks": "",
           "title": {
            "standoff": 15
           },
           "zerolinecolor": "white",
           "zerolinewidth": 2
          }
         }
        },
        "title": {
         "text": "Predicted Number of Received Applications (Top 10 Nationalities Based on All Years)"
        },
        "xaxis": {
         "anchor": "y",
         "domain": [
          0,
          1
         ],
         "title": {
          "text": "Year"
         }
        },
        "yaxis": {
         "anchor": "x",
         "domain": [
          0,
          1
         ],
         "title": {
          "text": "Applications"
         }
        }
       }
      }
     },
     "metadata": {},
     "output_type": "display_data"
    }
   ],
   "source": [
    "# Combine historical and predicted data for a complete view\n",
    "combined_data = pd.concat([top_10_data, future_predictions_all])\n",
    "\n",
    "# Line chart visualizing the trends for each nationality\n",
    "fig = px.line(combined_data, x='Year', y='Applications', color='Nationality',\n",
    "              title=\"Predicted Number of Received Applications (Top 10 Nationalities Based on All Years)\")\n",
    "fig.show()\n"
   ]
  },
  {
   "cell_type": "markdown",
   "metadata": {},
   "source": [
    "## Conclusion Section\n",
    "\n",
    "The analysis of the Domestic Residence & Permissions dataset provides key insights into application trends and decision patterns across multiple years and nationalities. Significant fluctuations in application volumes reflect global migration patterns, legislative changes, and socio-economic factors. Peaks in applications may correlate with global crises, such as the COVID-19 pandemic, while periods of decline could be linked to policy reforms.\n",
    "\n",
    "Applications from certain nationalities, such as Afghanistan, Nigeria, and India, consistently show higher refusal rates, indicating possible disparities in decision-making processes. These patterns could be linked to historical migration relations, documentation requirements, or geopolitical dynamics.\n",
    "\n",
    "Variability in approval and refusal rates suggests complex decision-making processes. Potential influencing factors could include the completeness of applications, legal frameworks, and bilateral agreements between Ireland and other nations.\n",
    "\n",
    "The continent-based analysis reveals disparities in application patterns, with European countries such as France and Germany, and Asian countries like India and China dominating the dataset, while regions such as South America and Oceania show lower representation. These trends could be influenced by geographic proximity, historical migration patterns, and visa policies.\n",
    "\n",
    "By selecting the **top 10 nationalities based on total received applications across all years** (including Algeria, Afghanistan, India, China, Nigeria, Brazil, Russia, France, Germany, and Pakistan), this analysis provides a clearer picture of historical trends and future predictions. Each nationality was analyzed individually with its own linear regression model, avoiding the issue of a single-country dominance in predictions. The projections for the next 10 years (2025-2034) indicate a continued growth in application volumes for the top nationalities, emphasizing the need for proactive policy adjustments and resource planning.\n",
    "\n",
    "### Future Considerations:\n",
    "\n",
    "- Expanding the dataset with variables such as visa categories, age demographics, and success rates based on document types could offer deeper insights into decision-making patterns.\n",
    "- Employing advanced statistical models and machine learning could help predict application outcomes more accurately based on historical data and applicant profiles.\n",
    "- Extending time-series forecasting techniques beyond linear regression, such as ARIMA models or Prophet forecasting, could improve prediction accuracy and handle complex data patterns.\n",
    "\n",
    "This analysis provides a comprehensive foundation for further research into Ireland's migration policies, enabling policymakers to make data-driven decisions and improve transparency in the application process.\n",
    "\n"
   ]
  },
  {
   "cell_type": "markdown",
   "metadata": {},
   "source": [
    "## References\n",
    "- [Data.gov.ie. (2024). Domestic Residence & Permissions Applications and Decisions by Year and Nationality.](https://data.gov.ie/dataset/domestic-residence-permissions-applications-and-decisions-year-and-nationality)\n",
    "- [McKinney, W. (2010). Data Structures for Statistical Computing in Python.](https://pandas.pydata.org/)\n",
    "- [Plotly Technologies Inc. (n.d.). Interactive Graphing Library for Python.](https://plotly.com/)\n",
    "- [NumPy Developers. (n.d.). NumPy: Fundamental package for scientific computing with Python.](https://numpy.org/)\n",
    "- [Pycountry-Convert. (n.d.). Python Library for Country and Continent Conversion.](https://pypi.org/project/pycountry-convert/)\n",
    "- [Image Source: Armax Group. (n.d.).](https://www.armaxgroup.com.ua/)\n"
   ]
  }
 ],
 "metadata": {
  "kernelspec": {
   "display_name": "base",
   "language": "python",
   "name": "python3"
  },
  "language_info": {
   "codemirror_mode": {
    "name": "ipython",
    "version": 3
   },
   "file_extension": ".py",
   "mimetype": "text/x-python",
   "name": "python",
   "nbconvert_exporter": "python",
   "pygments_lexer": "ipython3",
   "version": "3.11.7"
  }
 },
 "nbformat": 4,
 "nbformat_minor": 2
}
